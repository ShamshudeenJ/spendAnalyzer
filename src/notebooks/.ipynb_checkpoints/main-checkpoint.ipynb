{
 "cells": [
  {
   "cell_type": "markdown",
   "metadata": {},
   "source": [
    "# Expense Analysis"
   ]
  },
  {
   "cell_type": "code",
   "execution_count": 3,
   "metadata": {},
   "outputs": [
    {
     "name": "stdout",
     "output_type": "stream",
     "text": [
      "D:\\github\\spendAnalyzer\\src\n"
     ]
    },
    {
     "data": {
      "text/plain": [
       "DataTransformerRegistry.enable('vegafusion')"
      ]
     },
     "execution_count": 3,
     "metadata": {},
     "output_type": "execute_result"
    }
   ],
   "source": [
    "import altair as alt\n",
    "import os\n",
    "from IPython.display import Markdown as md\n",
    "os.chdir(\"..\")\n",
    "from models import expense\n",
    "\n",
    "alt.renderers.enable('default')\n",
    "alt.data_transformers.enable(\"vegafusion\")"
   ]
  },
  {
   "cell_type": "code",
   "execution_count": 4,
   "metadata": {},
   "outputs": [],
   "source": [
    "os.chdir('..')\n",
    "exp = expense.Expense(os.getcwd()+os.sep+'data'+os.sep+'expense.csv')"
   ]
  },
  {
   "cell_type": "markdown",
   "metadata": {},
   "source": [
    "## Monthly expense"
   ]
  },
  {
   "cell_type": "code",
   "execution_count": 9,
   "metadata": {},
   "outputs": [
    {
     "data": {
      "text/html": [
       "\n",
       "<style>\n",
       "  #altair-viz-04d5c3e0fec646e28a828336c81dccda.vega-embed {\n",
       "    width: 100%;\n",
       "    display: flex;\n",
       "  }\n",
       "\n",
       "  #altair-viz-04d5c3e0fec646e28a828336c81dccda.vega-embed details,\n",
       "  #altair-viz-04d5c3e0fec646e28a828336c81dccda.vega-embed details summary {\n",
       "    position: relative;\n",
       "  }\n",
       "</style>\n",
       "<div id=\"altair-viz-04d5c3e0fec646e28a828336c81dccda\"></div>\n",
       "<script type=\"text/javascript\">\n",
       "  var VEGA_DEBUG = (typeof VEGA_DEBUG == \"undefined\") ? {} : VEGA_DEBUG;\n",
       "  (function(spec, embedOpt){\n",
       "    let outputDiv = document.currentScript.previousElementSibling;\n",
       "    if (outputDiv.id !== \"altair-viz-04d5c3e0fec646e28a828336c81dccda\") {\n",
       "      outputDiv = document.getElementById(\"altair-viz-04d5c3e0fec646e28a828336c81dccda\");\n",
       "    }\n",
       "    const paths = {\n",
       "      \"vega\": \"https://cdn.jsdelivr.net/npm/vega@5?noext\",\n",
       "      \"vega-lib\": \"https://cdn.jsdelivr.net/npm/vega-lib?noext\",\n",
       "      \"vega-lite\": \"https://cdn.jsdelivr.net/npm/vega-lite@5.17.0?noext\",\n",
       "      \"vega-embed\": \"https://cdn.jsdelivr.net/npm/vega-embed@6?noext\",\n",
       "    };\n",
       "\n",
       "    function maybeLoadScript(lib, version) {\n",
       "      var key = `${lib.replace(\"-\", \"\")}_version`;\n",
       "      return (VEGA_DEBUG[key] == version) ?\n",
       "        Promise.resolve(paths[lib]) :\n",
       "        new Promise(function(resolve, reject) {\n",
       "          var s = document.createElement('script');\n",
       "          document.getElementsByTagName(\"head\")[0].appendChild(s);\n",
       "          s.async = true;\n",
       "          s.onload = () => {\n",
       "            VEGA_DEBUG[key] = version;\n",
       "            return resolve(paths[lib]);\n",
       "          };\n",
       "          s.onerror = () => reject(`Error loading script: ${paths[lib]}`);\n",
       "          s.src = paths[lib];\n",
       "        });\n",
       "    }\n",
       "\n",
       "    function showError(err) {\n",
       "      outputDiv.innerHTML = `<div class=\"error\" style=\"color:red;\">${err}</div>`;\n",
       "      throw err;\n",
       "    }\n",
       "\n",
       "    function displayChart(vegaEmbed) {\n",
       "      vegaEmbed(outputDiv, spec, embedOpt)\n",
       "        .catch(err => showError(`Javascript Error: ${err.message}<br>This usually means there's a typo in your chart specification. See the javascript console for the full traceback.`));\n",
       "    }\n",
       "\n",
       "    if(typeof define === \"function\" && define.amd) {\n",
       "      requirejs.config({paths});\n",
       "      require([\"vega-embed\"], displayChart, err => showError(`Error loading script: ${err.message}`));\n",
       "    } else {\n",
       "      maybeLoadScript(\"vega\", \"5\")\n",
       "        .then(() => maybeLoadScript(\"vega-lite\", \"5.17.0\"))\n",
       "        .then(() => maybeLoadScript(\"vega-embed\", \"6\"))\n",
       "        .catch(showError)\n",
       "        .then(() => displayChart(vegaEmbed));\n",
       "    }\n",
       "  })({\"$schema\": \"https://vega.github.io/schema/vega/v5.json\", \"data\": [{\"name\": \"param_4_store\"}, {\"name\": \"source_0\", \"values\": [{\"month_date\": \"2012-03-01T00:00:00.000\", \"sum_price\": 19183, \"year_date\": \"2018-01-01T00:00:00.000\", \"yearmonth_date\": \"2018-03-01T00:00:00.000\"}, {\"month_date\": \"2012-04-01T00:00:00.000\", \"sum_price\": 34192, \"year_date\": \"2018-01-01T00:00:00.000\", \"yearmonth_date\": \"2018-04-01T00:00:00.000\"}, {\"month_date\": \"2012-05-01T00:00:00.000\", \"sum_price\": 19057, \"year_date\": \"2018-01-01T00:00:00.000\", \"yearmonth_date\": \"2018-05-01T00:00:00.000\"}, {\"month_date\": \"2012-06-01T00:00:00.000\", \"sum_price\": 28942, \"year_date\": \"2018-01-01T00:00:00.000\", \"yearmonth_date\": \"2018-06-01T00:00:00.000\"}, {\"month_date\": \"2012-07-01T00:00:00.000\", \"sum_price\": 28622, \"year_date\": \"2018-01-01T00:00:00.000\", \"yearmonth_date\": \"2018-07-01T00:00:00.000\"}, {\"month_date\": \"2012-08-01T00:00:00.000\", \"sum_price\": 55519, \"year_date\": \"2018-01-01T00:00:00.000\", \"yearmonth_date\": \"2018-08-01T00:00:00.000\"}, {\"month_date\": \"2012-09-01T00:00:00.000\", \"sum_price\": 21665, \"year_date\": \"2018-01-01T00:00:00.000\", \"yearmonth_date\": \"2018-09-01T00:00:00.000\"}, {\"month_date\": \"2012-10-01T00:00:00.000\", \"sum_price\": 26939, \"year_date\": \"2018-01-01T00:00:00.000\", \"yearmonth_date\": \"2018-10-01T00:00:00.000\"}, {\"month_date\": \"2012-11-01T00:00:00.000\", \"sum_price\": 25467, \"year_date\": \"2018-01-01T00:00:00.000\", \"yearmonth_date\": \"2018-11-01T00:00:00.000\"}, {\"month_date\": \"2012-12-01T00:00:00.000\", \"sum_price\": 45338, \"year_date\": \"2018-01-01T00:00:00.000\", \"yearmonth_date\": \"2018-12-01T00:00:00.000\"}, {\"month_date\": \"2012-01-01T00:00:00.000\", \"sum_price\": 31667, \"year_date\": \"2019-01-01T00:00:00.000\", \"yearmonth_date\": \"2019-01-01T00:00:00.000\"}, {\"month_date\": \"2012-02-01T00:00:00.000\", \"sum_price\": 26909, \"year_date\": \"2019-01-01T00:00:00.000\", \"yearmonth_date\": \"2019-02-01T00:00:00.000\"}, {\"month_date\": \"2012-03-01T00:00:00.000\", \"sum_price\": 23041, \"year_date\": \"2019-01-01T00:00:00.000\", \"yearmonth_date\": \"2019-03-01T00:00:00.000\"}, {\"month_date\": \"2012-04-01T00:00:00.000\", \"sum_price\": 33874, \"year_date\": \"2019-01-01T00:00:00.000\", \"yearmonth_date\": \"2019-04-01T00:00:00.000\"}, {\"month_date\": \"2012-05-01T00:00:00.000\", \"sum_price\": 27119, \"year_date\": \"2019-01-01T00:00:00.000\", \"yearmonth_date\": \"2019-05-01T00:00:00.000\"}, {\"month_date\": \"2012-06-01T00:00:00.000\", \"sum_price\": 30990, \"year_date\": \"2019-01-01T00:00:00.000\", \"yearmonth_date\": \"2019-06-01T00:00:00.000\"}, {\"month_date\": \"2012-07-01T00:00:00.000\", \"sum_price\": 29068, \"year_date\": \"2019-01-01T00:00:00.000\", \"yearmonth_date\": \"2019-07-01T00:00:00.000\"}, {\"month_date\": \"2012-08-01T00:00:00.000\", \"sum_price\": 66664, \"year_date\": \"2019-01-01T00:00:00.000\", \"yearmonth_date\": \"2019-08-01T00:00:00.000\"}, {\"month_date\": \"2012-09-01T00:00:00.000\", \"sum_price\": 82705, \"year_date\": \"2019-01-01T00:00:00.000\", \"yearmonth_date\": \"2019-09-01T00:00:00.000\"}, {\"month_date\": \"2012-10-01T00:00:00.000\", \"sum_price\": 22566, \"year_date\": \"2019-01-01T00:00:00.000\", \"yearmonth_date\": \"2019-10-01T00:00:00.000\"}, {\"month_date\": \"2012-11-01T00:00:00.000\", \"sum_price\": 33972, \"year_date\": \"2019-01-01T00:00:00.000\", \"yearmonth_date\": \"2019-11-01T00:00:00.000\"}, {\"month_date\": \"2012-12-01T00:00:00.000\", \"sum_price\": 36986, \"year_date\": \"2019-01-01T00:00:00.000\", \"yearmonth_date\": \"2019-12-01T00:00:00.000\"}, {\"month_date\": \"2012-01-01T00:00:00.000\", \"sum_price\": 78282, \"year_date\": \"2020-01-01T00:00:00.000\", \"yearmonth_date\": \"2020-01-01T00:00:00.000\"}, {\"month_date\": \"2012-02-01T00:00:00.000\", \"sum_price\": 27623, \"year_date\": \"2020-01-01T00:00:00.000\", \"yearmonth_date\": \"2020-02-01T00:00:00.000\"}, {\"month_date\": \"2012-03-01T00:00:00.000\", \"sum_price\": 23233, \"year_date\": \"2020-01-01T00:00:00.000\", \"yearmonth_date\": \"2020-03-01T00:00:00.000\"}, {\"month_date\": \"2012-04-01T00:00:00.000\", \"sum_price\": 15774, \"year_date\": \"2020-01-01T00:00:00.000\", \"yearmonth_date\": \"2020-04-01T00:00:00.000\"}, {\"month_date\": \"2012-05-01T00:00:00.000\", \"sum_price\": 22930, \"year_date\": \"2020-01-01T00:00:00.000\", \"yearmonth_date\": \"2020-05-01T00:00:00.000\"}, {\"month_date\": \"2012-06-01T00:00:00.000\", \"sum_price\": 29031, \"year_date\": \"2020-01-01T00:00:00.000\", \"yearmonth_date\": \"2020-06-01T00:00:00.000\"}, {\"month_date\": \"2012-07-01T00:00:00.000\", \"sum_price\": 21877, \"year_date\": \"2020-01-01T00:00:00.000\", \"yearmonth_date\": \"2020-07-01T00:00:00.000\"}, {\"month_date\": \"2012-08-01T00:00:00.000\", \"sum_price\": 39795, \"year_date\": \"2020-01-01T00:00:00.000\", \"yearmonth_date\": \"2020-08-01T00:00:00.000\"}, {\"month_date\": \"2012-09-01T00:00:00.000\", \"sum_price\": 19416, \"year_date\": \"2020-01-01T00:00:00.000\", \"yearmonth_date\": \"2020-09-01T00:00:00.000\"}, {\"month_date\": \"2012-10-01T00:00:00.000\", \"sum_price\": 30476, \"year_date\": \"2020-01-01T00:00:00.000\", \"yearmonth_date\": \"2020-10-01T00:00:00.000\"}, {\"month_date\": \"2012-11-01T00:00:00.000\", \"sum_price\": 25236, \"year_date\": \"2020-01-01T00:00:00.000\", \"yearmonth_date\": \"2020-11-01T00:00:00.000\"}, {\"month_date\": \"2012-12-01T00:00:00.000\", \"sum_price\": 43245, \"year_date\": \"2020-01-01T00:00:00.000\", \"yearmonth_date\": \"2020-12-01T00:00:00.000\"}, {\"month_date\": \"2012-01-01T00:00:00.000\", \"sum_price\": 54028, \"year_date\": \"2021-01-01T00:00:00.000\", \"yearmonth_date\": \"2021-01-01T00:00:00.000\"}, {\"month_date\": \"2012-02-01T00:00:00.000\", \"sum_price\": 35580, \"year_date\": \"2021-01-01T00:00:00.000\", \"yearmonth_date\": \"2021-02-01T00:00:00.000\"}, {\"month_date\": \"2012-03-01T00:00:00.000\", \"sum_price\": 25651, \"year_date\": \"2021-01-01T00:00:00.000\", \"yearmonth_date\": \"2021-03-01T00:00:00.000\"}, {\"month_date\": \"2012-04-01T00:00:00.000\", \"sum_price\": 44842, \"year_date\": \"2021-01-01T00:00:00.000\", \"yearmonth_date\": \"2021-04-01T00:00:00.000\"}, {\"month_date\": \"2012-05-01T00:00:00.000\", \"sum_price\": 30757, \"year_date\": \"2021-01-01T00:00:00.000\", \"yearmonth_date\": \"2021-05-01T00:00:00.000\"}, {\"month_date\": \"2012-06-01T00:00:00.000\", \"sum_price\": 41043, \"year_date\": \"2021-01-01T00:00:00.000\", \"yearmonth_date\": \"2021-06-01T00:00:00.000\"}, {\"month_date\": \"2012-07-01T00:00:00.000\", \"sum_price\": 51235, \"year_date\": \"2021-01-01T00:00:00.000\", \"yearmonth_date\": \"2021-07-01T00:00:00.000\"}, {\"month_date\": \"2012-08-01T00:00:00.000\", \"sum_price\": 38760, \"year_date\": \"2021-01-01T00:00:00.000\", \"yearmonth_date\": \"2021-08-01T00:00:00.000\"}, {\"month_date\": \"2012-09-01T00:00:00.000\", \"sum_price\": 58508, \"year_date\": \"2021-01-01T00:00:00.000\", \"yearmonth_date\": \"2021-09-01T00:00:00.000\"}, {\"month_date\": \"2012-10-01T00:00:00.000\", \"sum_price\": 64912, \"year_date\": \"2021-01-01T00:00:00.000\", \"yearmonth_date\": \"2021-10-01T00:00:00.000\"}, {\"month_date\": \"2012-11-01T00:00:00.000\", \"sum_price\": 52258, \"year_date\": \"2021-01-01T00:00:00.000\", \"yearmonth_date\": \"2021-11-01T00:00:00.000\"}, {\"month_date\": \"2012-12-01T00:00:00.000\", \"sum_price\": 20705, \"year_date\": \"2021-01-01T00:00:00.000\", \"yearmonth_date\": \"2021-12-01T00:00:00.000\"}, {\"month_date\": \"2012-01-01T00:00:00.000\", \"sum_price\": 49293, \"year_date\": \"2022-01-01T00:00:00.000\", \"yearmonth_date\": \"2022-01-01T00:00:00.000\"}, {\"month_date\": \"2012-02-01T00:00:00.000\", \"sum_price\": 41119, \"year_date\": \"2022-01-01T00:00:00.000\", \"yearmonth_date\": \"2022-02-01T00:00:00.000\"}, {\"month_date\": \"2012-03-01T00:00:00.000\", \"sum_price\": 54458, \"year_date\": \"2022-01-01T00:00:00.000\", \"yearmonth_date\": \"2022-03-01T00:00:00.000\"}, {\"month_date\": \"2012-04-01T00:00:00.000\", \"sum_price\": 60447, \"year_date\": \"2022-01-01T00:00:00.000\", \"yearmonth_date\": \"2022-04-01T00:00:00.000\"}, {\"month_date\": \"2012-05-01T00:00:00.000\", \"sum_price\": 58500, \"year_date\": \"2022-01-01T00:00:00.000\", \"yearmonth_date\": \"2022-05-01T00:00:00.000\"}, {\"month_date\": \"2012-06-01T00:00:00.000\", \"sum_price\": 40074, \"year_date\": \"2022-01-01T00:00:00.000\", \"yearmonth_date\": \"2022-06-01T00:00:00.000\"}, {\"month_date\": \"2012-07-01T00:00:00.000\", \"sum_price\": 63631, \"year_date\": \"2022-01-01T00:00:00.000\", \"yearmonth_date\": \"2022-07-01T00:00:00.000\"}, {\"month_date\": \"2012-08-01T00:00:00.000\", \"sum_price\": 44998, \"year_date\": \"2022-01-01T00:00:00.000\", \"yearmonth_date\": \"2022-08-01T00:00:00.000\"}, {\"month_date\": \"2012-09-01T00:00:00.000\", \"sum_price\": 44006, \"year_date\": \"2022-01-01T00:00:00.000\", \"yearmonth_date\": \"2022-09-01T00:00:00.000\"}, {\"month_date\": \"2012-10-01T00:00:00.000\", \"sum_price\": 31754, \"year_date\": \"2022-01-01T00:00:00.000\", \"yearmonth_date\": \"2022-10-01T00:00:00.000\"}, {\"month_date\": \"2012-11-01T00:00:00.000\", \"sum_price\": 65402, \"year_date\": \"2022-01-01T00:00:00.000\", \"yearmonth_date\": \"2022-11-01T00:00:00.000\"}, {\"month_date\": \"2012-12-01T00:00:00.000\", \"sum_price\": 44617, \"year_date\": \"2022-01-01T00:00:00.000\", \"yearmonth_date\": \"2022-12-01T00:00:00.000\"}, {\"month_date\": \"2012-01-01T00:00:00.000\", \"sum_price\": 36922, \"year_date\": \"2023-01-01T00:00:00.000\", \"yearmonth_date\": \"2023-01-01T00:00:00.000\"}, {\"month_date\": \"2012-02-01T00:00:00.000\", \"sum_price\": 56614, \"year_date\": \"2023-01-01T00:00:00.000\", \"yearmonth_date\": \"2023-02-01T00:00:00.000\"}, {\"month_date\": \"2012-03-01T00:00:00.000\", \"sum_price\": 40502, \"year_date\": \"2023-01-01T00:00:00.000\", \"yearmonth_date\": \"2023-03-01T00:00:00.000\"}, {\"month_date\": \"2012-04-01T00:00:00.000\", \"sum_price\": 51432, \"year_date\": \"2023-01-01T00:00:00.000\", \"yearmonth_date\": \"2023-04-01T00:00:00.000\"}, {\"month_date\": \"2012-05-01T00:00:00.000\", \"sum_price\": 115147, \"year_date\": \"2023-01-01T00:00:00.000\", \"yearmonth_date\": \"2023-05-01T00:00:00.000\"}, {\"month_date\": \"2012-06-01T00:00:00.000\", \"sum_price\": 53833, \"year_date\": \"2023-01-01T00:00:00.000\", \"yearmonth_date\": \"2023-06-01T00:00:00.000\"}, {\"month_date\": \"2012-07-01T00:00:00.000\", \"sum_price\": 54182, \"year_date\": \"2023-01-01T00:00:00.000\", \"yearmonth_date\": \"2023-07-01T00:00:00.000\"}, {\"month_date\": \"2012-08-01T00:00:00.000\", \"sum_price\": 92769, \"year_date\": \"2023-01-01T00:00:00.000\", \"yearmonth_date\": \"2023-08-01T00:00:00.000\"}, {\"month_date\": \"2012-09-01T00:00:00.000\", \"sum_price\": 93638, \"year_date\": \"2023-01-01T00:00:00.000\", \"yearmonth_date\": \"2023-09-01T00:00:00.000\"}, {\"month_date\": \"2012-10-01T00:00:00.000\", \"sum_price\": 68449, \"year_date\": \"2023-01-01T00:00:00.000\", \"yearmonth_date\": \"2023-10-01T00:00:00.000\"}, {\"month_date\": \"2012-11-01T00:00:00.000\", \"sum_price\": 37772, \"year_date\": \"2023-01-01T00:00:00.000\", \"yearmonth_date\": \"2023-11-01T00:00:00.000\"}, {\"month_date\": \"2012-12-01T00:00:00.000\", \"sum_price\": 97338, \"year_date\": \"2023-01-01T00:00:00.000\", \"yearmonth_date\": \"2023-12-01T00:00:00.000\"}, {\"month_date\": \"2012-01-01T00:00:00.000\", \"sum_price\": 55360, \"year_date\": \"2024-01-01T00:00:00.000\", \"yearmonth_date\": \"2024-01-01T00:00:00.000\"}, {\"month_date\": \"2012-02-01T00:00:00.000\", \"sum_price\": 78208, \"year_date\": \"2024-01-01T00:00:00.000\", \"yearmonth_date\": \"2024-02-01T00:00:00.000\"}, {\"month_date\": \"2012-03-01T00:00:00.000\", \"sum_price\": 65045, \"year_date\": \"2024-01-01T00:00:00.000\", \"yearmonth_date\": \"2024-03-01T00:00:00.000\"}, {\"month_date\": \"2012-04-01T00:00:00.000\", \"sum_price\": 106415, \"year_date\": \"2024-01-01T00:00:00.000\", \"yearmonth_date\": \"2024-04-01T00:00:00.000\"}, {\"month_date\": \"2012-05-01T00:00:00.000\", \"sum_price\": 55943, \"year_date\": \"2024-01-01T00:00:00.000\", \"yearmonth_date\": \"2024-05-01T00:00:00.000\"}, {\"month_date\": \"2012-06-01T00:00:00.000\", \"sum_price\": 65908, \"year_date\": \"2024-01-01T00:00:00.000\", \"yearmonth_date\": \"2024-06-01T00:00:00.000\"}], \"transform\": [{\"type\": \"formula\", \"expr\": \"toDate(datum['yearmonth_date'])\", \"as\": \"yearmonth_date\"}, {\"type\": \"formula\", \"expr\": \"toDate(datum['year_date'])\", \"as\": \"year_date\"}, {\"type\": \"formula\", \"expr\": \"toDate(datum['month_date'])\", \"as\": \"month_date\"}]}, {\"name\": \"source_0_x_domain_year_date\", \"values\": [{\"year_date\": \"2018-01-01T00:00:00.000\"}, {\"year_date\": \"2019-01-01T00:00:00.000\"}, {\"year_date\": \"2020-01-01T00:00:00.000\"}, {\"year_date\": \"2021-01-01T00:00:00.000\"}, {\"year_date\": \"2022-01-01T00:00:00.000\"}, {\"year_date\": \"2023-01-01T00:00:00.000\"}, {\"year_date\": \"2024-01-01T00:00:00.000\"}], \"transform\": [{\"type\": \"formula\", \"expr\": \"toDate(datum['year_date'])\", \"as\": \"year_date\"}]}, {\"name\": \"source_0_y_domain_month_date\", \"values\": [{\"month_date\": \"2012-03-01T00:00:00.000\"}, {\"month_date\": \"2012-04-01T00:00:00.000\"}, {\"month_date\": \"2012-05-01T00:00:00.000\"}, {\"month_date\": \"2012-06-01T00:00:00.000\"}, {\"month_date\": \"2012-07-01T00:00:00.000\"}, {\"month_date\": \"2012-08-01T00:00:00.000\"}, {\"month_date\": \"2012-09-01T00:00:00.000\"}, {\"month_date\": \"2012-10-01T00:00:00.000\"}, {\"month_date\": \"2012-11-01T00:00:00.000\"}, {\"month_date\": \"2012-12-01T00:00:00.000\"}, {\"month_date\": \"2012-01-01T00:00:00.000\"}, {\"month_date\": \"2012-02-01T00:00:00.000\"}], \"transform\": [{\"type\": \"formula\", \"expr\": \"toDate(datum['month_date'])\", \"as\": \"month_date\"}]}, {\"name\": \"source_0_color_domain_sum_price\", \"values\": [{\"min\": 15774, \"max\": 115147}]}], \"signals\": [{\"name\": \"unit\", \"value\": {}, \"on\": [{\"events\": \"pointermove\", \"update\": \"isTuple(group()) ? group() : unit\"}]}, {\"name\": \"param_4\", \"update\": \"vlSelectionResolve(\\\"param_4_store\\\", \\\"union\\\")\"}, {\"name\": \"param_4_year_date\", \"on\": [{\"events\": [{\"source\": \"view\", \"type\": \"dblclick\"}], \"update\": \"null\"}, {\"events\": {\"signal\": \"param_4_translate_delta\"}, \"update\": \"panLinear(param_4_translate_anchor.extent_x, -param_4_translate_delta.x / width)\"}, {\"events\": {\"signal\": \"param_4_zoom_delta\"}, \"update\": \"zoomLinear(domain(\\\"x\\\"), param_4_zoom_anchor.x, param_4_zoom_delta)\"}]}, {\"name\": \"param_4_month_date\", \"on\": [{\"events\": [{\"source\": \"view\", \"type\": \"dblclick\"}], \"update\": \"null\"}, {\"events\": {\"signal\": \"param_4_translate_delta\"}, \"update\": \"panLinear(param_4_translate_anchor.extent_y, param_4_translate_delta.y / height)\"}, {\"events\": {\"signal\": \"param_4_zoom_delta\"}, \"update\": \"zoomLinear(domain(\\\"y\\\"), param_4_zoom_anchor.y, param_4_zoom_delta)\"}]}, {\"name\": \"param_4_tuple\", \"on\": [{\"events\": [{\"signal\": \"param_4_year_date || param_4_month_date\"}], \"update\": \"param_4_year_date && param_4_month_date ? {unit: \\\"\\\", fields: param_4_tuple_fields, values: [param_4_year_date,param_4_month_date]} : null\"}]}, {\"name\": \"param_4_tuple_fields\", \"value\": [{\"field\": \"year_date\", \"channel\": \"x\", \"type\": \"E\"}, {\"field\": \"month_date\", \"channel\": \"y\", \"type\": \"E\"}]}, {\"name\": \"param_4_translate_anchor\", \"value\": {}, \"on\": [{\"events\": [{\"source\": \"scope\", \"type\": \"pointerdown\"}], \"update\": \"{x: x(unit), y: y(unit), extent_x: domain(\\\"x\\\"), extent_y: domain(\\\"y\\\")}\"}]}, {\"name\": \"param_4_translate_delta\", \"value\": {}, \"on\": [{\"events\": [{\"source\": \"window\", \"between\": [{\"source\": \"scope\", \"type\": \"pointerdown\"}, {\"source\": \"window\", \"type\": \"pointerup\"}], \"type\": \"pointermove\", \"consume\": true}], \"update\": \"{x: param_4_translate_anchor.x - x(unit), y: param_4_translate_anchor.y - y(unit)}\"}]}, {\"name\": \"param_4_zoom_anchor\", \"on\": [{\"events\": [{\"source\": \"scope\", \"type\": \"wheel\", \"consume\": true}], \"update\": \"{x: invert(\\\"x\\\", x(unit)), y: invert(\\\"y\\\", y(unit))}\"}]}, {\"name\": \"param_4_zoom_delta\", \"on\": [{\"events\": [{\"source\": \"scope\", \"consume\": true, \"type\": \"wheel\"}], \"update\": \"pow(1.001, event.deltaY * pow(16, event.deltaMode))\", \"force\": true}]}, {\"name\": \"param_4_modify\", \"on\": [{\"events\": {\"signal\": \"param_4_tuple\"}, \"update\": \"modify(\\\"param_4_store\\\", param_4_tuple, true)\"}]}], \"marks\": [{\"type\": \"rect\", \"name\": \"marks\", \"from\": {\"data\": \"source_0\"}, \"encode\": {\"update\": {\"width\": {\"signal\": \"max(0.25, bandwidth('x'))\"}, \"tooltip\": {\"signal\": \"{\\\"date (year-month)\\\": timeFormat(datum[\\\"yearmonth_date\\\"], timeUnitSpecifier([\\\"year\\\",\\\"month\\\"], {\\\"year-month\\\":\\\"%b %Y \\\",\\\"year-month-date\\\":\\\"%b %d, %Y \\\"})), \\\"Sum of price\\\": format(datum[\\\"sum_price\\\"], \\\"\\\")}\"}, \"y\": {\"field\": \"month_date\", \"scale\": \"y\"}, \"height\": {\"signal\": \"max(0.25, bandwidth('y'))\"}, \"x\": {\"field\": \"year_date\", \"scale\": \"x\"}, \"fill\": {\"field\": \"sum_price\", \"scale\": \"color\"}}}, \"interactive\": true, \"style\": [\"rect\"]}], \"scales\": [{\"name\": \"x\", \"type\": \"band\", \"domain\": {\"data\": \"source_0_x_domain_year_date\", \"field\": \"year_date\", \"sort\": true}, \"range\": [0, {\"signal\": \"width\"}], \"paddingInner\": 0, \"paddingOuter\": 0}, {\"name\": \"y\", \"type\": \"band\", \"domain\": {\"data\": \"source_0_y_domain_month_date\", \"field\": \"month_date\", \"sort\": true}, \"range\": [0, {\"signal\": \"height\"}], \"paddingInner\": 0, \"paddingOuter\": 0}, {\"name\": \"color\", \"type\": \"linear\", \"domain\": [{\"signal\": \"(data(\\\"source_0_color_domain_sum_price\\\")[0] || {}).min\"}, {\"signal\": \"(data(\\\"source_0_color_domain_sum_price\\\")[0] || {}).max\"}], \"range\": \"heatmap\", \"zero\": false, \"interpolate\": \"hcl\"}], \"axes\": [{\"scale\": \"x\", \"formatType\": \"time\", \"format\": {\"signal\": \"timeUnitSpecifier([\\\"year\\\"], {\\\"year-month\\\":\\\"%b %Y \\\",\\\"year-month-date\\\":\\\"%b %d, %Y \\\"})\"}, \"orient\": \"bottom\", \"labelOverlap\": true, \"zindex\": 1, \"tickMinStep\": {\"signal\": \"datetime(2002, 0, 1, 0, 0, 0, 0) - datetime(2001, 0, 1, 0, 0, 0, 0)\"}, \"grid\": false, \"title\": \"date (year)\"}, {\"scale\": \"y\", \"formatType\": \"time\", \"zindex\": 1, \"format\": {\"signal\": \"timeUnitSpecifier([\\\"month\\\"], {\\\"year-month\\\":\\\"%b %Y \\\",\\\"year-month-date\\\":\\\"%b %d, %Y \\\"})\"}, \"grid\": false, \"orient\": \"left\", \"title\": \"date (month)\", \"labelOverlap\": true, \"tickMinStep\": {\"signal\": \"datetime(2001, 1, 1, 0, 0, 0, 0) - datetime(2001, 0, 1, 0, 0, 0, 0)\"}}], \"style\": \"cell\", \"legends\": [{\"fill\": \"color\", \"gradientLength\": {\"signal\": \"clamp(height, 64, 200)\"}, \"title\": \"Sum of price\"}], \"width\": 500, \"background\": \"white\", \"padding\": 5, \"height\": 300}, {\"mode\": \"vega\"});\n",
       "</script>"
      ],
      "text/plain": [
       "alt.Chart(...)"
      ]
     },
     "execution_count": 9,
     "metadata": {},
     "output_type": "execute_result"
    }
   ],
   "source": [
    "exp.heatmap().properties(height=300,width=500)"
   ]
  },
  {
   "cell_type": "code",
   "execution_count": 6,
   "metadata": {},
   "outputs": [
    {
     "data": {
      "text/html": [
       "\n",
       "<style>\n",
       "  #altair-viz-73b66bbf001d4abcb971b1296230a1e5.vega-embed {\n",
       "    width: 100%;\n",
       "    display: flex;\n",
       "  }\n",
       "\n",
       "  #altair-viz-73b66bbf001d4abcb971b1296230a1e5.vega-embed details,\n",
       "  #altair-viz-73b66bbf001d4abcb971b1296230a1e5.vega-embed details summary {\n",
       "    position: relative;\n",
       "  }\n",
       "</style>\n",
       "<div id=\"altair-viz-73b66bbf001d4abcb971b1296230a1e5\"></div>\n",
       "<script type=\"text/javascript\">\n",
       "  var VEGA_DEBUG = (typeof VEGA_DEBUG == \"undefined\") ? {} : VEGA_DEBUG;\n",
       "  (function(spec, embedOpt){\n",
       "    let outputDiv = document.currentScript.previousElementSibling;\n",
       "    if (outputDiv.id !== \"altair-viz-73b66bbf001d4abcb971b1296230a1e5\") {\n",
       "      outputDiv = document.getElementById(\"altair-viz-73b66bbf001d4abcb971b1296230a1e5\");\n",
       "    }\n",
       "    const paths = {\n",
       "      \"vega\": \"https://cdn.jsdelivr.net/npm/vega@5?noext\",\n",
       "      \"vega-lib\": \"https://cdn.jsdelivr.net/npm/vega-lib?noext\",\n",
       "      \"vega-lite\": \"https://cdn.jsdelivr.net/npm/vega-lite@5.17.0?noext\",\n",
       "      \"vega-embed\": \"https://cdn.jsdelivr.net/npm/vega-embed@6?noext\",\n",
       "    };\n",
       "\n",
       "    function maybeLoadScript(lib, version) {\n",
       "      var key = `${lib.replace(\"-\", \"\")}_version`;\n",
       "      return (VEGA_DEBUG[key] == version) ?\n",
       "        Promise.resolve(paths[lib]) :\n",
       "        new Promise(function(resolve, reject) {\n",
       "          var s = document.createElement('script');\n",
       "          document.getElementsByTagName(\"head\")[0].appendChild(s);\n",
       "          s.async = true;\n",
       "          s.onload = () => {\n",
       "            VEGA_DEBUG[key] = version;\n",
       "            return resolve(paths[lib]);\n",
       "          };\n",
       "          s.onerror = () => reject(`Error loading script: ${paths[lib]}`);\n",
       "          s.src = paths[lib];\n",
       "        });\n",
       "    }\n",
       "\n",
       "    function showError(err) {\n",
       "      outputDiv.innerHTML = `<div class=\"error\" style=\"color:red;\">${err}</div>`;\n",
       "      throw err;\n",
       "    }\n",
       "\n",
       "    function displayChart(vegaEmbed) {\n",
       "      vegaEmbed(outputDiv, spec, embedOpt)\n",
       "        .catch(err => showError(`Javascript Error: ${err.message}<br>This usually means there's a typo in your chart specification. See the javascript console for the full traceback.`));\n",
       "    }\n",
       "\n",
       "    if(typeof define === \"function\" && define.amd) {\n",
       "      requirejs.config({paths});\n",
       "      require([\"vega-embed\"], displayChart, err => showError(`Error loading script: ${err.message}`));\n",
       "    } else {\n",
       "      maybeLoadScript(\"vega\", \"5\")\n",
       "        .then(() => maybeLoadScript(\"vega-lite\", \"5.17.0\"))\n",
       "        .then(() => maybeLoadScript(\"vega-embed\", \"6\"))\n",
       "        .catch(showError)\n",
       "        .then(() => displayChart(vegaEmbed));\n",
       "    }\n",
       "  })({\"$schema\": \"https://vega.github.io/schema/vega/v5.json\", \"data\": [{\"name\": \"param_2_store\"}, {\"name\": \"source_0\", \"values\": [{\"sum_price\": 19183, \"yearmonth_date\": \"2018-03-01T00:00:00.000\"}, {\"sum_price\": 34192, \"yearmonth_date\": \"2018-04-01T00:00:00.000\"}, {\"sum_price\": 19057, \"yearmonth_date\": \"2018-05-01T00:00:00.000\"}, {\"sum_price\": 28942, \"yearmonth_date\": \"2018-06-01T00:00:00.000\"}, {\"sum_price\": 28622, \"yearmonth_date\": \"2018-07-01T00:00:00.000\"}, {\"sum_price\": 55519, \"yearmonth_date\": \"2018-08-01T00:00:00.000\"}, {\"sum_price\": 21665, \"yearmonth_date\": \"2018-09-01T00:00:00.000\"}, {\"sum_price\": 26939, \"yearmonth_date\": \"2018-10-01T00:00:00.000\"}, {\"sum_price\": 25467, \"yearmonth_date\": \"2018-11-01T00:00:00.000\"}, {\"sum_price\": 45338, \"yearmonth_date\": \"2018-12-01T00:00:00.000\"}, {\"sum_price\": 31667, \"yearmonth_date\": \"2019-01-01T00:00:00.000\"}, {\"sum_price\": 26909, \"yearmonth_date\": \"2019-02-01T00:00:00.000\"}, {\"sum_price\": 23041, \"yearmonth_date\": \"2019-03-01T00:00:00.000\"}, {\"sum_price\": 33874, \"yearmonth_date\": \"2019-04-01T00:00:00.000\"}, {\"sum_price\": 27119, \"yearmonth_date\": \"2019-05-01T00:00:00.000\"}, {\"sum_price\": 30990, \"yearmonth_date\": \"2019-06-01T00:00:00.000\"}, {\"sum_price\": 29068, \"yearmonth_date\": \"2019-07-01T00:00:00.000\"}, {\"sum_price\": 66664, \"yearmonth_date\": \"2019-08-01T00:00:00.000\"}, {\"sum_price\": 82705, \"yearmonth_date\": \"2019-09-01T00:00:00.000\"}, {\"sum_price\": 22566, \"yearmonth_date\": \"2019-10-01T00:00:00.000\"}, {\"sum_price\": 33972, \"yearmonth_date\": \"2019-11-01T00:00:00.000\"}, {\"sum_price\": 36986, \"yearmonth_date\": \"2019-12-01T00:00:00.000\"}, {\"sum_price\": 78282, \"yearmonth_date\": \"2020-01-01T00:00:00.000\"}, {\"sum_price\": 27623, \"yearmonth_date\": \"2020-02-01T00:00:00.000\"}, {\"sum_price\": 23233, \"yearmonth_date\": \"2020-03-01T00:00:00.000\"}, {\"sum_price\": 15774, \"yearmonth_date\": \"2020-04-01T00:00:00.000\"}, {\"sum_price\": 22930, \"yearmonth_date\": \"2020-05-01T00:00:00.000\"}, {\"sum_price\": 29031, \"yearmonth_date\": \"2020-06-01T00:00:00.000\"}, {\"sum_price\": 21877, \"yearmonth_date\": \"2020-07-01T00:00:00.000\"}, {\"sum_price\": 39795, \"yearmonth_date\": \"2020-08-01T00:00:00.000\"}, {\"sum_price\": 19416, \"yearmonth_date\": \"2020-09-01T00:00:00.000\"}, {\"sum_price\": 30476, \"yearmonth_date\": \"2020-10-01T00:00:00.000\"}, {\"sum_price\": 25236, \"yearmonth_date\": \"2020-11-01T00:00:00.000\"}, {\"sum_price\": 43245, \"yearmonth_date\": \"2020-12-01T00:00:00.000\"}, {\"sum_price\": 54028, \"yearmonth_date\": \"2021-01-01T00:00:00.000\"}, {\"sum_price\": 35580, \"yearmonth_date\": \"2021-02-01T00:00:00.000\"}, {\"sum_price\": 25651, \"yearmonth_date\": \"2021-03-01T00:00:00.000\"}, {\"sum_price\": 44842, \"yearmonth_date\": \"2021-04-01T00:00:00.000\"}, {\"sum_price\": 30757, \"yearmonth_date\": \"2021-05-01T00:00:00.000\"}, {\"sum_price\": 41043, \"yearmonth_date\": \"2021-06-01T00:00:00.000\"}, {\"sum_price\": 51235, \"yearmonth_date\": \"2021-07-01T00:00:00.000\"}, {\"sum_price\": 38760, \"yearmonth_date\": \"2021-08-01T00:00:00.000\"}, {\"sum_price\": 58508, \"yearmonth_date\": \"2021-09-01T00:00:00.000\"}, {\"sum_price\": 64912, \"yearmonth_date\": \"2021-10-01T00:00:00.000\"}, {\"sum_price\": 52258, \"yearmonth_date\": \"2021-11-01T00:00:00.000\"}, {\"sum_price\": 20705, \"yearmonth_date\": \"2021-12-01T00:00:00.000\"}, {\"sum_price\": 49293, \"yearmonth_date\": \"2022-01-01T00:00:00.000\"}, {\"sum_price\": 41119, \"yearmonth_date\": \"2022-02-01T00:00:00.000\"}, {\"sum_price\": 54458, \"yearmonth_date\": \"2022-03-01T00:00:00.000\"}, {\"sum_price\": 60447, \"yearmonth_date\": \"2022-04-01T00:00:00.000\"}, {\"sum_price\": 58500, \"yearmonth_date\": \"2022-05-01T00:00:00.000\"}, {\"sum_price\": 40074, \"yearmonth_date\": \"2022-06-01T00:00:00.000\"}, {\"sum_price\": 63631, \"yearmonth_date\": \"2022-07-01T00:00:00.000\"}, {\"sum_price\": 44998, \"yearmonth_date\": \"2022-08-01T00:00:00.000\"}, {\"sum_price\": 44006, \"yearmonth_date\": \"2022-09-01T00:00:00.000\"}, {\"sum_price\": 31754, \"yearmonth_date\": \"2022-10-01T00:00:00.000\"}, {\"sum_price\": 65402, \"yearmonth_date\": \"2022-11-01T00:00:00.000\"}, {\"sum_price\": 44617, \"yearmonth_date\": \"2022-12-01T00:00:00.000\"}, {\"sum_price\": 36922, \"yearmonth_date\": \"2023-01-01T00:00:00.000\"}, {\"sum_price\": 56614, \"yearmonth_date\": \"2023-02-01T00:00:00.000\"}, {\"sum_price\": 40502, \"yearmonth_date\": \"2023-03-01T00:00:00.000\"}, {\"sum_price\": 51432, \"yearmonth_date\": \"2023-04-01T00:00:00.000\"}, {\"sum_price\": 115147, \"yearmonth_date\": \"2023-05-01T00:00:00.000\"}, {\"sum_price\": 53833, \"yearmonth_date\": \"2023-06-01T00:00:00.000\"}, {\"sum_price\": 54182, \"yearmonth_date\": \"2023-07-01T00:00:00.000\"}, {\"sum_price\": 92769, \"yearmonth_date\": \"2023-08-01T00:00:00.000\"}, {\"sum_price\": 93638, \"yearmonth_date\": \"2023-09-01T00:00:00.000\"}, {\"sum_price\": 68449, \"yearmonth_date\": \"2023-10-01T00:00:00.000\"}, {\"sum_price\": 37772, \"yearmonth_date\": \"2023-11-01T00:00:00.000\"}, {\"sum_price\": 97338, \"yearmonth_date\": \"2023-12-01T00:00:00.000\"}, {\"sum_price\": 55360, \"yearmonth_date\": \"2024-01-01T00:00:00.000\"}, {\"sum_price\": 78208, \"yearmonth_date\": \"2024-02-01T00:00:00.000\"}, {\"sum_price\": 65045, \"yearmonth_date\": \"2024-03-01T00:00:00.000\"}, {\"sum_price\": 106415, \"yearmonth_date\": \"2024-04-01T00:00:00.000\"}, {\"sum_price\": 55943, \"yearmonth_date\": \"2024-05-01T00:00:00.000\"}, {\"sum_price\": 65908, \"yearmonth_date\": \"2024-06-01T00:00:00.000\"}], \"transform\": [{\"type\": \"formula\", \"expr\": \"toDate(datum['yearmonth_date'])\", \"as\": \"yearmonth_date\"}]}, {\"name\": \"source_0_y_domain_sum_price\", \"values\": [{\"min\": 15774, \"max\": 115147}]}], \"signals\": [{\"name\": \"unit\", \"value\": {}, \"on\": [{\"events\": \"pointermove\", \"update\": \"isTuple(group()) ? group() : unit\"}]}, {\"name\": \"param_2\", \"update\": \"vlSelectionResolve(\\\"param_2_store\\\", \\\"union\\\")\"}, {\"name\": \"param_2_yearmonth_date\", \"on\": [{\"events\": [{\"source\": \"view\", \"type\": \"dblclick\"}], \"update\": \"null\"}, {\"events\": {\"signal\": \"param_2_translate_delta\"}, \"update\": \"panLinear(param_2_translate_anchor.extent_x, -param_2_translate_delta.x / width)\"}, {\"events\": {\"signal\": \"param_2_zoom_delta\"}, \"update\": \"zoomLinear(domain(\\\"x\\\"), param_2_zoom_anchor.x, param_2_zoom_delta)\"}]}, {\"name\": \"param_2_tuple\", \"on\": [{\"events\": [{\"signal\": \"param_2_yearmonth_date\"}], \"update\": \"param_2_yearmonth_date ? {unit: \\\"\\\", fields: param_2_tuple_fields, values: [param_2_yearmonth_date]} : null\"}]}, {\"name\": \"param_2_tuple_fields\", \"value\": [{\"field\": \"yearmonth_date\", \"channel\": \"x\", \"type\": \"R\"}]}, {\"name\": \"param_2_translate_anchor\", \"value\": {}, \"on\": [{\"events\": [{\"source\": \"scope\", \"type\": \"pointerdown\"}], \"update\": \"{x: x(unit), y: y(unit), extent_x: domain(\\\"x\\\")}\"}]}, {\"name\": \"param_2_translate_delta\", \"value\": {}, \"on\": [{\"events\": [{\"source\": \"window\", \"between\": [{\"source\": \"scope\", \"type\": \"pointerdown\"}, {\"source\": \"window\", \"type\": \"pointerup\"}], \"type\": \"pointermove\", \"consume\": true}], \"update\": \"{x: param_2_translate_anchor.x - x(unit), y: param_2_translate_anchor.y - y(unit)}\"}]}, {\"name\": \"param_2_zoom_anchor\", \"on\": [{\"events\": [{\"source\": \"scope\", \"consume\": true, \"type\": \"wheel\"}], \"update\": \"{x: invert(\\\"x\\\", x(unit)), y: invert(\\\"y\\\", y(unit))}\"}]}, {\"name\": \"param_2_zoom_delta\", \"on\": [{\"events\": [{\"source\": \"scope\", \"consume\": true, \"type\": \"wheel\"}], \"update\": \"pow(1.001, event.deltaY * pow(16, event.deltaMode))\", \"force\": true}]}, {\"name\": \"param_2_modify\", \"on\": [{\"events\": {\"signal\": \"param_2_tuple\"}, \"update\": \"modify(\\\"param_2_store\\\", param_2_tuple, true)\"}]}], \"marks\": [{\"type\": \"line\", \"name\": \"marks\", \"from\": {\"data\": \"source_0\"}, \"sort\": {\"field\": \"datum[\\\"yearmonth_date\\\"]\"}, \"encode\": {\"update\": {\"stroke\": {\"value\": \"#4c78a8\"}, \"x\": {\"field\": \"yearmonth_date\", \"scale\": \"x\"}, \"y\": {\"field\": \"sum_price\", \"scale\": \"y\"}, \"defined\": {\"signal\": \"isValid(datum[\\\"yearmonth_date\\\"]) && isFinite(+datum[\\\"yearmonth_date\\\"]) && isValid(datum[\\\"sum_price\\\"]) && isFinite(+datum[\\\"sum_price\\\"])\"}}}, \"clip\": true, \"style\": [\"line\"], \"interactive\": true}], \"scales\": [{\"name\": \"x\", \"type\": \"time\", \"domain\": {\"data\": \"source_0\", \"field\": \"yearmonth_date\"}, \"range\": [0, {\"signal\": \"width\"}], \"domainRaw\": {\"signal\": \"param_2[\\\"yearmonth_date\\\"]\"}}, {\"name\": \"y\", \"type\": \"linear\", \"domain\": [{\"signal\": \"(data(\\\"source_0_y_domain_sum_price\\\")[0] || {}).min\"}, {\"signal\": \"(data(\\\"source_0_y_domain_sum_price\\\")[0] || {}).max\"}], \"range\": [{\"signal\": \"height\"}, 0], \"nice\": true, \"zero\": true}], \"axes\": [{\"scale\": \"x\", \"tickMinStep\": {\"signal\": \"datetime(2001, 1, 1, 0, 0, 0, 0) - datetime(2001, 0, 1, 0, 0, 0, 0)\"}, \"minExtent\": 0, \"aria\": false, \"labels\": false, \"tickCount\": {\"signal\": \"ceil(width/40)\"}, \"gridScale\": \"y\", \"domain\": false, \"orient\": \"bottom\", \"grid\": true, \"maxExtent\": 0, \"ticks\": false, \"zindex\": 0}, {\"scale\": \"y\", \"zindex\": 0, \"tickCount\": {\"signal\": \"ceil(height/40)\"}, \"domain\": false, \"minExtent\": 0, \"orient\": \"left\", \"ticks\": false, \"gridScale\": \"x\", \"grid\": true, \"maxExtent\": 0, \"labels\": false, \"aria\": false}, {\"scale\": \"x\", \"tickMinStep\": {\"signal\": \"datetime(2001, 1, 1, 0, 0, 0, 0) - datetime(2001, 0, 1, 0, 0, 0, 0)\"}, \"zindex\": 0, \"orient\": \"bottom\", \"format\": {\"signal\": \"timeUnitSpecifier([\\\"year\\\",\\\"month\\\"], {\\\"year-month\\\":\\\"%b %Y \\\",\\\"year-month-date\\\":\\\"%b %d, %Y \\\"})\"}, \"grid\": false, \"labelFlush\": true, \"tickCount\": {\"signal\": \"ceil(width/40)\"}, \"title\": \"date (year-month)\", \"labelOverlap\": true}, {\"scale\": \"y\", \"zindex\": 0, \"orient\": \"left\", \"tickCount\": {\"signal\": \"ceil(height/40)\"}, \"grid\": false, \"title\": \"Sum of price\", \"labelOverlap\": true}], \"background\": \"white\", \"style\": \"cell\", \"padding\": 5, \"height\": 300, \"width\": 800}, {\"mode\": \"vega\"});\n",
       "</script>"
      ],
      "text/plain": [
       "alt.Chart(...)"
      ]
     },
     "execution_count": 6,
     "metadata": {},
     "output_type": "execute_result"
    }
   ],
   "source": [
    "exp.monthly_projection().properties(width=800)"
   ]
  },
  {
   "cell_type": "markdown",
   "metadata": {},
   "source": [
    "## Monthly distribution"
   ]
  },
  {
   "cell_type": "code",
   "execution_count": 7,
   "metadata": {},
   "outputs": [
    {
     "data": {
      "text/html": [
       "\n",
       "<style>\n",
       "  #altair-viz-d6e44e7ec9304e759eb6af69f5c1a296.vega-embed {\n",
       "    width: 100%;\n",
       "    display: flex;\n",
       "  }\n",
       "\n",
       "  #altair-viz-d6e44e7ec9304e759eb6af69f5c1a296.vega-embed details,\n",
       "  #altair-viz-d6e44e7ec9304e759eb6af69f5c1a296.vega-embed details summary {\n",
       "    position: relative;\n",
       "  }\n",
       "</style>\n",
       "<div id=\"altair-viz-d6e44e7ec9304e759eb6af69f5c1a296\"></div>\n",
       "<script type=\"text/javascript\">\n",
       "  var VEGA_DEBUG = (typeof VEGA_DEBUG == \"undefined\") ? {} : VEGA_DEBUG;\n",
       "  (function(spec, embedOpt){\n",
       "    let outputDiv = document.currentScript.previousElementSibling;\n",
       "    if (outputDiv.id !== \"altair-viz-d6e44e7ec9304e759eb6af69f5c1a296\") {\n",
       "      outputDiv = document.getElementById(\"altair-viz-d6e44e7ec9304e759eb6af69f5c1a296\");\n",
       "    }\n",
       "    const paths = {\n",
       "      \"vega\": \"https://cdn.jsdelivr.net/npm/vega@5?noext\",\n",
       "      \"vega-lib\": \"https://cdn.jsdelivr.net/npm/vega-lib?noext\",\n",
       "      \"vega-lite\": \"https://cdn.jsdelivr.net/npm/vega-lite@5.17.0?noext\",\n",
       "      \"vega-embed\": \"https://cdn.jsdelivr.net/npm/vega-embed@6?noext\",\n",
       "    };\n",
       "\n",
       "    function maybeLoadScript(lib, version) {\n",
       "      var key = `${lib.replace(\"-\", \"\")}_version`;\n",
       "      return (VEGA_DEBUG[key] == version) ?\n",
       "        Promise.resolve(paths[lib]) :\n",
       "        new Promise(function(resolve, reject) {\n",
       "          var s = document.createElement('script');\n",
       "          document.getElementsByTagName(\"head\")[0].appendChild(s);\n",
       "          s.async = true;\n",
       "          s.onload = () => {\n",
       "            VEGA_DEBUG[key] = version;\n",
       "            return resolve(paths[lib]);\n",
       "          };\n",
       "          s.onerror = () => reject(`Error loading script: ${paths[lib]}`);\n",
       "          s.src = paths[lib];\n",
       "        });\n",
       "    }\n",
       "\n",
       "    function showError(err) {\n",
       "      outputDiv.innerHTML = `<div class=\"error\" style=\"color:red;\">${err}</div>`;\n",
       "      throw err;\n",
       "    }\n",
       "\n",
       "    function displayChart(vegaEmbed) {\n",
       "      vegaEmbed(outputDiv, spec, embedOpt)\n",
       "        .catch(err => showError(`Javascript Error: ${err.message}<br>This usually means there's a typo in your chart specification. See the javascript console for the full traceback.`));\n",
       "    }\n",
       "\n",
       "    if(typeof define === \"function\" && define.amd) {\n",
       "      requirejs.config({paths});\n",
       "      require([\"vega-embed\"], displayChart, err => showError(`Error loading script: ${err.message}`));\n",
       "    } else {\n",
       "      maybeLoadScript(\"vega\", \"5\")\n",
       "        .then(() => maybeLoadScript(\"vega-lite\", \"5.17.0\"))\n",
       "        .then(() => maybeLoadScript(\"vega-embed\", \"6\"))\n",
       "        .catch(showError)\n",
       "        .then(() => displayChart(vegaEmbed));\n",
       "    }\n",
       "  })({\"$schema\": \"https://vega.github.io/schema/vega/v5.json\", \"data\": [{\"name\": \"param_3_store\"}, {\"name\": \"source_0\", \"values\": [{\"__count\": 4, \"bin_maxbins_10_price\": 10000.0, \"bin_maxbins_10_price_end\": 20000.0}, {\"__count\": 14, \"bin_maxbins_10_price\": 30000.0, \"bin_maxbins_10_price_end\": 40000.0}, {\"__count\": 18, \"bin_maxbins_10_price\": 20000.0, \"bin_maxbins_10_price_end\": 30000.0}, {\"__count\": 13, \"bin_maxbins_10_price\": 50000.0, \"bin_maxbins_10_price_end\": 60000.0}, {\"__count\": 11, \"bin_maxbins_10_price\": 40000.0, \"bin_maxbins_10_price_end\": 50000.0}, {\"__count\": 8, \"bin_maxbins_10_price\": 60000.0, \"bin_maxbins_10_price_end\": 70000.0}, {\"__count\": 1, \"bin_maxbins_10_price\": 80000.0, \"bin_maxbins_10_price_end\": 90000.0}, {\"__count\": 2, \"bin_maxbins_10_price\": 70000.0, \"bin_maxbins_10_price_end\": 80000.0}, {\"__count\": 1, \"bin_maxbins_10_price\": 110000.0, \"bin_maxbins_10_price_end\": 120000.0}, {\"__count\": 3, \"bin_maxbins_10_price\": 90000.0, \"bin_maxbins_10_price_end\": 100000.0}, {\"__count\": 1, \"bin_maxbins_10_price\": 100000.0, \"bin_maxbins_10_price_end\": 110000.0}]}, {\"name\": \"source_0_y_domain___count\", \"values\": [{\"min\": 1, \"max\": 18}]}], \"signals\": [{\"name\": \"bin_maxbins_10_price_bins\", \"value\": {\"fields\": [\"price\"], \"fname\": \"bin_price\", \"start\": 10000.0, \"step\": 10000.0, \"stop\": 120000.0}}, {\"name\": \"unit\", \"value\": {}, \"on\": [{\"events\": \"pointermove\", \"update\": \"isTuple(group()) ? group() : unit\"}]}, {\"name\": \"param_3\", \"update\": \"vlSelectionResolve(\\\"param_3_store\\\", \\\"union\\\")\"}, {\"name\": \"param_3_price\", \"on\": [{\"events\": [{\"source\": \"view\", \"type\": \"dblclick\"}], \"update\": \"null\"}, {\"events\": {\"signal\": \"param_3_translate_delta\"}, \"update\": \"panLinear(param_3_translate_anchor.extent_x, -param_3_translate_delta.x / width)\"}, {\"events\": {\"signal\": \"param_3_zoom_delta\"}, \"update\": \"zoomLinear(domain(\\\"x\\\"), param_3_zoom_anchor.x, param_3_zoom_delta)\"}]}, {\"name\": \"param_3_tuple\", \"on\": [{\"events\": [{\"signal\": \"param_3_price\"}], \"update\": \"param_3_price ? {unit: \\\"\\\", fields: param_3_tuple_fields, values: [param_3_price]} : null\"}]}, {\"name\": \"param_3_tuple_fields\", \"value\": [{\"field\": \"price\", \"channel\": \"x\", \"type\": \"R\"}]}, {\"name\": \"param_3_translate_anchor\", \"value\": {}, \"on\": [{\"events\": [{\"source\": \"scope\", \"type\": \"pointerdown\"}], \"update\": \"{x: x(unit), y: y(unit), extent_x: domain(\\\"x\\\")}\"}]}, {\"name\": \"param_3_translate_delta\", \"value\": {}, \"on\": [{\"events\": [{\"source\": \"window\", \"between\": [{\"source\": \"scope\", \"type\": \"pointerdown\"}, {\"source\": \"window\", \"type\": \"pointerup\"}], \"type\": \"pointermove\", \"consume\": true}], \"update\": \"{x: param_3_translate_anchor.x - x(unit), y: param_3_translate_anchor.y - y(unit)}\"}]}, {\"name\": \"param_3_zoom_anchor\", \"on\": [{\"events\": [{\"source\": \"scope\", \"consume\": true, \"type\": \"wheel\"}], \"update\": \"{x: invert(\\\"x\\\", x(unit)), y: invert(\\\"y\\\", y(unit))}\"}]}, {\"name\": \"param_3_zoom_delta\", \"on\": [{\"events\": [{\"source\": \"scope\", \"type\": \"wheel\", \"consume\": true}], \"update\": \"pow(1.001, event.deltaY * pow(16, event.deltaMode))\", \"force\": true}]}, {\"name\": \"param_3_modify\", \"on\": [{\"events\": {\"signal\": \"param_3_tuple\"}, \"update\": \"modify(\\\"param_3_store\\\", param_3_tuple, true)\"}]}], \"marks\": [{\"type\": \"rect\", \"name\": \"marks\", \"from\": {\"data\": \"source_0\"}, \"encode\": {\"update\": {\"x\": {\"field\": \"bin_maxbins_10_price_end\", \"scale\": \"x\", \"offset\": {\"signal\": \"0.5 + (abs(scale(\\\"x\\\", datum[\\\"bin_maxbins_10_price_end\\\"]) - scale(\\\"x\\\", datum[\\\"bin_maxbins_10_price\\\"])) < 0.25 ? 0.5 * (0.25 - (abs(scale(\\\"x\\\", datum[\\\"bin_maxbins_10_price_end\\\"]) - scale(\\\"x\\\", datum[\\\"bin_maxbins_10_price\\\"])))) : -0.5)\"}}, \"y\": {\"field\": \"__count\", \"scale\": \"y\"}, \"y2\": {\"value\": 0, \"scale\": \"y\"}, \"fill\": {\"value\": \"green\"}, \"x2\": {\"field\": \"bin_maxbins_10_price\", \"scale\": \"x\", \"offset\": {\"signal\": \"0.5 + (abs(scale(\\\"x\\\", datum[\\\"bin_maxbins_10_price_end\\\"]) - scale(\\\"x\\\", datum[\\\"bin_maxbins_10_price\\\"])) < 0.25 ? -0.5 * (0.25 - (abs(scale(\\\"x\\\", datum[\\\"bin_maxbins_10_price_end\\\"]) - scale(\\\"x\\\", datum[\\\"bin_maxbins_10_price\\\"])))) : 0.5)\"}}}}, \"style\": [\"bar\"], \"clip\": true, \"interactive\": true}], \"scales\": [{\"name\": \"x\", \"type\": \"linear\", \"domain\": {\"signal\": \"[bin_maxbins_10_price_bins.start, bin_maxbins_10_price_bins.stop]\"}, \"range\": [0, {\"signal\": \"width\"}], \"bins\": {\"signal\": \"bin_maxbins_10_price_bins\"}, \"domainRaw\": {\"signal\": \"param_3[\\\"price\\\"]\"}, \"zero\": false}, {\"name\": \"y\", \"type\": \"linear\", \"domain\": [{\"signal\": \"(data(\\\"source_0_y_domain___count\\\")[0] || {}).min\"}, {\"signal\": \"(data(\\\"source_0_y_domain___count\\\")[0] || {}).max\"}], \"range\": [{\"signal\": \"height\"}, 0], \"zero\": true, \"nice\": true}], \"axes\": [{\"scale\": \"y\", \"grid\": true, \"tickCount\": {\"signal\": \"ceil(height/40)\"}, \"ticks\": false, \"minExtent\": 0, \"zindex\": 0, \"aria\": false, \"maxExtent\": 0, \"gridScale\": \"x\", \"domain\": false, \"labels\": false, \"orient\": \"left\"}, {\"scale\": \"x\", \"zindex\": 0, \"labelOverlap\": true, \"labelFlush\": true, \"title\": \"price (binned)\", \"tickCount\": {\"signal\": \"ceil(width/10)\"}, \"grid\": false, \"orient\": \"bottom\"}, {\"scale\": \"y\", \"tickCount\": {\"signal\": \"ceil(height/40)\"}, \"grid\": false, \"labelOverlap\": true, \"title\": \"Count of Records\", \"orient\": \"left\", \"zindex\": 0}], \"background\": \"white\", \"width\": 600, \"padding\": 5, \"height\": 300, \"style\": \"cell\"}, {\"mode\": \"vega\"});\n",
       "</script>"
      ],
      "text/plain": [
       "alt.Chart(...)"
      ]
     },
     "execution_count": 7,
     "metadata": {},
     "output_type": "execute_result"
    }
   ],
   "source": [
    "exp.distribution()"
   ]
  },
  {
   "cell_type": "code",
   "execution_count": 8,
   "metadata": {},
   "outputs": [
    {
     "data": {
      "text/markdown": [
       "Mean: Rs.45651"
      ],
      "text/plain": [
       "<IPython.core.display.Markdown object>"
      ]
     },
     "execution_count": 8,
     "metadata": {},
     "output_type": "execute_result"
    }
   ],
   "source": [
    "md(f\"Mean: Rs.{exp.monthly_stats['mean']}\")"
   ]
  },
  {
   "cell_type": "code",
   "execution_count": 9,
   "metadata": {},
   "outputs": [
    {
     "data": {
      "text/markdown": [
       "Weighted Mean: Rs.15381.560542535932"
      ],
      "text/plain": [
       "<IPython.core.display.Markdown object>"
      ]
     },
     "execution_count": 9,
     "metadata": {},
     "output_type": "execute_result"
    }
   ],
   "source": [
    "md(f\"Weighted Mean: Rs.{exp.monthly_stats['weighted_mean']}\")"
   ]
  },
  {
   "cell_type": "code",
   "execution_count": 10,
   "metadata": {},
   "outputs": [
    {
     "data": {
      "text/markdown": [
       "Geometric Mean: Rs.41075"
      ],
      "text/plain": [
       "<IPython.core.display.Markdown object>"
      ]
     },
     "execution_count": 10,
     "metadata": {},
     "output_type": "execute_result"
    }
   ],
   "source": [
    "md(f\"Geometric Mean: Rs.{exp.monthly_stats['geo_mean']}\")"
   ]
  },
  {
   "cell_type": "code",
   "execution_count": 11,
   "metadata": {},
   "outputs": [
    {
     "data": {
      "text/markdown": [
       "Median of **Rs.40772 $±$ Rs.21885**"
      ],
      "text/plain": [
       "<IPython.core.display.Markdown object>"
      ]
     },
     "execution_count": 11,
     "metadata": {},
     "output_type": "execute_result"
    }
   ],
   "source": [
    "md(f\"Median of **Rs.{exp.monthly_stats['median']} $±$ Rs.{exp.monthly_stats['sd']}**\")"
   ]
  }
 ],
 "metadata": {
  "kernelspec": {
   "display_name": "Python 3 (ipykernel)",
   "language": "python",
   "name": "python3"
  },
  "language_info": {
   "codemirror_mode": {
    "name": "ipython",
    "version": 3
   },
   "file_extension": ".py",
   "mimetype": "text/x-python",
   "name": "python",
   "nbconvert_exporter": "python",
   "pygments_lexer": "ipython3",
   "version": "3.11.3"
  }
 },
 "nbformat": 4,
 "nbformat_minor": 4
}
