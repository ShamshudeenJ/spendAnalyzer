{
 "cells": [
  {
   "cell_type": "markdown",
   "metadata": {},
   "source": [
    "# Expense Analysis"
   ]
  },
  {
   "cell_type": "code",
   "execution_count": 1,
   "metadata": {},
   "outputs": [
    {
     "name": "stderr",
     "output_type": "stream",
     "text": [
      "D:\\github\\spendAnalyzer\\venv\\Lib\\site-packages\\tqdm\\auto.py:21: TqdmWarning: IProgress not found. Please update jupyter and ipywidgets. See https://ipywidgets.readthedocs.io/en/stable/user_install.html\n",
      "  from .autonotebook import tqdm as notebook_tqdm\n",
      "Importing plotly failed. Interactive plots will not work.\n"
     ]
    },
    {
     "data": {
      "text/plain": [
       "DataTransformerRegistry.enable('vegafusion')"
      ]
     },
     "execution_count": 1,
     "metadata": {},
     "output_type": "execute_result"
    }
   ],
   "source": [
    "import altair as alt\n",
    "import os\n",
    "from IPython.display import Markdown as md\n",
    "os.chdir(\"..\")\n",
    "from models import expense\n",
    "\n",
    "alt.renderers.enable('default')\n",
    "alt.data_transformers.enable(\"vegafusion\")"
   ]
  },
  {
   "cell_type": "code",
   "execution_count": 2,
   "metadata": {},
   "outputs": [
    {
     "name": "stderr",
     "output_type": "stream",
     "text": [
      "D:\\github\\spendAnalyzer\\src\\models\\expense.py:22: FutureWarning: 'M' is deprecated and will be removed in a future version, please use 'ME' instead.\n",
      "  self.data_monthly = self.data_monthly.resample('M').last()\n"
     ]
    }
   ],
   "source": [
    "os.chdir('..')\n",
    "exp = expense.Expense(os.getcwd()+os.sep+'data'+os.sep+'expense.csv')"
   ]
  },
  {
   "cell_type": "markdown",
   "metadata": {},
   "source": [
    "## Monthly expense"
   ]
  },
  {
   "cell_type": "code",
   "execution_count": 3,
   "metadata": {},
   "outputs": [
    {
     "data": {
      "text/html": [
       "\n",
       "<style>\n",
       "  #altair-viz-f86b18aac1c442f39f00673b342ff5fb.vega-embed {\n",
       "    width: 100%;\n",
       "    display: flex;\n",
       "  }\n",
       "\n",
       "  #altair-viz-f86b18aac1c442f39f00673b342ff5fb.vega-embed details,\n",
       "  #altair-viz-f86b18aac1c442f39f00673b342ff5fb.vega-embed details summary {\n",
       "    position: relative;\n",
       "  }\n",
       "</style>\n",
       "<div id=\"altair-viz-f86b18aac1c442f39f00673b342ff5fb\"></div>\n",
       "<script type=\"text/javascript\">\n",
       "  var VEGA_DEBUG = (typeof VEGA_DEBUG == \"undefined\") ? {} : VEGA_DEBUG;\n",
       "  (function(spec, embedOpt){\n",
       "    let outputDiv = document.currentScript.previousElementSibling;\n",
       "    if (outputDiv.id !== \"altair-viz-f86b18aac1c442f39f00673b342ff5fb\") {\n",
       "      outputDiv = document.getElementById(\"altair-viz-f86b18aac1c442f39f00673b342ff5fb\");\n",
       "    }\n",
       "\n",
       "    const paths = {\n",
       "      \"vega\": \"https://cdn.jsdelivr.net/npm/vega@5?noext\",\n",
       "      \"vega-lib\": \"https://cdn.jsdelivr.net/npm/vega-lib?noext\",\n",
       "      \"vega-lite\": \"https://cdn.jsdelivr.net/npm/vega-lite@5.20.1?noext\",\n",
       "      \"vega-embed\": \"https://cdn.jsdelivr.net/npm/vega-embed@6?noext\",\n",
       "    };\n",
       "\n",
       "    function maybeLoadScript(lib, version) {\n",
       "      var key = `${lib.replace(\"-\", \"\")}_version`;\n",
       "      return (VEGA_DEBUG[key] == version) ?\n",
       "        Promise.resolve(paths[lib]) :\n",
       "        new Promise(function(resolve, reject) {\n",
       "          var s = document.createElement('script');\n",
       "          document.getElementsByTagName(\"head\")[0].appendChild(s);\n",
       "          s.async = true;\n",
       "          s.onload = () => {\n",
       "            VEGA_DEBUG[key] = version;\n",
       "            return resolve(paths[lib]);\n",
       "          };\n",
       "          s.onerror = () => reject(`Error loading script: ${paths[lib]}`);\n",
       "          s.src = paths[lib];\n",
       "        });\n",
       "    }\n",
       "\n",
       "    function showError(err) {\n",
       "      outputDiv.innerHTML = `<div class=\"error\" style=\"color:red;\">${err}</div>`;\n",
       "      throw err;\n",
       "    }\n",
       "\n",
       "    function displayChart(vegaEmbed) {\n",
       "      vegaEmbed(outputDiv, spec, embedOpt)\n",
       "        .catch(err => showError(`Javascript Error: ${err.message}<br>This usually means there's a typo in your chart specification. See the javascript console for the full traceback.`));\n",
       "    }\n",
       "\n",
       "    if(typeof define === \"function\" && define.amd) {\n",
       "      requirejs.config({paths});\n",
       "      let deps = [\"vega-embed\"];\n",
       "      require(deps, displayChart, err => showError(`Error loading script: ${err.message}`));\n",
       "    } else {\n",
       "      maybeLoadScript(\"vega\", \"5\")\n",
       "        .then(() => maybeLoadScript(\"vega-lite\", \"5.20.1\"))\n",
       "        .then(() => maybeLoadScript(\"vega-embed\", \"6\"))\n",
       "        .catch(showError)\n",
       "        .then(() => displayChart(vegaEmbed));\n",
       "    }\n",
       "  })({\"$schema\": \"https://vega.github.io/schema/vega/v5.json\", \"data\": [{\"name\": \"param_1_store\"}, {\"name\": \"source_0\", \"values\": [{\"month_date\": \"2012-03-01T00:00:00.000\", \"sum_price\": 19183, \"year_date\": \"2018-01-01T00:00:00.000\", \"yearmonth_date\": \"2018-03-01T00:00:00.000\"}, {\"month_date\": \"2012-04-01T00:00:00.000\", \"sum_price\": 34192, \"year_date\": \"2018-01-01T00:00:00.000\", \"yearmonth_date\": \"2018-04-01T00:00:00.000\"}, {\"month_date\": \"2012-05-01T00:00:00.000\", \"sum_price\": 19057, \"year_date\": \"2018-01-01T00:00:00.000\", \"yearmonth_date\": \"2018-05-01T00:00:00.000\"}, {\"month_date\": \"2012-06-01T00:00:00.000\", \"sum_price\": 28942, \"year_date\": \"2018-01-01T00:00:00.000\", \"yearmonth_date\": \"2018-06-01T00:00:00.000\"}, {\"month_date\": \"2012-07-01T00:00:00.000\", \"sum_price\": 28622, \"year_date\": \"2018-01-01T00:00:00.000\", \"yearmonth_date\": \"2018-07-01T00:00:00.000\"}, {\"month_date\": \"2012-08-01T00:00:00.000\", \"sum_price\": 55519, \"year_date\": \"2018-01-01T00:00:00.000\", \"yearmonth_date\": \"2018-08-01T00:00:00.000\"}, {\"month_date\": \"2012-09-01T00:00:00.000\", \"sum_price\": 21665, \"year_date\": \"2018-01-01T00:00:00.000\", \"yearmonth_date\": \"2018-09-01T00:00:00.000\"}, {\"month_date\": \"2012-10-01T00:00:00.000\", \"sum_price\": 26939, \"year_date\": \"2018-01-01T00:00:00.000\", \"yearmonth_date\": \"2018-10-01T00:00:00.000\"}, {\"month_date\": \"2012-11-01T00:00:00.000\", \"sum_price\": 25467, \"year_date\": \"2018-01-01T00:00:00.000\", \"yearmonth_date\": \"2018-11-01T00:00:00.000\"}, {\"month_date\": \"2012-12-01T00:00:00.000\", \"sum_price\": 45338, \"year_date\": \"2018-01-01T00:00:00.000\", \"yearmonth_date\": \"2018-12-01T00:00:00.000\"}, {\"month_date\": \"2012-01-01T00:00:00.000\", \"sum_price\": 31667, \"year_date\": \"2019-01-01T00:00:00.000\", \"yearmonth_date\": \"2019-01-01T00:00:00.000\"}, {\"month_date\": \"2012-02-01T00:00:00.000\", \"sum_price\": 26909, \"year_date\": \"2019-01-01T00:00:00.000\", \"yearmonth_date\": \"2019-02-01T00:00:00.000\"}, {\"month_date\": \"2012-03-01T00:00:00.000\", \"sum_price\": 23041, \"year_date\": \"2019-01-01T00:00:00.000\", \"yearmonth_date\": \"2019-03-01T00:00:00.000\"}, {\"month_date\": \"2012-04-01T00:00:00.000\", \"sum_price\": 33874, \"year_date\": \"2019-01-01T00:00:00.000\", \"yearmonth_date\": \"2019-04-01T00:00:00.000\"}, {\"month_date\": \"2012-05-01T00:00:00.000\", \"sum_price\": 27119, \"year_date\": \"2019-01-01T00:00:00.000\", \"yearmonth_date\": \"2019-05-01T00:00:00.000\"}, {\"month_date\": \"2012-06-01T00:00:00.000\", \"sum_price\": 30990, \"year_date\": \"2019-01-01T00:00:00.000\", \"yearmonth_date\": \"2019-06-01T00:00:00.000\"}, {\"month_date\": \"2012-07-01T00:00:00.000\", \"sum_price\": 29068, \"year_date\": \"2019-01-01T00:00:00.000\", \"yearmonth_date\": \"2019-07-01T00:00:00.000\"}, {\"month_date\": \"2012-08-01T00:00:00.000\", \"sum_price\": 66664, \"year_date\": \"2019-01-01T00:00:00.000\", \"yearmonth_date\": \"2019-08-01T00:00:00.000\"}, {\"month_date\": \"2012-09-01T00:00:00.000\", \"sum_price\": 82705, \"year_date\": \"2019-01-01T00:00:00.000\", \"yearmonth_date\": \"2019-09-01T00:00:00.000\"}, {\"month_date\": \"2012-10-01T00:00:00.000\", \"sum_price\": 22566, \"year_date\": \"2019-01-01T00:00:00.000\", \"yearmonth_date\": \"2019-10-01T00:00:00.000\"}, {\"month_date\": \"2012-11-01T00:00:00.000\", \"sum_price\": 33972, \"year_date\": \"2019-01-01T00:00:00.000\", \"yearmonth_date\": \"2019-11-01T00:00:00.000\"}, {\"month_date\": \"2012-12-01T00:00:00.000\", \"sum_price\": 36986, \"year_date\": \"2019-01-01T00:00:00.000\", \"yearmonth_date\": \"2019-12-01T00:00:00.000\"}, {\"month_date\": \"2012-01-01T00:00:00.000\", \"sum_price\": 78282, \"year_date\": \"2020-01-01T00:00:00.000\", \"yearmonth_date\": \"2020-01-01T00:00:00.000\"}, {\"month_date\": \"2012-02-01T00:00:00.000\", \"sum_price\": 27623, \"year_date\": \"2020-01-01T00:00:00.000\", \"yearmonth_date\": \"2020-02-01T00:00:00.000\"}, {\"month_date\": \"2012-03-01T00:00:00.000\", \"sum_price\": 23233, \"year_date\": \"2020-01-01T00:00:00.000\", \"yearmonth_date\": \"2020-03-01T00:00:00.000\"}, {\"month_date\": \"2012-04-01T00:00:00.000\", \"sum_price\": 15774, \"year_date\": \"2020-01-01T00:00:00.000\", \"yearmonth_date\": \"2020-04-01T00:00:00.000\"}, {\"month_date\": \"2012-05-01T00:00:00.000\", \"sum_price\": 22930, \"year_date\": \"2020-01-01T00:00:00.000\", \"yearmonth_date\": \"2020-05-01T00:00:00.000\"}, {\"month_date\": \"2012-06-01T00:00:00.000\", \"sum_price\": 29031, \"year_date\": \"2020-01-01T00:00:00.000\", \"yearmonth_date\": \"2020-06-01T00:00:00.000\"}, {\"month_date\": \"2012-07-01T00:00:00.000\", \"sum_price\": 21877, \"year_date\": \"2020-01-01T00:00:00.000\", \"yearmonth_date\": \"2020-07-01T00:00:00.000\"}, {\"month_date\": \"2012-08-01T00:00:00.000\", \"sum_price\": 39795, \"year_date\": \"2020-01-01T00:00:00.000\", \"yearmonth_date\": \"2020-08-01T00:00:00.000\"}, {\"month_date\": \"2012-09-01T00:00:00.000\", \"sum_price\": 19416, \"year_date\": \"2020-01-01T00:00:00.000\", \"yearmonth_date\": \"2020-09-01T00:00:00.000\"}, {\"month_date\": \"2012-10-01T00:00:00.000\", \"sum_price\": 30476, \"year_date\": \"2020-01-01T00:00:00.000\", \"yearmonth_date\": \"2020-10-01T00:00:00.000\"}, {\"month_date\": \"2012-11-01T00:00:00.000\", \"sum_price\": 25236, \"year_date\": \"2020-01-01T00:00:00.000\", \"yearmonth_date\": \"2020-11-01T00:00:00.000\"}, {\"month_date\": \"2012-12-01T00:00:00.000\", \"sum_price\": 43245, \"year_date\": \"2020-01-01T00:00:00.000\", \"yearmonth_date\": \"2020-12-01T00:00:00.000\"}, {\"month_date\": \"2012-01-01T00:00:00.000\", \"sum_price\": 54028, \"year_date\": \"2021-01-01T00:00:00.000\", \"yearmonth_date\": \"2021-01-01T00:00:00.000\"}, {\"month_date\": \"2012-02-01T00:00:00.000\", \"sum_price\": 35580, \"year_date\": \"2021-01-01T00:00:00.000\", \"yearmonth_date\": \"2021-02-01T00:00:00.000\"}, {\"month_date\": \"2012-03-01T00:00:00.000\", \"sum_price\": 25651, \"year_date\": \"2021-01-01T00:00:00.000\", \"yearmonth_date\": \"2021-03-01T00:00:00.000\"}, {\"month_date\": \"2012-04-01T00:00:00.000\", \"sum_price\": 44842, \"year_date\": \"2021-01-01T00:00:00.000\", \"yearmonth_date\": \"2021-04-01T00:00:00.000\"}, {\"month_date\": \"2012-05-01T00:00:00.000\", \"sum_price\": 30757, \"year_date\": \"2021-01-01T00:00:00.000\", \"yearmonth_date\": \"2021-05-01T00:00:00.000\"}, {\"month_date\": \"2012-06-01T00:00:00.000\", \"sum_price\": 41043, \"year_date\": \"2021-01-01T00:00:00.000\", \"yearmonth_date\": \"2021-06-01T00:00:00.000\"}, {\"month_date\": \"2012-07-01T00:00:00.000\", \"sum_price\": 51235, \"year_date\": \"2021-01-01T00:00:00.000\", \"yearmonth_date\": \"2021-07-01T00:00:00.000\"}, {\"month_date\": \"2012-08-01T00:00:00.000\", \"sum_price\": 38760, \"year_date\": \"2021-01-01T00:00:00.000\", \"yearmonth_date\": \"2021-08-01T00:00:00.000\"}, {\"month_date\": \"2012-09-01T00:00:00.000\", \"sum_price\": 58508, \"year_date\": \"2021-01-01T00:00:00.000\", \"yearmonth_date\": \"2021-09-01T00:00:00.000\"}, {\"month_date\": \"2012-10-01T00:00:00.000\", \"sum_price\": 64912, \"year_date\": \"2021-01-01T00:00:00.000\", \"yearmonth_date\": \"2021-10-01T00:00:00.000\"}, {\"month_date\": \"2012-11-01T00:00:00.000\", \"sum_price\": 52258, \"year_date\": \"2021-01-01T00:00:00.000\", \"yearmonth_date\": \"2021-11-01T00:00:00.000\"}, {\"month_date\": \"2012-12-01T00:00:00.000\", \"sum_price\": 20705, \"year_date\": \"2021-01-01T00:00:00.000\", \"yearmonth_date\": \"2021-12-01T00:00:00.000\"}, {\"month_date\": \"2012-01-01T00:00:00.000\", \"sum_price\": 49293, \"year_date\": \"2022-01-01T00:00:00.000\", \"yearmonth_date\": \"2022-01-01T00:00:00.000\"}, {\"month_date\": \"2012-02-01T00:00:00.000\", \"sum_price\": 41119, \"year_date\": \"2022-01-01T00:00:00.000\", \"yearmonth_date\": \"2022-02-01T00:00:00.000\"}, {\"month_date\": \"2012-03-01T00:00:00.000\", \"sum_price\": 54458, \"year_date\": \"2022-01-01T00:00:00.000\", \"yearmonth_date\": \"2022-03-01T00:00:00.000\"}, {\"month_date\": \"2012-04-01T00:00:00.000\", \"sum_price\": 60447, \"year_date\": \"2022-01-01T00:00:00.000\", \"yearmonth_date\": \"2022-04-01T00:00:00.000\"}, {\"month_date\": \"2012-05-01T00:00:00.000\", \"sum_price\": 58500, \"year_date\": \"2022-01-01T00:00:00.000\", \"yearmonth_date\": \"2022-05-01T00:00:00.000\"}, {\"month_date\": \"2012-06-01T00:00:00.000\", \"sum_price\": 40074, \"year_date\": \"2022-01-01T00:00:00.000\", \"yearmonth_date\": \"2022-06-01T00:00:00.000\"}, {\"month_date\": \"2012-07-01T00:00:00.000\", \"sum_price\": 63631, \"year_date\": \"2022-01-01T00:00:00.000\", \"yearmonth_date\": \"2022-07-01T00:00:00.000\"}, {\"month_date\": \"2012-08-01T00:00:00.000\", \"sum_price\": 44998, \"year_date\": \"2022-01-01T00:00:00.000\", \"yearmonth_date\": \"2022-08-01T00:00:00.000\"}, {\"month_date\": \"2012-09-01T00:00:00.000\", \"sum_price\": 44006, \"year_date\": \"2022-01-01T00:00:00.000\", \"yearmonth_date\": \"2022-09-01T00:00:00.000\"}, {\"month_date\": \"2012-10-01T00:00:00.000\", \"sum_price\": 31754, \"year_date\": \"2022-01-01T00:00:00.000\", \"yearmonth_date\": \"2022-10-01T00:00:00.000\"}, {\"month_date\": \"2012-11-01T00:00:00.000\", \"sum_price\": 65402, \"year_date\": \"2022-01-01T00:00:00.000\", \"yearmonth_date\": \"2022-11-01T00:00:00.000\"}, {\"month_date\": \"2012-12-01T00:00:00.000\", \"sum_price\": 44617, \"year_date\": \"2022-01-01T00:00:00.000\", \"yearmonth_date\": \"2022-12-01T00:00:00.000\"}, {\"month_date\": \"2012-01-01T00:00:00.000\", \"sum_price\": 36922, \"year_date\": \"2023-01-01T00:00:00.000\", \"yearmonth_date\": \"2023-01-01T00:00:00.000\"}, {\"month_date\": \"2012-02-01T00:00:00.000\", \"sum_price\": 56614, \"year_date\": \"2023-01-01T00:00:00.000\", \"yearmonth_date\": \"2023-02-01T00:00:00.000\"}, {\"month_date\": \"2012-03-01T00:00:00.000\", \"sum_price\": 40502, \"year_date\": \"2023-01-01T00:00:00.000\", \"yearmonth_date\": \"2023-03-01T00:00:00.000\"}, {\"month_date\": \"2012-04-01T00:00:00.000\", \"sum_price\": 51413, \"year_date\": \"2023-01-01T00:00:00.000\", \"yearmonth_date\": \"2023-04-01T00:00:00.000\"}, {\"month_date\": \"2012-05-01T00:00:00.000\", \"sum_price\": 115147, \"year_date\": \"2023-01-01T00:00:00.000\", \"yearmonth_date\": \"2023-05-01T00:00:00.000\"}, {\"month_date\": \"2012-06-01T00:00:00.000\", \"sum_price\": 53833, \"year_date\": \"2023-01-01T00:00:00.000\", \"yearmonth_date\": \"2023-06-01T00:00:00.000\"}, {\"month_date\": \"2012-07-01T00:00:00.000\", \"sum_price\": 54182, \"year_date\": \"2023-01-01T00:00:00.000\", \"yearmonth_date\": \"2023-07-01T00:00:00.000\"}, {\"month_date\": \"2012-08-01T00:00:00.000\", \"sum_price\": 92769, \"year_date\": \"2023-01-01T00:00:00.000\", \"yearmonth_date\": \"2023-08-01T00:00:00.000\"}, {\"month_date\": \"2012-09-01T00:00:00.000\", \"sum_price\": 93638, \"year_date\": \"2023-01-01T00:00:00.000\", \"yearmonth_date\": \"2023-09-01T00:00:00.000\"}, {\"month_date\": \"2012-10-01T00:00:00.000\", \"sum_price\": 68449, \"year_date\": \"2023-01-01T00:00:00.000\", \"yearmonth_date\": \"2023-10-01T00:00:00.000\"}, {\"month_date\": \"2012-11-01T00:00:00.000\", \"sum_price\": 37772, \"year_date\": \"2023-01-01T00:00:00.000\", \"yearmonth_date\": \"2023-11-01T00:00:00.000\"}, {\"month_date\": \"2012-12-01T00:00:00.000\", \"sum_price\": 97338, \"year_date\": \"2023-01-01T00:00:00.000\", \"yearmonth_date\": \"2023-12-01T00:00:00.000\"}, {\"month_date\": \"2012-01-01T00:00:00.000\", \"sum_price\": 55360, \"year_date\": \"2024-01-01T00:00:00.000\", \"yearmonth_date\": \"2024-01-01T00:00:00.000\"}, {\"month_date\": \"2012-02-01T00:00:00.000\", \"sum_price\": 78208, \"year_date\": \"2024-01-01T00:00:00.000\", \"yearmonth_date\": \"2024-02-01T00:00:00.000\"}, {\"month_date\": \"2012-03-01T00:00:00.000\", \"sum_price\": 65045, \"year_date\": \"2024-01-01T00:00:00.000\", \"yearmonth_date\": \"2024-03-01T00:00:00.000\"}, {\"month_date\": \"2012-04-01T00:00:00.000\", \"sum_price\": 106415, \"year_date\": \"2024-01-01T00:00:00.000\", \"yearmonth_date\": \"2024-04-01T00:00:00.000\"}, {\"month_date\": \"2012-05-01T00:00:00.000\", \"sum_price\": 55943, \"year_date\": \"2024-01-01T00:00:00.000\", \"yearmonth_date\": \"2024-05-01T00:00:00.000\"}, {\"month_date\": \"2012-06-01T00:00:00.000\", \"sum_price\": 70895, \"year_date\": \"2024-01-01T00:00:00.000\", \"yearmonth_date\": \"2024-06-01T00:00:00.000\"}, {\"month_date\": \"2012-07-01T00:00:00.000\", \"sum_price\": 92235, \"year_date\": \"2024-01-01T00:00:00.000\", \"yearmonth_date\": \"2024-07-01T00:00:00.000\"}, {\"month_date\": \"2012-08-01T00:00:00.000\", \"sum_price\": 78183, \"year_date\": \"2024-01-01T00:00:00.000\", \"yearmonth_date\": \"2024-08-01T00:00:00.000\"}, {\"month_date\": \"2012-09-01T00:00:00.000\", \"sum_price\": 81509, \"year_date\": \"2024-01-01T00:00:00.000\", \"yearmonth_date\": \"2024-09-01T00:00:00.000\"}, {\"month_date\": \"2012-10-01T00:00:00.000\", \"sum_price\": 91160, \"year_date\": \"2024-01-01T00:00:00.000\", \"yearmonth_date\": \"2024-10-01T00:00:00.000\"}, {\"month_date\": \"2012-11-01T00:00:00.000\", \"sum_price\": 62920, \"year_date\": \"2024-01-01T00:00:00.000\", \"yearmonth_date\": \"2024-11-01T00:00:00.000\"}, {\"month_date\": \"2012-12-01T00:00:00.000\", \"sum_price\": 80295, \"year_date\": \"2024-01-01T00:00:00.000\", \"yearmonth_date\": \"2024-12-01T00:00:00.000\"}, {\"month_date\": \"2012-01-01T00:00:00.000\", \"sum_price\": 73866, \"year_date\": \"2025-01-01T00:00:00.000\", \"yearmonth_date\": \"2025-01-01T00:00:00.000\"}, {\"month_date\": \"2012-02-01T00:00:00.000\", \"sum_price\": 96671, \"year_date\": \"2025-01-01T00:00:00.000\", \"yearmonth_date\": \"2025-02-01T00:00:00.000\"}, {\"month_date\": \"2012-03-01T00:00:00.000\", \"sum_price\": 74346, \"year_date\": \"2025-01-01T00:00:00.000\", \"yearmonth_date\": \"2025-03-01T00:00:00.000\"}, {\"month_date\": \"2012-04-01T00:00:00.000\", \"sum_price\": 75460, \"year_date\": \"2025-01-01T00:00:00.000\", \"yearmonth_date\": \"2025-04-01T00:00:00.000\"}], \"transform\": [{\"type\": \"formula\", \"expr\": \"toDate(datum['yearmonth_date'])\", \"as\": \"yearmonth_date\"}, {\"type\": \"formula\", \"expr\": \"toDate(datum['year_date'])\", \"as\": \"year_date\"}, {\"type\": \"formula\", \"expr\": \"toDate(datum['month_date'])\", \"as\": \"month_date\"}]}, {\"name\": \"source_0_x_domain_year_date\", \"values\": [{\"year_date\": \"2018-01-01T00:00:00.000\"}, {\"year_date\": \"2019-01-01T00:00:00.000\"}, {\"year_date\": \"2020-01-01T00:00:00.000\"}, {\"year_date\": \"2021-01-01T00:00:00.000\"}, {\"year_date\": \"2022-01-01T00:00:00.000\"}, {\"year_date\": \"2023-01-01T00:00:00.000\"}, {\"year_date\": \"2024-01-01T00:00:00.000\"}, {\"year_date\": \"2025-01-01T00:00:00.000\"}], \"transform\": [{\"type\": \"formula\", \"expr\": \"toDate(datum['year_date'])\", \"as\": \"year_date\"}]}, {\"name\": \"source_0_y_domain_month_date\", \"values\": [{\"month_date\": \"2012-03-01T00:00:00.000\"}, {\"month_date\": \"2012-04-01T00:00:00.000\"}, {\"month_date\": \"2012-05-01T00:00:00.000\"}, {\"month_date\": \"2012-06-01T00:00:00.000\"}, {\"month_date\": \"2012-07-01T00:00:00.000\"}, {\"month_date\": \"2012-08-01T00:00:00.000\"}, {\"month_date\": \"2012-09-01T00:00:00.000\"}, {\"month_date\": \"2012-10-01T00:00:00.000\"}, {\"month_date\": \"2012-11-01T00:00:00.000\"}, {\"month_date\": \"2012-12-01T00:00:00.000\"}, {\"month_date\": \"2012-01-01T00:00:00.000\"}, {\"month_date\": \"2012-02-01T00:00:00.000\"}], \"transform\": [{\"type\": \"formula\", \"expr\": \"toDate(datum['month_date'])\", \"as\": \"month_date\"}]}, {\"name\": \"source_0_color_domain_sum_price\", \"values\": [{\"min\": 15774, \"max\": 115147}]}], \"signals\": [{\"name\": \"unit\", \"value\": {}, \"on\": [{\"events\": \"pointermove\", \"update\": \"isTuple(group()) ? group() : unit\"}]}, {\"name\": \"param_1\", \"update\": \"vlSelectionResolve(\\\"param_1_store\\\", \\\"union\\\")\"}, {\"name\": \"param_1_year_date\", \"on\": [{\"events\": [{\"source\": \"view\", \"type\": \"dblclick\"}], \"update\": \"null\"}, {\"events\": {\"signal\": \"param_1_translate_delta\"}, \"update\": \"panLinear(param_1_translate_anchor.extent_x, -param_1_translate_delta.x / width)\"}, {\"events\": {\"signal\": \"param_1_zoom_delta\"}, \"update\": \"zoomLinear(domain(\\\"x\\\"), param_1_zoom_anchor.x, param_1_zoom_delta)\"}]}, {\"name\": \"param_1_month_date\", \"on\": [{\"events\": [{\"source\": \"view\", \"type\": \"dblclick\"}], \"update\": \"null\"}, {\"events\": {\"signal\": \"param_1_translate_delta\"}, \"update\": \"panLinear(param_1_translate_anchor.extent_y, param_1_translate_delta.y / height)\"}, {\"events\": {\"signal\": \"param_1_zoom_delta\"}, \"update\": \"zoomLinear(domain(\\\"y\\\"), param_1_zoom_anchor.y, param_1_zoom_delta)\"}]}, {\"name\": \"param_1_tuple\", \"on\": [{\"events\": [{\"signal\": \"param_1_year_date || param_1_month_date\"}], \"update\": \"param_1_year_date && param_1_month_date ? {unit: \\\"\\\", fields: param_1_tuple_fields, values: [param_1_year_date,param_1_month_date]} : null\"}]}, {\"name\": \"param_1_tuple_fields\", \"value\": [{\"field\": \"year_date\", \"channel\": \"x\", \"type\": \"E\"}, {\"field\": \"month_date\", \"channel\": \"y\", \"type\": \"E\"}]}, {\"name\": \"param_1_translate_anchor\", \"value\": {}, \"on\": [{\"events\": [{\"source\": \"scope\", \"type\": \"pointerdown\"}], \"update\": \"{x: x(unit), y: y(unit), extent_x: domain(\\\"x\\\"), extent_y: domain(\\\"y\\\")}\"}]}, {\"name\": \"param_1_translate_delta\", \"value\": {}, \"on\": [{\"events\": [{\"source\": \"window\", \"between\": [{\"source\": \"scope\", \"type\": \"pointerdown\"}, {\"source\": \"window\", \"type\": \"pointerup\"}], \"type\": \"pointermove\", \"consume\": true}], \"update\": \"{x: param_1_translate_anchor.x - x(unit), y: param_1_translate_anchor.y - y(unit)}\"}]}, {\"name\": \"param_1_zoom_anchor\", \"on\": [{\"events\": [{\"source\": \"scope\", \"type\": \"wheel\", \"consume\": true}], \"update\": \"{x: invert(\\\"x\\\", x(unit)), y: invert(\\\"y\\\", y(unit))}\"}]}, {\"name\": \"param_1_zoom_delta\", \"on\": [{\"events\": [{\"source\": \"scope\", \"consume\": true, \"type\": \"wheel\"}], \"update\": \"pow(1.001, event.deltaY * pow(16, event.deltaMode))\", \"force\": true}]}, {\"name\": \"param_1_modify\", \"on\": [{\"events\": {\"signal\": \"param_1_tuple\"}, \"update\": \"modify(\\\"param_1_store\\\", param_1_tuple, true)\"}]}], \"marks\": [{\"type\": \"rect\", \"name\": \"marks\", \"from\": {\"data\": \"source_0\"}, \"encode\": {\"update\": {\"y\": {\"field\": \"month_date\", \"scale\": \"y\"}, \"fill\": {\"field\": \"sum_price\", \"scale\": \"color\"}, \"x\": {\"field\": \"year_date\", \"scale\": \"x\"}, \"height\": {\"signal\": \"max(0.25, bandwidth('y'))\"}, \"width\": {\"signal\": \"max(0.25, bandwidth('x'))\"}, \"tooltip\": {\"signal\": \"{\\\"date (year-month)\\\": timeFormat(datum[\\\"yearmonth_date\\\"], timeUnitSpecifier([\\\"year\\\",\\\"month\\\"], {\\\"year-month\\\":\\\"%b %Y \\\",\\\"year-month-date\\\":\\\"%b %d, %Y \\\"})), \\\"Sum of price\\\": format(datum[\\\"sum_price\\\"], \\\"\\\")}\"}}}, \"interactive\": true, \"style\": [\"rect\"]}], \"scales\": [{\"name\": \"x\", \"type\": \"band\", \"domain\": {\"data\": \"source_0_x_domain_year_date\", \"field\": \"year_date\", \"sort\": true}, \"range\": [0, {\"signal\": \"width\"}], \"paddingInner\": 0, \"paddingOuter\": 0}, {\"name\": \"y\", \"type\": \"band\", \"domain\": {\"data\": \"source_0_y_domain_month_date\", \"field\": \"month_date\", \"sort\": true}, \"range\": [0, {\"signal\": \"height\"}], \"paddingInner\": 0, \"paddingOuter\": 0}, {\"name\": \"color\", \"type\": \"linear\", \"domain\": [{\"signal\": \"(data(\\\"source_0_color_domain_sum_price\\\")[0] || {}).min\"}, {\"signal\": \"(data(\\\"source_0_color_domain_sum_price\\\")[0] || {}).max\"}], \"range\": \"heatmap\", \"interpolate\": \"hcl\", \"zero\": false}], \"axes\": [{\"scale\": \"x\", \"formatType\": \"time\", \"labelOverlap\": true, \"orient\": \"bottom\", \"grid\": false, \"title\": \"date (year)\", \"format\": {\"signal\": \"timeUnitSpecifier([\\\"year\\\"], {\\\"year-month\\\":\\\"%b %Y \\\",\\\"year-month-date\\\":\\\"%b %d, %Y \\\"})\"}, \"tickMinStep\": {\"signal\": \"datetime(2002, 0, 1, 0, 0, 0, 0) - datetime(2001, 0, 1, 0, 0, 0, 0)\"}, \"zindex\": 1}, {\"scale\": \"y\", \"formatType\": \"time\", \"zindex\": 1, \"format\": {\"signal\": \"timeUnitSpecifier([\\\"month\\\"], {\\\"year-month\\\":\\\"%b %Y \\\",\\\"year-month-date\\\":\\\"%b %d, %Y \\\"})\"}, \"title\": \"date (month)\", \"orient\": \"left\", \"tickMinStep\": {\"signal\": \"datetime(2001, 1, 1, 0, 0, 0, 0) - datetime(2001, 0, 1, 0, 0, 0, 0)\"}, \"grid\": false, \"labelOverlap\": true}], \"style\": \"cell\", \"legends\": [{\"fill\": \"color\", \"gradientLength\": {\"signal\": \"clamp(height, 64, 200)\"}, \"title\": \"Sum of price\"}], \"width\": 500, \"padding\": 5, \"background\": \"white\", \"height\": 300}, {\"mode\": \"vega\"});\n",
       "</script>"
      ],
      "text/plain": [
       "alt.Chart(...)"
      ]
     },
     "execution_count": 3,
     "metadata": {},
     "output_type": "execute_result"
    }
   ],
   "source": [
    "exp.heatmap().properties(height=300,width=500)"
   ]
  },
  {
   "cell_type": "code",
   "execution_count": 4,
   "metadata": {},
   "outputs": [
    {
     "name": "stderr",
     "output_type": "stream",
     "text": [
      "11:05:29 - cmdstanpy - INFO - Chain [1] start processing\n",
      "11:05:29 - cmdstanpy - INFO - Chain [1] done processing\n"
     ]
    },
    {
     "data": {
      "text/html": [
       "\n",
       "<style>\n",
       "  #altair-viz-bdee062198db44288a502983cb2078d1.vega-embed {\n",
       "    width: 100%;\n",
       "    display: flex;\n",
       "  }\n",
       "\n",
       "  #altair-viz-bdee062198db44288a502983cb2078d1.vega-embed details,\n",
       "  #altair-viz-bdee062198db44288a502983cb2078d1.vega-embed details summary {\n",
       "    position: relative;\n",
       "  }\n",
       "</style>\n",
       "<div id=\"altair-viz-bdee062198db44288a502983cb2078d1\"></div>\n",
       "<script type=\"text/javascript\">\n",
       "  var VEGA_DEBUG = (typeof VEGA_DEBUG == \"undefined\") ? {} : VEGA_DEBUG;\n",
       "  (function(spec, embedOpt){\n",
       "    let outputDiv = document.currentScript.previousElementSibling;\n",
       "    if (outputDiv.id !== \"altair-viz-bdee062198db44288a502983cb2078d1\") {\n",
       "      outputDiv = document.getElementById(\"altair-viz-bdee062198db44288a502983cb2078d1\");\n",
       "    }\n",
       "\n",
       "    const paths = {\n",
       "      \"vega\": \"https://cdn.jsdelivr.net/npm/vega@5?noext\",\n",
       "      \"vega-lib\": \"https://cdn.jsdelivr.net/npm/vega-lib?noext\",\n",
       "      \"vega-lite\": \"https://cdn.jsdelivr.net/npm/vega-lite@5.20.1?noext\",\n",
       "      \"vega-embed\": \"https://cdn.jsdelivr.net/npm/vega-embed@6?noext\",\n",
       "    };\n",
       "\n",
       "    function maybeLoadScript(lib, version) {\n",
       "      var key = `${lib.replace(\"-\", \"\")}_version`;\n",
       "      return (VEGA_DEBUG[key] == version) ?\n",
       "        Promise.resolve(paths[lib]) :\n",
       "        new Promise(function(resolve, reject) {\n",
       "          var s = document.createElement('script');\n",
       "          document.getElementsByTagName(\"head\")[0].appendChild(s);\n",
       "          s.async = true;\n",
       "          s.onload = () => {\n",
       "            VEGA_DEBUG[key] = version;\n",
       "            return resolve(paths[lib]);\n",
       "          };\n",
       "          s.onerror = () => reject(`Error loading script: ${paths[lib]}`);\n",
       "          s.src = paths[lib];\n",
       "        });\n",
       "    }\n",
       "\n",
       "    function showError(err) {\n",
       "      outputDiv.innerHTML = `<div class=\"error\" style=\"color:red;\">${err}</div>`;\n",
       "      throw err;\n",
       "    }\n",
       "\n",
       "    function displayChart(vegaEmbed) {\n",
       "      vegaEmbed(outputDiv, spec, embedOpt)\n",
       "        .catch(err => showError(`Javascript Error: ${err.message}<br>This usually means there's a typo in your chart specification. See the javascript console for the full traceback.`));\n",
       "    }\n",
       "\n",
       "    if(typeof define === \"function\" && define.amd) {\n",
       "      requirejs.config({paths});\n",
       "      let deps = [\"vega-embed\"];\n",
       "      require(deps, displayChart, err => showError(`Error loading script: ${err.message}`));\n",
       "    } else {\n",
       "      maybeLoadScript(\"vega\", \"5\")\n",
       "        .then(() => maybeLoadScript(\"vega-lite\", \"5.20.1\"))\n",
       "        .then(() => maybeLoadScript(\"vega-embed\", \"6\"))\n",
       "        .catch(showError)\n",
       "        .then(() => displayChart(vegaEmbed));\n",
       "    }\n",
       "  })({\"$schema\": \"https://vega.github.io/schema/vega/v5.json\", \"data\": [{\"name\": \"param_2_store\"}, {\"name\": \"source_0\", \"values\": [{\"ds\": \"2018-03-31T00:00:00.000\", \"trend\": 24436.0}, {\"ds\": \"2018-04-30T00:00:00.000\", \"trend\": 25094.0}, {\"ds\": \"2018-05-31T00:00:00.000\", \"trend\": 25774.0}, {\"ds\": \"2018-06-30T00:00:00.000\", \"trend\": 26432.0}, {\"ds\": \"2018-07-31T00:00:00.000\", \"trend\": 27112.0}, {\"ds\": \"2018-08-31T00:00:00.000\", \"trend\": 27792.0}, {\"ds\": \"2018-09-30T00:00:00.000\", \"trend\": 28450.0}, {\"ds\": \"2018-10-31T00:00:00.000\", \"trend\": 29130.0}, {\"ds\": \"2018-11-30T00:00:00.000\", \"trend\": 29788.0}, {\"ds\": \"2018-12-31T00:00:00.000\", \"trend\": 30468.0}, {\"ds\": \"2019-01-31T00:00:00.000\", \"trend\": 31148.0}, {\"ds\": \"2019-02-28T00:00:00.000\", \"trend\": 31763.0}, {\"ds\": \"2019-03-31T00:00:00.000\", \"trend\": 32443.0}, {\"ds\": \"2019-04-30T00:00:00.000\", \"trend\": 33101.0}, {\"ds\": \"2019-05-31T00:00:00.000\", \"trend\": 33781.0}, {\"ds\": \"2019-06-30T00:00:00.000\", \"trend\": 34439.0}, {\"ds\": \"2019-07-31T00:00:00.000\", \"trend\": 35119.0}, {\"ds\": \"2019-08-31T00:00:00.000\", \"trend\": 35799.0}, {\"ds\": \"2019-09-30T00:00:00.000\", \"trend\": 36457.0}, {\"ds\": \"2019-10-31T00:00:00.000\", \"trend\": 37137.0}, {\"ds\": \"2019-11-30T00:00:00.000\", \"trend\": 37795.0}, {\"ds\": \"2019-12-31T00:00:00.000\", \"trend\": 38475.0}, {\"ds\": \"2020-01-31T00:00:00.000\", \"trend\": 39155.0}, {\"ds\": \"2020-02-29T00:00:00.000\", \"trend\": 39791.0}, {\"ds\": \"2020-03-31T00:00:00.000\", \"trend\": 40471.0}, {\"ds\": \"2020-04-30T00:00:00.000\", \"trend\": 41129.0}, {\"ds\": \"2020-05-31T00:00:00.000\", \"trend\": 41809.0}, {\"ds\": \"2020-06-30T00:00:00.000\", \"trend\": 42467.0}, {\"ds\": \"2020-07-31T00:00:00.000\", \"trend\": 43147.0}, {\"ds\": \"2020-08-31T00:00:00.000\", \"trend\": 43827.0}, {\"ds\": \"2020-09-30T00:00:00.000\", \"trend\": 44485.0}, {\"ds\": \"2020-10-31T00:00:00.000\", \"trend\": 45165.0}, {\"ds\": \"2020-11-30T00:00:00.000\", \"trend\": 45824.0}, {\"ds\": \"2020-12-31T00:00:00.000\", \"trend\": 46504.0}, {\"ds\": \"2021-01-31T00:00:00.000\", \"trend\": 47184.0}, {\"ds\": \"2021-02-28T00:00:00.000\", \"trend\": 47798.0}, {\"ds\": \"2021-03-31T00:00:00.000\", \"trend\": 48478.0}, {\"ds\": \"2021-04-30T00:00:00.000\", \"trend\": 49136.0}, {\"ds\": \"2021-05-31T00:00:00.000\", \"trend\": 49816.0}, {\"ds\": \"2021-06-30T00:00:00.000\", \"trend\": 50475.0}, {\"ds\": \"2021-07-31T00:00:00.000\", \"trend\": 51155.0}, {\"ds\": \"2021-08-31T00:00:00.000\", \"trend\": 51835.0}, {\"ds\": \"2021-09-30T00:00:00.000\", \"trend\": 52494.0}, {\"ds\": \"2021-10-31T00:00:00.000\", \"trend\": 53174.0}, {\"ds\": \"2021-11-30T00:00:00.000\", \"trend\": 53832.0}, {\"ds\": \"2021-12-31T00:00:00.000\", \"trend\": 54512.0}, {\"ds\": \"2022-01-31T00:00:00.000\", \"trend\": 55193.0}, {\"ds\": \"2022-02-28T00:00:00.000\", \"trend\": 55807.0}, {\"ds\": \"2022-03-31T00:00:00.000\", \"trend\": 56488.0}, {\"ds\": \"2022-04-30T00:00:00.000\", \"trend\": 57146.0}, {\"ds\": \"2022-05-31T00:00:00.000\", \"trend\": 57827.0}, {\"ds\": \"2022-06-30T00:00:00.000\", \"trend\": 58485.0}, {\"ds\": \"2022-07-31T00:00:00.000\", \"trend\": 59166.0}, {\"ds\": \"2022-08-31T00:00:00.000\", \"trend\": 59846.0}, {\"ds\": \"2022-09-30T00:00:00.000\", \"trend\": 60505.0}, {\"ds\": \"2022-10-31T00:00:00.000\", \"trend\": 61186.0}, {\"ds\": \"2022-11-30T00:00:00.000\", \"trend\": 61845.0}, {\"ds\": \"2022-12-31T00:00:00.000\", \"trend\": 62526.0}, {\"ds\": \"2023-01-31T00:00:00.000\", \"trend\": 63206.0}, {\"ds\": \"2023-02-28T00:00:00.000\", \"trend\": 63821.0}, {\"ds\": \"2023-03-31T00:00:00.000\", \"trend\": 64502.0}, {\"ds\": \"2023-04-30T00:00:00.000\", \"trend\": 65161.0}, {\"ds\": \"2023-05-31T00:00:00.000\", \"trend\": 65842.0}, {\"ds\": \"2023-06-30T00:00:00.000\", \"trend\": 66501.0}, {\"ds\": \"2023-07-31T00:00:00.000\", \"trend\": 67181.0}, {\"ds\": \"2023-08-31T00:00:00.000\", \"trend\": 67862.0}, {\"ds\": \"2023-09-30T00:00:00.000\", \"trend\": 68521.0}, {\"ds\": \"2023-10-31T00:00:00.000\", \"trend\": 69202.0}, {\"ds\": \"2023-11-30T00:00:00.000\", \"trend\": 69861.0}, {\"ds\": \"2023-12-31T00:00:00.000\", \"trend\": 70541.0}, {\"ds\": \"2024-01-31T00:00:00.000\", \"trend\": 71222.0}, {\"ds\": \"2024-02-29T00:00:00.000\", \"trend\": 71859.0}, {\"ds\": \"2024-03-31T00:00:00.000\", \"trend\": 72540.0}, {\"ds\": \"2024-04-30T00:00:00.000\", \"trend\": 73199.0}, {\"ds\": \"2024-05-31T00:00:00.000\", \"trend\": 73880.0}, {\"ds\": \"2024-06-30T00:00:00.000\", \"trend\": 74538.0}, {\"ds\": \"2024-07-31T00:00:00.000\", \"trend\": 75219.0}, {\"ds\": \"2024-08-31T00:00:00.000\", \"trend\": 75900.0}, {\"ds\": \"2024-09-30T00:00:00.000\", \"trend\": 76559.0}, {\"ds\": \"2024-10-31T00:00:00.000\", \"trend\": 77240.0}, {\"ds\": \"2024-11-30T00:00:00.000\", \"trend\": 77899.0}, {\"ds\": \"2024-12-31T00:00:00.000\", \"trend\": 78579.0}, {\"ds\": \"2025-01-31T00:00:00.000\", \"trend\": 79260.0}, {\"ds\": \"2025-02-28T00:00:00.000\", \"trend\": 79875.0}, {\"ds\": \"2025-03-31T00:00:00.000\", \"trend\": 80556.0}, {\"ds\": \"2025-04-30T00:00:00.000\", \"trend\": 81215.0}, {\"ds\": \"2025-05-31T00:00:00.000\", \"trend\": 81896.0}, {\"ds\": \"2025-06-30T00:00:00.000\", \"trend\": 82554.0}, {\"ds\": \"2025-07-31T00:00:00.000\", \"trend\": 83235.0}, {\"ds\": \"2025-08-31T00:00:00.000\", \"trend\": 83916.0}, {\"ds\": \"2025-09-30T00:00:00.000\", \"trend\": 84575.0}], \"transform\": [{\"type\": \"formula\", \"expr\": \"toDate(datum['ds'])\", \"as\": \"ds\"}]}, {\"name\": \"source_1\", \"values\": [{\"ds\": \"2018-03-31T00:00:00.000\", \"yhat_upper\": 30154.0}, {\"ds\": \"2018-04-30T00:00:00.000\", \"yhat_upper\": 41103.0}, {\"ds\": \"2018-05-31T00:00:00.000\", \"yhat_upper\": 45242.0}, {\"ds\": \"2018-06-30T00:00:00.000\", \"yhat_upper\": 33856.0}, {\"ds\": \"2018-07-31T00:00:00.000\", \"yhat_upper\": 40800.0}, {\"ds\": \"2018-08-31T00:00:00.000\", \"yhat_upper\": 56508.0}, {\"ds\": \"2018-09-30T00:00:00.000\", \"yhat_upper\": 55140.0}, {\"ds\": \"2018-10-31T00:00:00.000\", \"yhat_upper\": 38863.0}, {\"ds\": \"2018-11-30T00:00:00.000\", \"yhat_upper\": 36216.0}, {\"ds\": \"2018-12-31T00:00:00.000\", \"yhat_upper\": 48547.0}, {\"ds\": \"2019-01-31T00:00:00.000\", \"yhat_upper\": 50666.0}, {\"ds\": \"2019-02-28T00:00:00.000\", \"yhat_upper\": 42163.0}, {\"ds\": \"2019-03-31T00:00:00.000\", \"yhat_upper\": 37540.0}, {\"ds\": \"2019-04-30T00:00:00.000\", \"yhat_upper\": 44661.0}, {\"ds\": \"2019-05-31T00:00:00.000\", \"yhat_upper\": 64695.0}, {\"ds\": \"2019-06-30T00:00:00.000\", \"yhat_upper\": 39944.0}, {\"ds\": \"2019-07-31T00:00:00.000\", \"yhat_upper\": 41200.0}, {\"ds\": \"2019-08-31T00:00:00.000\", \"yhat_upper\": 68825.0}, {\"ds\": \"2019-09-30T00:00:00.000\", \"yhat_upper\": 67814.0}, {\"ds\": \"2019-10-31T00:00:00.000\", \"yhat_upper\": 40353.0}, {\"ds\": \"2019-11-30T00:00:00.000\", \"yhat_upper\": 42770.0}, {\"ds\": \"2019-12-31T00:00:00.000\", \"yhat_upper\": 61082.0}, {\"ds\": \"2020-01-31T00:00:00.000\", \"yhat_upper\": 58930.0}, {\"ds\": \"2020-02-29T00:00:00.000\", \"yhat_upper\": 58730.0}, {\"ds\": \"2020-03-31T00:00:00.000\", \"yhat_upper\": 48714.0}, {\"ds\": \"2020-04-30T00:00:00.000\", \"yhat_upper\": 63792.0}, {\"ds\": \"2020-05-31T00:00:00.000\", \"yhat_upper\": 40836.0}, {\"ds\": \"2020-06-30T00:00:00.000\", \"yhat_upper\": 59138.0}, {\"ds\": \"2020-07-31T00:00:00.000\", \"yhat_upper\": 70765.0}, {\"ds\": \"2020-08-31T00:00:00.000\", \"yhat_upper\": 62934.0}, {\"ds\": \"2020-09-30T00:00:00.000\", \"yhat_upper\": 56187.0}, {\"ds\": \"2020-10-31T00:00:00.000\", \"yhat_upper\": 72030.0}, {\"ds\": \"2020-11-30T00:00:00.000\", \"yhat_upper\": 57953.0}, {\"ds\": \"2020-12-31T00:00:00.000\", \"yhat_upper\": 55919.0}, {\"ds\": \"2021-01-31T00:00:00.000\", \"yhat_upper\": 62610.0}, {\"ds\": \"2021-02-28T00:00:00.000\", \"yhat_upper\": 63572.0}, {\"ds\": \"2021-03-31T00:00:00.000\", \"yhat_upper\": 55880.0}, {\"ds\": \"2021-04-30T00:00:00.000\", \"yhat_upper\": 69350.0}, {\"ds\": \"2021-05-31T00:00:00.000\", \"yhat_upper\": 59714.0}, {\"ds\": \"2021-06-30T00:00:00.000\", \"yhat_upper\": 62661.0}, {\"ds\": \"2021-07-31T00:00:00.000\", \"yhat_upper\": 71497.0}, {\"ds\": \"2021-08-31T00:00:00.000\", \"yhat_upper\": 76140.0}, {\"ds\": \"2021-09-30T00:00:00.000\", \"yhat_upper\": 71373.0}, {\"ds\": \"2021-10-31T00:00:00.000\", \"yhat_upper\": 71336.0}, {\"ds\": \"2021-11-30T00:00:00.000\", \"yhat_upper\": 61385.0}, {\"ds\": \"2021-12-31T00:00:00.000\", \"yhat_upper\": 67682.0}, {\"ds\": \"2022-01-31T00:00:00.000\", \"yhat_upper\": 70925.0}, {\"ds\": \"2022-02-28T00:00:00.000\", \"yhat_upper\": 69813.0}, {\"ds\": \"2022-03-31T00:00:00.000\", \"yhat_upper\": 62319.0}, {\"ds\": \"2022-04-30T00:00:00.000\", \"yhat_upper\": 74019.0}, {\"ds\": \"2022-05-31T00:00:00.000\", \"yhat_upper\": 76958.0}, {\"ds\": \"2022-06-30T00:00:00.000\", \"yhat_upper\": 65591.0}, {\"ds\": \"2022-07-31T00:00:00.000\", \"yhat_upper\": 72627.0}, {\"ds\": \"2022-08-31T00:00:00.000\", \"yhat_upper\": 88301.0}, {\"ds\": \"2022-09-30T00:00:00.000\", \"yhat_upper\": 85484.0}, {\"ds\": \"2022-10-31T00:00:00.000\", \"yhat_upper\": 70709.0}, {\"ds\": \"2022-11-30T00:00:00.000\", \"yhat_upper\": 68575.0}, {\"ds\": \"2022-12-31T00:00:00.000\", \"yhat_upper\": 80445.0}, {\"ds\": \"2023-01-31T00:00:00.000\", \"yhat_upper\": 82223.0}, {\"ds\": \"2023-02-28T00:00:00.000\", \"yhat_upper\": 75492.0}, {\"ds\": \"2023-03-31T00:00:00.000\", \"yhat_upper\": 70069.0}, {\"ds\": \"2023-04-30T00:00:00.000\", \"yhat_upper\": 77748.0}, {\"ds\": \"2023-05-31T00:00:00.000\", \"yhat_upper\": 96774.0}, {\"ds\": \"2023-06-30T00:00:00.000\", \"yhat_upper\": 71846.0}, {\"ds\": \"2023-07-31T00:00:00.000\", \"yhat_upper\": 73608.0}, {\"ds\": \"2023-08-31T00:00:00.000\", \"yhat_upper\": 100149.0}, {\"ds\": \"2023-09-30T00:00:00.000\", \"yhat_upper\": 101697.0}, {\"ds\": \"2023-10-31T00:00:00.000\", \"yhat_upper\": 72377.0}, {\"ds\": \"2023-11-30T00:00:00.000\", \"yhat_upper\": 75662.0}, {\"ds\": \"2023-12-31T00:00:00.000\", \"yhat_upper\": 93787.0}, {\"ds\": \"2024-01-31T00:00:00.000\", \"yhat_upper\": 91081.0}, {\"ds\": \"2024-02-29T00:00:00.000\", \"yhat_upper\": 90450.0}, {\"ds\": \"2024-03-31T00:00:00.000\", \"yhat_upper\": 80258.0}, {\"ds\": \"2024-04-30T00:00:00.000\", \"yhat_upper\": 97041.0}, {\"ds\": \"2024-05-31T00:00:00.000\", \"yhat_upper\": 73817.0}, {\"ds\": \"2024-06-30T00:00:00.000\", \"yhat_upper\": 91916.0}, {\"ds\": \"2024-07-31T00:00:00.000\", \"yhat_upper\": 102066.0}, {\"ds\": \"2024-08-31T00:00:00.000\", \"yhat_upper\": 94200.0}, {\"ds\": \"2024-09-30T00:00:00.000\", \"yhat_upper\": 88337.0}, {\"ds\": \"2024-10-31T00:00:00.000\", \"yhat_upper\": 103833.0}, {\"ds\": \"2024-11-30T00:00:00.000\", \"yhat_upper\": 89735.0}, {\"ds\": \"2024-12-31T00:00:00.000\", \"yhat_upper\": 88171.0}, {\"ds\": \"2025-01-31T00:00:00.000\", \"yhat_upper\": 93572.0}, {\"ds\": \"2025-02-28T00:00:00.000\", \"yhat_upper\": 94574.0}, {\"ds\": \"2025-03-31T00:00:00.000\", \"yhat_upper\": 88708.0}, {\"ds\": \"2025-04-30T00:00:00.000\", \"yhat_upper\": 100696.0}, {\"ds\": \"2025-05-31T00:00:00.000\", \"yhat_upper\": 91898.0}, {\"ds\": \"2025-06-30T00:00:00.000\", \"yhat_upper\": 95236.0}, {\"ds\": \"2025-07-31T00:00:00.000\", \"yhat_upper\": 102795.0}, {\"ds\": \"2025-08-31T00:00:00.000\", \"yhat_upper\": 107066.0}, {\"ds\": \"2025-09-30T00:00:00.000\", \"yhat_upper\": 102371.0}], \"transform\": [{\"type\": \"formula\", \"expr\": \"toDate(datum['ds'])\", \"as\": \"ds\"}]}, {\"name\": \"source_2\", \"values\": [{\"ds\": \"2018-03-31T00:00:00.000\", \"y\": 19183}, {\"ds\": \"2018-04-30T00:00:00.000\", \"y\": 34192}, {\"ds\": \"2018-05-31T00:00:00.000\", \"y\": 19057}, {\"ds\": \"2018-06-30T00:00:00.000\", \"y\": 28942}, {\"ds\": \"2018-07-31T00:00:00.000\", \"y\": 28622}, {\"ds\": \"2018-08-31T00:00:00.000\", \"y\": 55519}, {\"ds\": \"2018-09-30T00:00:00.000\", \"y\": 21665}, {\"ds\": \"2018-10-31T00:00:00.000\", \"y\": 26939}, {\"ds\": \"2018-11-30T00:00:00.000\", \"y\": 25467}, {\"ds\": \"2018-12-31T00:00:00.000\", \"y\": 45338}, {\"ds\": \"2019-01-31T00:00:00.000\", \"y\": 31667}, {\"ds\": \"2019-02-28T00:00:00.000\", \"y\": 26909}, {\"ds\": \"2019-03-31T00:00:00.000\", \"y\": 23041}, {\"ds\": \"2019-04-30T00:00:00.000\", \"y\": 33874}, {\"ds\": \"2019-05-31T00:00:00.000\", \"y\": 27119}, {\"ds\": \"2019-06-30T00:00:00.000\", \"y\": 30990}, {\"ds\": \"2019-07-31T00:00:00.000\", \"y\": 29068}, {\"ds\": \"2019-08-31T00:00:00.000\", \"y\": 66664}, {\"ds\": \"2019-09-30T00:00:00.000\", \"y\": 82705}, {\"ds\": \"2019-10-31T00:00:00.000\", \"y\": 22566}, {\"ds\": \"2019-11-30T00:00:00.000\", \"y\": 33972}, {\"ds\": \"2019-12-31T00:00:00.000\", \"y\": 36986}, {\"ds\": \"2020-01-31T00:00:00.000\", \"y\": 78282}, {\"ds\": \"2020-02-29T00:00:00.000\", \"y\": 27623}, {\"ds\": \"2020-03-31T00:00:00.000\", \"y\": 23233}, {\"ds\": \"2020-04-30T00:00:00.000\", \"y\": 15774}, {\"ds\": \"2020-05-31T00:00:00.000\", \"y\": 22930}, {\"ds\": \"2020-06-30T00:00:00.000\", \"y\": 29031}, {\"ds\": \"2020-07-31T00:00:00.000\", \"y\": 21877}, {\"ds\": \"2020-08-31T00:00:00.000\", \"y\": 39795}, {\"ds\": \"2020-09-30T00:00:00.000\", \"y\": 19416}, {\"ds\": \"2020-10-31T00:00:00.000\", \"y\": 30476}, {\"ds\": \"2020-11-30T00:00:00.000\", \"y\": 25236}, {\"ds\": \"2020-12-31T00:00:00.000\", \"y\": 43245}, {\"ds\": \"2021-01-31T00:00:00.000\", \"y\": 54028}, {\"ds\": \"2021-02-28T00:00:00.000\", \"y\": 35580}, {\"ds\": \"2021-03-31T00:00:00.000\", \"y\": 25651}, {\"ds\": \"2021-04-30T00:00:00.000\", \"y\": 44842}, {\"ds\": \"2021-05-31T00:00:00.000\", \"y\": 30757}, {\"ds\": \"2021-06-30T00:00:00.000\", \"y\": 41043}, {\"ds\": \"2021-07-31T00:00:00.000\", \"y\": 51235}, {\"ds\": \"2021-08-31T00:00:00.000\", \"y\": 38760}, {\"ds\": \"2021-09-30T00:00:00.000\", \"y\": 58508}, {\"ds\": \"2021-10-31T00:00:00.000\", \"y\": 64912}, {\"ds\": \"2021-11-30T00:00:00.000\", \"y\": 52258}, {\"ds\": \"2021-12-31T00:00:00.000\", \"y\": 20705}, {\"ds\": \"2022-01-31T00:00:00.000\", \"y\": 49293}, {\"ds\": \"2022-02-28T00:00:00.000\", \"y\": 41119}, {\"ds\": \"2022-03-31T00:00:00.000\", \"y\": 54458}, {\"ds\": \"2022-04-30T00:00:00.000\", \"y\": 60447}, {\"ds\": \"2022-05-31T00:00:00.000\", \"y\": 58500}, {\"ds\": \"2022-06-30T00:00:00.000\", \"y\": 40074}, {\"ds\": \"2022-07-31T00:00:00.000\", \"y\": 63631}, {\"ds\": \"2022-08-31T00:00:00.000\", \"y\": 44998}, {\"ds\": \"2022-09-30T00:00:00.000\", \"y\": 44006}, {\"ds\": \"2022-10-31T00:00:00.000\", \"y\": 31754}, {\"ds\": \"2022-11-30T00:00:00.000\", \"y\": 65402}, {\"ds\": \"2022-12-31T00:00:00.000\", \"y\": 44617}, {\"ds\": \"2023-01-31T00:00:00.000\", \"y\": 36922}, {\"ds\": \"2023-02-28T00:00:00.000\", \"y\": 56614}, {\"ds\": \"2023-03-31T00:00:00.000\", \"y\": 40502}, {\"ds\": \"2023-04-30T00:00:00.000\", \"y\": 51413}, {\"ds\": \"2023-05-31T00:00:00.000\", \"y\": 115147}, {\"ds\": \"2023-06-30T00:00:00.000\", \"y\": 53833}, {\"ds\": \"2023-07-31T00:00:00.000\", \"y\": 54182}, {\"ds\": \"2023-08-31T00:00:00.000\", \"y\": 92769}, {\"ds\": \"2023-09-30T00:00:00.000\", \"y\": 93638}, {\"ds\": \"2023-10-31T00:00:00.000\", \"y\": 68449}, {\"ds\": \"2023-11-30T00:00:00.000\", \"y\": 37772}, {\"ds\": \"2023-12-31T00:00:00.000\", \"y\": 97338}, {\"ds\": \"2024-01-31T00:00:00.000\", \"y\": 55360}, {\"ds\": \"2024-02-29T00:00:00.000\", \"y\": 78208}, {\"ds\": \"2024-03-31T00:00:00.000\", \"y\": 65045}, {\"ds\": \"2024-04-30T00:00:00.000\", \"y\": 106415}, {\"ds\": \"2024-05-31T00:00:00.000\", \"y\": 55943}, {\"ds\": \"2024-06-30T00:00:00.000\", \"y\": 70895}, {\"ds\": \"2024-07-31T00:00:00.000\", \"y\": 92235}, {\"ds\": \"2024-08-31T00:00:00.000\", \"y\": 78183}, {\"ds\": \"2024-09-30T00:00:00.000\", \"y\": 81509}, {\"ds\": \"2024-10-31T00:00:00.000\", \"y\": 91160}, {\"ds\": \"2024-11-30T00:00:00.000\", \"y\": 62920}, {\"ds\": \"2024-12-31T00:00:00.000\", \"y\": 80295}, {\"ds\": \"2025-01-31T00:00:00.000\", \"y\": 73866}, {\"ds\": \"2025-02-28T00:00:00.000\", \"y\": 96671}, {\"ds\": \"2025-03-31T00:00:00.000\", \"y\": 74346}, {\"ds\": \"2025-04-30T00:00:00.000\", \"y\": 75460}], \"transform\": [{\"type\": \"formula\", \"expr\": \"toDate(datum['ds'])\", \"as\": \"ds\"}]}], \"signals\": [{\"name\": \"unit\", \"value\": {}, \"on\": [{\"events\": \"pointermove\", \"update\": \"isTuple(group()) ? group() : unit\"}]}, {\"name\": \"param_2\", \"update\": \"vlSelectionResolve(\\\"param_2_store\\\", \\\"union\\\")\"}, {\"name\": \"param_2_ds\", \"on\": [{\"events\": [{\"source\": \"view\", \"type\": \"dblclick\"}], \"update\": \"null\"}, {\"events\": {\"signal\": \"param_2_translate_delta\"}, \"update\": \"panLinear(param_2_translate_anchor.extent_x, -param_2_translate_delta.x / width)\"}, {\"events\": {\"signal\": \"param_2_zoom_delta\"}, \"update\": \"zoomLinear(domain(\\\"x\\\"), param_2_zoom_anchor.x, param_2_zoom_delta)\"}]}, {\"name\": \"param_2_trend\", \"on\": [{\"events\": [{\"source\": \"view\", \"type\": \"dblclick\"}], \"update\": \"null\"}, {\"events\": {\"signal\": \"param_2_translate_delta\"}, \"update\": \"panLinear(param_2_translate_anchor.extent_y, param_2_translate_delta.y / height)\"}, {\"events\": {\"signal\": \"param_2_zoom_delta\"}, \"update\": \"zoomLinear(domain(\\\"y\\\"), param_2_zoom_anchor.y, param_2_zoom_delta)\"}]}, {\"name\": \"param_2_tuple\", \"on\": [{\"events\": [{\"signal\": \"param_2_ds || param_2_trend\"}], \"update\": \"param_2_ds && param_2_trend ? {unit: \\\"view_1\\\", fields: param_2_tuple_fields, values: [param_2_ds,param_2_trend]} : null\"}]}, {\"name\": \"param_2_tuple_fields\", \"value\": [{\"field\": \"ds\", \"channel\": \"x\", \"type\": \"R\"}, {\"field\": \"trend\", \"channel\": \"y\", \"type\": \"R\"}]}, {\"name\": \"param_2_translate_anchor\", \"value\": {}, \"on\": [{\"events\": [{\"source\": \"scope\", \"type\": \"pointerdown\"}], \"update\": \"{x: x(unit), y: y(unit), extent_x: domain(\\\"x\\\"), extent_y: domain(\\\"y\\\")}\"}]}, {\"name\": \"param_2_translate_delta\", \"value\": {}, \"on\": [{\"events\": [{\"source\": \"window\", \"between\": [{\"source\": \"scope\", \"type\": \"pointerdown\"}, {\"source\": \"window\", \"type\": \"pointerup\"}], \"type\": \"pointermove\", \"consume\": true}], \"update\": \"{x: param_2_translate_anchor.x - x(unit), y: param_2_translate_anchor.y - y(unit)}\"}]}, {\"name\": \"param_2_zoom_anchor\", \"on\": [{\"events\": [{\"source\": \"scope\", \"type\": \"wheel\", \"consume\": true}], \"update\": \"{x: invert(\\\"x\\\", x(unit)), y: invert(\\\"y\\\", y(unit))}\"}]}, {\"name\": \"param_2_zoom_delta\", \"on\": [{\"events\": [{\"source\": \"scope\", \"type\": \"wheel\", \"consume\": true}], \"update\": \"pow(1.001, event.deltaY * pow(16, event.deltaMode))\", \"force\": true}]}, {\"name\": \"param_2_modify\", \"on\": [{\"events\": {\"signal\": \"param_2_tuple\"}, \"update\": \"modify(\\\"param_2_store\\\", param_2_tuple, true)\"}]}], \"marks\": [{\"type\": \"line\", \"name\": \"view_1_marks\", \"from\": {\"data\": \"source_0\"}, \"sort\": {\"field\": \"x\"}, \"encode\": {\"update\": {\"stroke\": {\"value\": \"green\"}, \"y\": {\"field\": \"trend\", \"scale\": \"y\"}, \"defined\": {\"signal\": \"isValid(datum[\\\"ds\\\"]) && isFinite(+datum[\\\"ds\\\"]) && isValid(datum[\\\"trend\\\"]) && isFinite(+datum[\\\"trend\\\"])\"}, \"x\": {\"field\": \"ds\", \"scale\": \"x\"}, \"tooltip\": {\"signal\": \"{\\\"ds\\\": timeFormat(datum[\\\"ds\\\"], '%b %d, %Y'), \\\"trend\\\": format(datum[\\\"trend\\\"], \\\"\\\")}\"}}}, \"style\": [\"line\"], \"clip\": true, \"interactive\": true}, {\"type\": \"line\", \"name\": \"layer_1_marks\", \"from\": {\"data\": \"source_1\"}, \"sort\": {\"field\": \"x\"}, \"encode\": {\"update\": {\"defined\": {\"signal\": \"isValid(datum[\\\"ds\\\"]) && isFinite(+datum[\\\"ds\\\"]) && isValid(datum[\\\"yhat_upper\\\"]) && isFinite(+datum[\\\"yhat_upper\\\"])\"}, \"x\": {\"field\": \"ds\", \"scale\": \"x\"}, \"stroke\": {\"value\": \"red\"}, \"y\": {\"field\": \"yhat_upper\", \"scale\": \"y\"}}}, \"interactive\": false, \"clip\": true, \"style\": [\"line\"]}, {\"type\": \"symbol\", \"name\": \"layer_2_marks\", \"from\": {\"data\": \"source_2\"}, \"encode\": {\"update\": {\"opacity\": {\"value\": 0.7}, \"tooltip\": {\"signal\": \"{\\\"ds\\\": timeFormat(datum[\\\"ds\\\"], '%b %d, %Y'), \\\"y\\\": format(datum[\\\"y\\\"], \\\"\\\")}\"}, \"shape\": {\"value\": \"circle\"}, \"fill\": {\"value\": \"blue\"}, \"y\": {\"field\": \"y\", \"scale\": \"y\"}, \"x\": {\"field\": \"ds\", \"scale\": \"x\"}}}, \"style\": [\"circle\"], \"clip\": true, \"interactive\": true}], \"scales\": [{\"name\": \"x\", \"type\": \"time\", \"domain\": {\"fields\": [{\"data\": \"source_0\", \"field\": \"ds\"}, {\"data\": \"source_1\", \"field\": \"ds\"}, {\"data\": \"source_2\", \"field\": \"ds\"}]}, \"range\": [0, {\"signal\": \"width\"}], \"domainRaw\": {\"signal\": \"param_2[\\\"ds\\\"]\"}}, {\"name\": \"y\", \"type\": \"linear\", \"domain\": {\"fields\": [{\"data\": \"source_0\", \"field\": \"trend\"}, {\"data\": \"source_1\", \"field\": \"yhat_upper\"}, {\"data\": \"source_2\", \"field\": \"y\"}]}, \"range\": [{\"signal\": \"height\"}, 0], \"domainRaw\": {\"signal\": \"param_2[\\\"trend\\\"]\"}, \"zero\": true, \"nice\": true}], \"axes\": [{\"scale\": \"x\", \"zindex\": 0, \"orient\": \"bottom\", \"ticks\": false, \"domain\": false, \"tickCount\": {\"signal\": \"ceil(width/40)\"}, \"maxExtent\": 0, \"grid\": true, \"labels\": false, \"aria\": false, \"gridScale\": \"y\", \"minExtent\": 0}, {\"scale\": \"y\", \"orient\": \"left\", \"aria\": false, \"grid\": true, \"maxExtent\": 0, \"minExtent\": 0, \"zindex\": 0, \"labels\": false, \"ticks\": false, \"domain\": false, \"gridScale\": \"x\", \"tickCount\": {\"signal\": \"ceil(height/40)\"}}, {\"scale\": \"x\", \"title\": \"ds\", \"zindex\": 0, \"grid\": false, \"labelFlush\": true, \"orient\": \"bottom\", \"tickCount\": {\"signal\": \"ceil(width/40)\"}, \"labelOverlap\": true, \"format\": \"%b-%Y\"}, {\"scale\": \"y\", \"zindex\": 0, \"title\": \"trend, yhat_upper, y\", \"orient\": \"left\", \"grid\": false, \"labelOverlap\": true, \"tickCount\": {\"signal\": \"ceil(height/40)\"}}], \"background\": \"white\", \"padding\": 5, \"height\": 300, \"style\": \"cell\", \"width\": 800}, {\"mode\": \"vega\"});\n",
       "</script>"
      ],
      "text/plain": [
       "alt.LayerChart(...)"
      ]
     },
     "execution_count": 4,
     "metadata": {},
     "output_type": "execute_result"
    }
   ],
   "source": [
    "exp.monthly_projection().properties(width=800)"
   ]
  },
  {
   "cell_type": "markdown",
   "metadata": {},
   "source": [
    "## Monthly distribution"
   ]
  },
  {
   "cell_type": "code",
   "execution_count": 5,
   "metadata": {},
   "outputs": [
    {
     "data": {
      "text/html": [
       "\n",
       "<style>\n",
       "  #altair-viz-432c88eefd384824903e82ebca1d802a.vega-embed {\n",
       "    width: 100%;\n",
       "    display: flex;\n",
       "  }\n",
       "\n",
       "  #altair-viz-432c88eefd384824903e82ebca1d802a.vega-embed details,\n",
       "  #altair-viz-432c88eefd384824903e82ebca1d802a.vega-embed details summary {\n",
       "    position: relative;\n",
       "  }\n",
       "</style>\n",
       "<div id=\"altair-viz-432c88eefd384824903e82ebca1d802a\"></div>\n",
       "<script type=\"text/javascript\">\n",
       "  var VEGA_DEBUG = (typeof VEGA_DEBUG == \"undefined\") ? {} : VEGA_DEBUG;\n",
       "  (function(spec, embedOpt){\n",
       "    let outputDiv = document.currentScript.previousElementSibling;\n",
       "    if (outputDiv.id !== \"altair-viz-432c88eefd384824903e82ebca1d802a\") {\n",
       "      outputDiv = document.getElementById(\"altair-viz-432c88eefd384824903e82ebca1d802a\");\n",
       "    }\n",
       "\n",
       "    const paths = {\n",
       "      \"vega\": \"https://cdn.jsdelivr.net/npm/vega@5?noext\",\n",
       "      \"vega-lib\": \"https://cdn.jsdelivr.net/npm/vega-lib?noext\",\n",
       "      \"vega-lite\": \"https://cdn.jsdelivr.net/npm/vega-lite@5.20.1?noext\",\n",
       "      \"vega-embed\": \"https://cdn.jsdelivr.net/npm/vega-embed@6?noext\",\n",
       "    };\n",
       "\n",
       "    function maybeLoadScript(lib, version) {\n",
       "      var key = `${lib.replace(\"-\", \"\")}_version`;\n",
       "      return (VEGA_DEBUG[key] == version) ?\n",
       "        Promise.resolve(paths[lib]) :\n",
       "        new Promise(function(resolve, reject) {\n",
       "          var s = document.createElement('script');\n",
       "          document.getElementsByTagName(\"head\")[0].appendChild(s);\n",
       "          s.async = true;\n",
       "          s.onload = () => {\n",
       "            VEGA_DEBUG[key] = version;\n",
       "            return resolve(paths[lib]);\n",
       "          };\n",
       "          s.onerror = () => reject(`Error loading script: ${paths[lib]}`);\n",
       "          s.src = paths[lib];\n",
       "        });\n",
       "    }\n",
       "\n",
       "    function showError(err) {\n",
       "      outputDiv.innerHTML = `<div class=\"error\" style=\"color:red;\">${err}</div>`;\n",
       "      throw err;\n",
       "    }\n",
       "\n",
       "    function displayChart(vegaEmbed) {\n",
       "      vegaEmbed(outputDiv, spec, embedOpt)\n",
       "        .catch(err => showError(`Javascript Error: ${err.message}<br>This usually means there's a typo in your chart specification. See the javascript console for the full traceback.`));\n",
       "    }\n",
       "\n",
       "    if(typeof define === \"function\" && define.amd) {\n",
       "      requirejs.config({paths});\n",
       "      let deps = [\"vega-embed\"];\n",
       "      require(deps, displayChart, err => showError(`Error loading script: ${err.message}`));\n",
       "    } else {\n",
       "      maybeLoadScript(\"vega\", \"5\")\n",
       "        .then(() => maybeLoadScript(\"vega-lite\", \"5.20.1\"))\n",
       "        .then(() => maybeLoadScript(\"vega-embed\", \"6\"))\n",
       "        .catch(showError)\n",
       "        .then(() => displayChart(vegaEmbed));\n",
       "    }\n",
       "  })({\"$schema\": \"https://vega.github.io/schema/vega/v5.json\", \"data\": [{\"name\": \"param_3_store\"}, {\"name\": \"source_0\", \"values\": [{\"__count\": 4, \"bin_maxbins_10_price\": 10000.0, \"bin_maxbins_10_price_end\": 20000.0}, {\"__count\": 14, \"bin_maxbins_10_price\": 30000.0, \"bin_maxbins_10_price_end\": 40000.0}, {\"__count\": 18, \"bin_maxbins_10_price\": 20000.0, \"bin_maxbins_10_price_end\": 30000.0}, {\"__count\": 13, \"bin_maxbins_10_price\": 50000.0, \"bin_maxbins_10_price_end\": 60000.0}, {\"__count\": 11, \"bin_maxbins_10_price\": 40000.0, \"bin_maxbins_10_price_end\": 50000.0}, {\"__count\": 8, \"bin_maxbins_10_price\": 60000.0, \"bin_maxbins_10_price_end\": 70000.0}, {\"__count\": 3, \"bin_maxbins_10_price\": 80000.0, \"bin_maxbins_10_price_end\": 90000.0}, {\"__count\": 7, \"bin_maxbins_10_price\": 70000.0, \"bin_maxbins_10_price_end\": 80000.0}, {\"__count\": 1, \"bin_maxbins_10_price\": 110000.0, \"bin_maxbins_10_price_end\": 120000.0}, {\"__count\": 6, \"bin_maxbins_10_price\": 90000.0, \"bin_maxbins_10_price_end\": 100000.0}, {\"__count\": 1, \"bin_maxbins_10_price\": 100000.0, \"bin_maxbins_10_price_end\": 110000.0}]}, {\"name\": \"source_0_y_domain___count\", \"values\": [{\"min\": 1, \"max\": 18}]}], \"signals\": [{\"name\": \"bin_maxbins_10_price_bins\", \"value\": {\"fields\": [\"price\"], \"fname\": \"bin_price\", \"start\": 10000.0, \"step\": 10000.0, \"stop\": 120000.0}}, {\"name\": \"unit\", \"value\": {}, \"on\": [{\"events\": \"pointermove\", \"update\": \"isTuple(group()) ? group() : unit\"}]}, {\"name\": \"param_3\", \"update\": \"vlSelectionResolve(\\\"param_3_store\\\", \\\"union\\\")\"}, {\"name\": \"param_3_price\", \"on\": [{\"events\": [{\"source\": \"view\", \"type\": \"dblclick\"}], \"update\": \"null\"}, {\"events\": {\"signal\": \"param_3_translate_delta\"}, \"update\": \"panLinear(param_3_translate_anchor.extent_x, -param_3_translate_delta.x / width)\"}, {\"events\": {\"signal\": \"param_3_zoom_delta\"}, \"update\": \"zoomLinear(domain(\\\"x\\\"), param_3_zoom_anchor.x, param_3_zoom_delta)\"}]}, {\"name\": \"param_3_tuple\", \"on\": [{\"events\": [{\"signal\": \"param_3_price\"}], \"update\": \"param_3_price ? {unit: \\\"\\\", fields: param_3_tuple_fields, values: [param_3_price]} : null\"}]}, {\"name\": \"param_3_tuple_fields\", \"value\": [{\"field\": \"price\", \"channel\": \"x\", \"type\": \"R\"}]}, {\"name\": \"param_3_translate_anchor\", \"value\": {}, \"on\": [{\"events\": [{\"source\": \"scope\", \"type\": \"pointerdown\"}], \"update\": \"{x: x(unit), y: y(unit), extent_x: domain(\\\"x\\\")}\"}]}, {\"name\": \"param_3_translate_delta\", \"value\": {}, \"on\": [{\"events\": [{\"source\": \"window\", \"between\": [{\"source\": \"scope\", \"type\": \"pointerdown\"}, {\"source\": \"window\", \"type\": \"pointerup\"}], \"consume\": true, \"type\": \"pointermove\"}], \"update\": \"{x: param_3_translate_anchor.x - x(unit), y: param_3_translate_anchor.y - y(unit)}\"}]}, {\"name\": \"param_3_zoom_anchor\", \"on\": [{\"events\": [{\"source\": \"scope\", \"type\": \"wheel\", \"consume\": true}], \"update\": \"{x: invert(\\\"x\\\", x(unit)), y: invert(\\\"y\\\", y(unit))}\"}]}, {\"name\": \"param_3_zoom_delta\", \"on\": [{\"events\": [{\"source\": \"scope\", \"consume\": true, \"type\": \"wheel\"}], \"update\": \"pow(1.001, event.deltaY * pow(16, event.deltaMode))\", \"force\": true}]}, {\"name\": \"param_3_modify\", \"on\": [{\"events\": {\"signal\": \"param_3_tuple\"}, \"update\": \"modify(\\\"param_3_store\\\", param_3_tuple, true)\"}]}], \"marks\": [{\"type\": \"rect\", \"name\": \"marks\", \"from\": {\"data\": \"source_0\"}, \"encode\": {\"update\": {\"y\": {\"field\": \"__count\", \"scale\": \"y\"}, \"x\": {\"field\": \"bin_maxbins_10_price_end\", \"scale\": \"x\", \"offset\": {\"signal\": \"0.5 + (abs(scale(\\\"x\\\", datum[\\\"bin_maxbins_10_price_end\\\"]) - scale(\\\"x\\\", datum[\\\"bin_maxbins_10_price\\\"])) < 0.25 ? 0.5 * (0.25 - (abs(scale(\\\"x\\\", datum[\\\"bin_maxbins_10_price_end\\\"]) - scale(\\\"x\\\", datum[\\\"bin_maxbins_10_price\\\"])))) : -0.5)\"}}, \"y2\": {\"value\": 0, \"scale\": \"y\"}, \"fill\": {\"value\": \"green\"}, \"x2\": {\"field\": \"bin_maxbins_10_price\", \"scale\": \"x\", \"offset\": {\"signal\": \"0.5 + (abs(scale(\\\"x\\\", datum[\\\"bin_maxbins_10_price_end\\\"]) - scale(\\\"x\\\", datum[\\\"bin_maxbins_10_price\\\"])) < 0.25 ? -0.5 * (0.25 - (abs(scale(\\\"x\\\", datum[\\\"bin_maxbins_10_price_end\\\"]) - scale(\\\"x\\\", datum[\\\"bin_maxbins_10_price\\\"])))) : 0.5)\"}}}}, \"interactive\": true, \"clip\": true, \"style\": [\"bar\"]}], \"scales\": [{\"name\": \"x\", \"type\": \"linear\", \"domain\": {\"signal\": \"[bin_maxbins_10_price_bins.start, bin_maxbins_10_price_bins.stop]\"}, \"range\": [0, {\"signal\": \"width\"}], \"bins\": {\"signal\": \"bin_maxbins_10_price_bins\"}, \"zero\": false, \"domainRaw\": {\"signal\": \"param_3[\\\"price\\\"]\"}}, {\"name\": \"y\", \"type\": \"linear\", \"domain\": [{\"signal\": \"(data(\\\"source_0_y_domain___count\\\")[0] || {}).min\"}, {\"signal\": \"(data(\\\"source_0_y_domain___count\\\")[0] || {}).max\"}], \"range\": [{\"signal\": \"height\"}, 0], \"zero\": true, \"nice\": true}], \"axes\": [{\"scale\": \"y\", \"tickCount\": {\"signal\": \"ceil(height/40)\"}, \"labels\": false, \"orient\": \"left\", \"grid\": true, \"minExtent\": 0, \"ticks\": false, \"gridScale\": \"x\", \"zindex\": 0, \"aria\": false, \"maxExtent\": 0, \"domain\": false}, {\"scale\": \"x\", \"labelOverlap\": true, \"orient\": \"bottom\", \"labelFlush\": true, \"tickCount\": {\"signal\": \"ceil(width/10)\"}, \"zindex\": 0, \"grid\": false, \"title\": \"price (binned)\"}, {\"scale\": \"y\", \"orient\": \"left\", \"zindex\": 0, \"labelOverlap\": true, \"grid\": false, \"title\": \"Count of Records\", \"tickCount\": {\"signal\": \"ceil(height/40)\"}}], \"padding\": 5, \"width\": 600, \"style\": \"cell\", \"background\": \"white\", \"height\": 300}, {\"mode\": \"vega\"});\n",
       "</script>"
      ],
      "text/plain": [
       "alt.Chart(...)"
      ]
     },
     "execution_count": 5,
     "metadata": {},
     "output_type": "execute_result"
    }
   ],
   "source": [
    "exp.distribution()"
   ]
  },
  {
   "cell_type": "code",
   "execution_count": 6,
   "metadata": {},
   "outputs": [
    {
     "data": {
      "text/markdown": [
       "Mean: Rs.49780"
      ],
      "text/plain": [
       "<IPython.core.display.Markdown object>"
      ]
     },
     "execution_count": 6,
     "metadata": {},
     "output_type": "execute_result"
    }
   ],
   "source": [
    "md(f\"Mean: Rs.{exp.monthly_stats['mean']}\")"
   ]
  },
  {
   "cell_type": "code",
   "execution_count": 7,
   "metadata": {},
   "outputs": [
    {
     "data": {
      "text/markdown": [
       "Weighted Mean: Rs.15669.607189347707"
      ],
      "text/plain": [
       "<IPython.core.display.Markdown object>"
      ]
     },
     "execution_count": 7,
     "metadata": {},
     "output_type": "execute_result"
    }
   ],
   "source": [
    "md(f\"Weighted Mean: Rs.{exp.monthly_stats['weighted_mean']}\")"
   ]
  },
  {
   "cell_type": "code",
   "execution_count": 8,
   "metadata": {},
   "outputs": [
    {
     "data": {
      "text/markdown": [
       "Geometric Mean: Rs.44429"
      ],
      "text/plain": [
       "<IPython.core.display.Markdown object>"
      ]
     },
     "execution_count": 8,
     "metadata": {},
     "output_type": "execute_result"
    }
   ],
   "source": [
    "md(f\"Geometric Mean: Rs.{exp.monthly_stats['geo_mean']}\")"
   ]
  },
  {
   "cell_type": "code",
   "execution_count": 9,
   "metadata": {},
   "outputs": [
    {
     "data": {
      "text/markdown": [
       "Median of **Rs.44730 $±$ Rs.23733**"
      ],
      "text/plain": [
       "<IPython.core.display.Markdown object>"
      ]
     },
     "execution_count": 9,
     "metadata": {},
     "output_type": "execute_result"
    }
   ],
   "source": [
    "md(f\"Median of **Rs.{exp.monthly_stats['median']} $±$ Rs.{exp.monthly_stats['sd']}**\")"
   ]
  }
 ],
 "metadata": {
  "kernelspec": {
   "display_name": "Python 3 (ipykernel)",
   "language": "python",
   "name": "python3"
  },
  "language_info": {
   "codemirror_mode": {
    "name": "ipython",
    "version": 3
   },
   "file_extension": ".py",
   "mimetype": "text/x-python",
   "name": "python",
   "nbconvert_exporter": "python",
   "pygments_lexer": "ipython3",
   "version": "3.13.2"
  }
 },
 "nbformat": 4,
 "nbformat_minor": 4
}
