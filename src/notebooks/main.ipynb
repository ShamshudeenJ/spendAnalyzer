{
 "cells": [
  {
   "cell_type": "markdown",
   "metadata": {},
   "source": [
    "# Expense Analysis"
   ]
  },
  {
   "cell_type": "code",
   "execution_count": 1,
   "metadata": {},
   "outputs": [
    {
     "name": "stderr",
     "output_type": "stream",
     "text": [
      "Importing plotly failed. Interactive plots will not work.\n"
     ]
    },
    {
     "data": {
      "text/plain": [
       "DataTransformerRegistry.enable('vegafusion')"
      ]
     },
     "execution_count": 1,
     "metadata": {},
     "output_type": "execute_result"
    }
   ],
   "source": [
    "import altair as alt\n",
    "import os\n",
    "from IPython.display import Markdown as md\n",
    "os.chdir(\"..\")\n",
    "from models import expense\n",
    "\n",
    "alt.renderers.enable('default')\n",
    "alt.data_transformers.enable(\"vegafusion\")"
   ]
  },
  {
   "cell_type": "code",
   "execution_count": 2,
   "metadata": {},
   "outputs": [
    {
     "name": "stderr",
     "output_type": "stream",
     "text": [
      "D:\\github\\spendAnalyzer\\src\\models\\expense.py:19: FutureWarning: 'M' is deprecated and will be removed in a future version, please use 'ME' instead.\n",
      "  self.data_monthly = self.data_monthly.resample('M').last()\n"
     ]
    }
   ],
   "source": [
    "os.chdir('..')\n",
    "exp = expense.Expense(os.getcwd()+os.sep+'data'+os.sep+'expense.csv')"
   ]
  },
  {
   "cell_type": "markdown",
   "metadata": {},
   "source": [
    "## Monthly expense"
   ]
  },
  {
   "cell_type": "code",
   "execution_count": 3,
   "metadata": {},
   "outputs": [
    {
     "data": {
      "text/html": [
       "\n",
       "<style>\n",
       "  #altair-viz-61f77a7226e5453692026c4f0d7ec868.vega-embed {\n",
       "    width: 100%;\n",
       "    display: flex;\n",
       "  }\n",
       "\n",
       "  #altair-viz-61f77a7226e5453692026c4f0d7ec868.vega-embed details,\n",
       "  #altair-viz-61f77a7226e5453692026c4f0d7ec868.vega-embed details summary {\n",
       "    position: relative;\n",
       "  }\n",
       "</style>\n",
       "<div id=\"altair-viz-61f77a7226e5453692026c4f0d7ec868\"></div>\n",
       "<script type=\"text/javascript\">\n",
       "  var VEGA_DEBUG = (typeof VEGA_DEBUG == \"undefined\") ? {} : VEGA_DEBUG;\n",
       "  (function(spec, embedOpt){\n",
       "    let outputDiv = document.currentScript.previousElementSibling;\n",
       "    if (outputDiv.id !== \"altair-viz-61f77a7226e5453692026c4f0d7ec868\") {\n",
       "      outputDiv = document.getElementById(\"altair-viz-61f77a7226e5453692026c4f0d7ec868\");\n",
       "    }\n",
       "    const paths = {\n",
       "      \"vega\": \"https://cdn.jsdelivr.net/npm/vega@5?noext\",\n",
       "      \"vega-lib\": \"https://cdn.jsdelivr.net/npm/vega-lib?noext\",\n",
       "      \"vega-lite\": \"https://cdn.jsdelivr.net/npm/vega-lite@5.17.0?noext\",\n",
       "      \"vega-embed\": \"https://cdn.jsdelivr.net/npm/vega-embed@6?noext\",\n",
       "    };\n",
       "\n",
       "    function maybeLoadScript(lib, version) {\n",
       "      var key = `${lib.replace(\"-\", \"\")}_version`;\n",
       "      return (VEGA_DEBUG[key] == version) ?\n",
       "        Promise.resolve(paths[lib]) :\n",
       "        new Promise(function(resolve, reject) {\n",
       "          var s = document.createElement('script');\n",
       "          document.getElementsByTagName(\"head\")[0].appendChild(s);\n",
       "          s.async = true;\n",
       "          s.onload = () => {\n",
       "            VEGA_DEBUG[key] = version;\n",
       "            return resolve(paths[lib]);\n",
       "          };\n",
       "          s.onerror = () => reject(`Error loading script: ${paths[lib]}`);\n",
       "          s.src = paths[lib];\n",
       "        });\n",
       "    }\n",
       "\n",
       "    function showError(err) {\n",
       "      outputDiv.innerHTML = `<div class=\"error\" style=\"color:red;\">${err}</div>`;\n",
       "      throw err;\n",
       "    }\n",
       "\n",
       "    function displayChart(vegaEmbed) {\n",
       "      vegaEmbed(outputDiv, spec, embedOpt)\n",
       "        .catch(err => showError(`Javascript Error: ${err.message}<br>This usually means there's a typo in your chart specification. See the javascript console for the full traceback.`));\n",
       "    }\n",
       "\n",
       "    if(typeof define === \"function\" && define.amd) {\n",
       "      requirejs.config({paths});\n",
       "      require([\"vega-embed\"], displayChart, err => showError(`Error loading script: ${err.message}`));\n",
       "    } else {\n",
       "      maybeLoadScript(\"vega\", \"5\")\n",
       "        .then(() => maybeLoadScript(\"vega-lite\", \"5.17.0\"))\n",
       "        .then(() => maybeLoadScript(\"vega-embed\", \"6\"))\n",
       "        .catch(showError)\n",
       "        .then(() => displayChart(vegaEmbed));\n",
       "    }\n",
       "  })({\"$schema\": \"https://vega.github.io/schema/vega/v5.json\", \"data\": [{\"name\": \"param_1_store\"}, {\"name\": \"source_0\", \"values\": [{\"month_date\": \"2012-03-01T00:00:00.000\", \"sum_price\": 19183, \"year_date\": \"2018-01-01T00:00:00.000\", \"yearmonth_date\": \"2018-03-01T00:00:00.000\"}, {\"month_date\": \"2012-04-01T00:00:00.000\", \"sum_price\": 34192, \"year_date\": \"2018-01-01T00:00:00.000\", \"yearmonth_date\": \"2018-04-01T00:00:00.000\"}, {\"month_date\": \"2012-05-01T00:00:00.000\", \"sum_price\": 19057, \"year_date\": \"2018-01-01T00:00:00.000\", \"yearmonth_date\": \"2018-05-01T00:00:00.000\"}, {\"month_date\": \"2012-06-01T00:00:00.000\", \"sum_price\": 28942, \"year_date\": \"2018-01-01T00:00:00.000\", \"yearmonth_date\": \"2018-06-01T00:00:00.000\"}, {\"month_date\": \"2012-07-01T00:00:00.000\", \"sum_price\": 28622, \"year_date\": \"2018-01-01T00:00:00.000\", \"yearmonth_date\": \"2018-07-01T00:00:00.000\"}, {\"month_date\": \"2012-08-01T00:00:00.000\", \"sum_price\": 55519, \"year_date\": \"2018-01-01T00:00:00.000\", \"yearmonth_date\": \"2018-08-01T00:00:00.000\"}, {\"month_date\": \"2012-09-01T00:00:00.000\", \"sum_price\": 21665, \"year_date\": \"2018-01-01T00:00:00.000\", \"yearmonth_date\": \"2018-09-01T00:00:00.000\"}, {\"month_date\": \"2012-10-01T00:00:00.000\", \"sum_price\": 26939, \"year_date\": \"2018-01-01T00:00:00.000\", \"yearmonth_date\": \"2018-10-01T00:00:00.000\"}, {\"month_date\": \"2012-11-01T00:00:00.000\", \"sum_price\": 25467, \"year_date\": \"2018-01-01T00:00:00.000\", \"yearmonth_date\": \"2018-11-01T00:00:00.000\"}, {\"month_date\": \"2012-12-01T00:00:00.000\", \"sum_price\": 45338, \"year_date\": \"2018-01-01T00:00:00.000\", \"yearmonth_date\": \"2018-12-01T00:00:00.000\"}, {\"month_date\": \"2012-01-01T00:00:00.000\", \"sum_price\": 31667, \"year_date\": \"2019-01-01T00:00:00.000\", \"yearmonth_date\": \"2019-01-01T00:00:00.000\"}, {\"month_date\": \"2012-02-01T00:00:00.000\", \"sum_price\": 26909, \"year_date\": \"2019-01-01T00:00:00.000\", \"yearmonth_date\": \"2019-02-01T00:00:00.000\"}, {\"month_date\": \"2012-03-01T00:00:00.000\", \"sum_price\": 23041, \"year_date\": \"2019-01-01T00:00:00.000\", \"yearmonth_date\": \"2019-03-01T00:00:00.000\"}, {\"month_date\": \"2012-04-01T00:00:00.000\", \"sum_price\": 33874, \"year_date\": \"2019-01-01T00:00:00.000\", \"yearmonth_date\": \"2019-04-01T00:00:00.000\"}, {\"month_date\": \"2012-05-01T00:00:00.000\", \"sum_price\": 27119, \"year_date\": \"2019-01-01T00:00:00.000\", \"yearmonth_date\": \"2019-05-01T00:00:00.000\"}, {\"month_date\": \"2012-06-01T00:00:00.000\", \"sum_price\": 30990, \"year_date\": \"2019-01-01T00:00:00.000\", \"yearmonth_date\": \"2019-06-01T00:00:00.000\"}, {\"month_date\": \"2012-07-01T00:00:00.000\", \"sum_price\": 29068, \"year_date\": \"2019-01-01T00:00:00.000\", \"yearmonth_date\": \"2019-07-01T00:00:00.000\"}, {\"month_date\": \"2012-08-01T00:00:00.000\", \"sum_price\": 66664, \"year_date\": \"2019-01-01T00:00:00.000\", \"yearmonth_date\": \"2019-08-01T00:00:00.000\"}, {\"month_date\": \"2012-09-01T00:00:00.000\", \"sum_price\": 82705, \"year_date\": \"2019-01-01T00:00:00.000\", \"yearmonth_date\": \"2019-09-01T00:00:00.000\"}, {\"month_date\": \"2012-10-01T00:00:00.000\", \"sum_price\": 22566, \"year_date\": \"2019-01-01T00:00:00.000\", \"yearmonth_date\": \"2019-10-01T00:00:00.000\"}, {\"month_date\": \"2012-11-01T00:00:00.000\", \"sum_price\": 33972, \"year_date\": \"2019-01-01T00:00:00.000\", \"yearmonth_date\": \"2019-11-01T00:00:00.000\"}, {\"month_date\": \"2012-12-01T00:00:00.000\", \"sum_price\": 36986, \"year_date\": \"2019-01-01T00:00:00.000\", \"yearmonth_date\": \"2019-12-01T00:00:00.000\"}, {\"month_date\": \"2012-01-01T00:00:00.000\", \"sum_price\": 78282, \"year_date\": \"2020-01-01T00:00:00.000\", \"yearmonth_date\": \"2020-01-01T00:00:00.000\"}, {\"month_date\": \"2012-02-01T00:00:00.000\", \"sum_price\": 27623, \"year_date\": \"2020-01-01T00:00:00.000\", \"yearmonth_date\": \"2020-02-01T00:00:00.000\"}, {\"month_date\": \"2012-03-01T00:00:00.000\", \"sum_price\": 23233, \"year_date\": \"2020-01-01T00:00:00.000\", \"yearmonth_date\": \"2020-03-01T00:00:00.000\"}, {\"month_date\": \"2012-04-01T00:00:00.000\", \"sum_price\": 15774, \"year_date\": \"2020-01-01T00:00:00.000\", \"yearmonth_date\": \"2020-04-01T00:00:00.000\"}, {\"month_date\": \"2012-05-01T00:00:00.000\", \"sum_price\": 22930, \"year_date\": \"2020-01-01T00:00:00.000\", \"yearmonth_date\": \"2020-05-01T00:00:00.000\"}, {\"month_date\": \"2012-06-01T00:00:00.000\", \"sum_price\": 29031, \"year_date\": \"2020-01-01T00:00:00.000\", \"yearmonth_date\": \"2020-06-01T00:00:00.000\"}, {\"month_date\": \"2012-07-01T00:00:00.000\", \"sum_price\": 21877, \"year_date\": \"2020-01-01T00:00:00.000\", \"yearmonth_date\": \"2020-07-01T00:00:00.000\"}, {\"month_date\": \"2012-08-01T00:00:00.000\", \"sum_price\": 39795, \"year_date\": \"2020-01-01T00:00:00.000\", \"yearmonth_date\": \"2020-08-01T00:00:00.000\"}, {\"month_date\": \"2012-09-01T00:00:00.000\", \"sum_price\": 19416, \"year_date\": \"2020-01-01T00:00:00.000\", \"yearmonth_date\": \"2020-09-01T00:00:00.000\"}, {\"month_date\": \"2012-10-01T00:00:00.000\", \"sum_price\": 30476, \"year_date\": \"2020-01-01T00:00:00.000\", \"yearmonth_date\": \"2020-10-01T00:00:00.000\"}, {\"month_date\": \"2012-11-01T00:00:00.000\", \"sum_price\": 25236, \"year_date\": \"2020-01-01T00:00:00.000\", \"yearmonth_date\": \"2020-11-01T00:00:00.000\"}, {\"month_date\": \"2012-12-01T00:00:00.000\", \"sum_price\": 43245, \"year_date\": \"2020-01-01T00:00:00.000\", \"yearmonth_date\": \"2020-12-01T00:00:00.000\"}, {\"month_date\": \"2012-01-01T00:00:00.000\", \"sum_price\": 54028, \"year_date\": \"2021-01-01T00:00:00.000\", \"yearmonth_date\": \"2021-01-01T00:00:00.000\"}, {\"month_date\": \"2012-02-01T00:00:00.000\", \"sum_price\": 35580, \"year_date\": \"2021-01-01T00:00:00.000\", \"yearmonth_date\": \"2021-02-01T00:00:00.000\"}, {\"month_date\": \"2012-03-01T00:00:00.000\", \"sum_price\": 25651, \"year_date\": \"2021-01-01T00:00:00.000\", \"yearmonth_date\": \"2021-03-01T00:00:00.000\"}, {\"month_date\": \"2012-04-01T00:00:00.000\", \"sum_price\": 44842, \"year_date\": \"2021-01-01T00:00:00.000\", \"yearmonth_date\": \"2021-04-01T00:00:00.000\"}, {\"month_date\": \"2012-05-01T00:00:00.000\", \"sum_price\": 30757, \"year_date\": \"2021-01-01T00:00:00.000\", \"yearmonth_date\": \"2021-05-01T00:00:00.000\"}, {\"month_date\": \"2012-06-01T00:00:00.000\", \"sum_price\": 41043, \"year_date\": \"2021-01-01T00:00:00.000\", \"yearmonth_date\": \"2021-06-01T00:00:00.000\"}, {\"month_date\": \"2012-07-01T00:00:00.000\", \"sum_price\": 51235, \"year_date\": \"2021-01-01T00:00:00.000\", \"yearmonth_date\": \"2021-07-01T00:00:00.000\"}, {\"month_date\": \"2012-08-01T00:00:00.000\", \"sum_price\": 38760, \"year_date\": \"2021-01-01T00:00:00.000\", \"yearmonth_date\": \"2021-08-01T00:00:00.000\"}, {\"month_date\": \"2012-09-01T00:00:00.000\", \"sum_price\": 58508, \"year_date\": \"2021-01-01T00:00:00.000\", \"yearmonth_date\": \"2021-09-01T00:00:00.000\"}, {\"month_date\": \"2012-10-01T00:00:00.000\", \"sum_price\": 64912, \"year_date\": \"2021-01-01T00:00:00.000\", \"yearmonth_date\": \"2021-10-01T00:00:00.000\"}, {\"month_date\": \"2012-11-01T00:00:00.000\", \"sum_price\": 52258, \"year_date\": \"2021-01-01T00:00:00.000\", \"yearmonth_date\": \"2021-11-01T00:00:00.000\"}, {\"month_date\": \"2012-12-01T00:00:00.000\", \"sum_price\": 20705, \"year_date\": \"2021-01-01T00:00:00.000\", \"yearmonth_date\": \"2021-12-01T00:00:00.000\"}, {\"month_date\": \"2012-01-01T00:00:00.000\", \"sum_price\": 49293, \"year_date\": \"2022-01-01T00:00:00.000\", \"yearmonth_date\": \"2022-01-01T00:00:00.000\"}, {\"month_date\": \"2012-02-01T00:00:00.000\", \"sum_price\": 41119, \"year_date\": \"2022-01-01T00:00:00.000\", \"yearmonth_date\": \"2022-02-01T00:00:00.000\"}, {\"month_date\": \"2012-03-01T00:00:00.000\", \"sum_price\": 54458, \"year_date\": \"2022-01-01T00:00:00.000\", \"yearmonth_date\": \"2022-03-01T00:00:00.000\"}, {\"month_date\": \"2012-04-01T00:00:00.000\", \"sum_price\": 60447, \"year_date\": \"2022-01-01T00:00:00.000\", \"yearmonth_date\": \"2022-04-01T00:00:00.000\"}, {\"month_date\": \"2012-05-01T00:00:00.000\", \"sum_price\": 58500, \"year_date\": \"2022-01-01T00:00:00.000\", \"yearmonth_date\": \"2022-05-01T00:00:00.000\"}, {\"month_date\": \"2012-06-01T00:00:00.000\", \"sum_price\": 40074, \"year_date\": \"2022-01-01T00:00:00.000\", \"yearmonth_date\": \"2022-06-01T00:00:00.000\"}, {\"month_date\": \"2012-07-01T00:00:00.000\", \"sum_price\": 63631, \"year_date\": \"2022-01-01T00:00:00.000\", \"yearmonth_date\": \"2022-07-01T00:00:00.000\"}, {\"month_date\": \"2012-08-01T00:00:00.000\", \"sum_price\": 44998, \"year_date\": \"2022-01-01T00:00:00.000\", \"yearmonth_date\": \"2022-08-01T00:00:00.000\"}, {\"month_date\": \"2012-09-01T00:00:00.000\", \"sum_price\": 44006, \"year_date\": \"2022-01-01T00:00:00.000\", \"yearmonth_date\": \"2022-09-01T00:00:00.000\"}, {\"month_date\": \"2012-10-01T00:00:00.000\", \"sum_price\": 31754, \"year_date\": \"2022-01-01T00:00:00.000\", \"yearmonth_date\": \"2022-10-01T00:00:00.000\"}, {\"month_date\": \"2012-11-01T00:00:00.000\", \"sum_price\": 65402, \"year_date\": \"2022-01-01T00:00:00.000\", \"yearmonth_date\": \"2022-11-01T00:00:00.000\"}, {\"month_date\": \"2012-12-01T00:00:00.000\", \"sum_price\": 44617, \"year_date\": \"2022-01-01T00:00:00.000\", \"yearmonth_date\": \"2022-12-01T00:00:00.000\"}, {\"month_date\": \"2012-01-01T00:00:00.000\", \"sum_price\": 36922, \"year_date\": \"2023-01-01T00:00:00.000\", \"yearmonth_date\": \"2023-01-01T00:00:00.000\"}, {\"month_date\": \"2012-02-01T00:00:00.000\", \"sum_price\": 56614, \"year_date\": \"2023-01-01T00:00:00.000\", \"yearmonth_date\": \"2023-02-01T00:00:00.000\"}, {\"month_date\": \"2012-03-01T00:00:00.000\", \"sum_price\": 40502, \"year_date\": \"2023-01-01T00:00:00.000\", \"yearmonth_date\": \"2023-03-01T00:00:00.000\"}, {\"month_date\": \"2012-04-01T00:00:00.000\", \"sum_price\": 51432, \"year_date\": \"2023-01-01T00:00:00.000\", \"yearmonth_date\": \"2023-04-01T00:00:00.000\"}, {\"month_date\": \"2012-05-01T00:00:00.000\", \"sum_price\": 115147, \"year_date\": \"2023-01-01T00:00:00.000\", \"yearmonth_date\": \"2023-05-01T00:00:00.000\"}, {\"month_date\": \"2012-06-01T00:00:00.000\", \"sum_price\": 53833, \"year_date\": \"2023-01-01T00:00:00.000\", \"yearmonth_date\": \"2023-06-01T00:00:00.000\"}, {\"month_date\": \"2012-07-01T00:00:00.000\", \"sum_price\": 54182, \"year_date\": \"2023-01-01T00:00:00.000\", \"yearmonth_date\": \"2023-07-01T00:00:00.000\"}, {\"month_date\": \"2012-08-01T00:00:00.000\", \"sum_price\": 92769, \"year_date\": \"2023-01-01T00:00:00.000\", \"yearmonth_date\": \"2023-08-01T00:00:00.000\"}, {\"month_date\": \"2012-09-01T00:00:00.000\", \"sum_price\": 93638, \"year_date\": \"2023-01-01T00:00:00.000\", \"yearmonth_date\": \"2023-09-01T00:00:00.000\"}, {\"month_date\": \"2012-10-01T00:00:00.000\", \"sum_price\": 68449, \"year_date\": \"2023-01-01T00:00:00.000\", \"yearmonth_date\": \"2023-10-01T00:00:00.000\"}, {\"month_date\": \"2012-11-01T00:00:00.000\", \"sum_price\": 37772, \"year_date\": \"2023-01-01T00:00:00.000\", \"yearmonth_date\": \"2023-11-01T00:00:00.000\"}, {\"month_date\": \"2012-12-01T00:00:00.000\", \"sum_price\": 97338, \"year_date\": \"2023-01-01T00:00:00.000\", \"yearmonth_date\": \"2023-12-01T00:00:00.000\"}, {\"month_date\": \"2012-01-01T00:00:00.000\", \"sum_price\": 55360, \"year_date\": \"2024-01-01T00:00:00.000\", \"yearmonth_date\": \"2024-01-01T00:00:00.000\"}, {\"month_date\": \"2012-02-01T00:00:00.000\", \"sum_price\": 78208, \"year_date\": \"2024-01-01T00:00:00.000\", \"yearmonth_date\": \"2024-02-01T00:00:00.000\"}, {\"month_date\": \"2012-03-01T00:00:00.000\", \"sum_price\": 65045, \"year_date\": \"2024-01-01T00:00:00.000\", \"yearmonth_date\": \"2024-03-01T00:00:00.000\"}, {\"month_date\": \"2012-04-01T00:00:00.000\", \"sum_price\": 106415, \"year_date\": \"2024-01-01T00:00:00.000\", \"yearmonth_date\": \"2024-04-01T00:00:00.000\"}, {\"month_date\": \"2012-05-01T00:00:00.000\", \"sum_price\": 55943, \"year_date\": \"2024-01-01T00:00:00.000\", \"yearmonth_date\": \"2024-05-01T00:00:00.000\"}, {\"month_date\": \"2012-06-01T00:00:00.000\", \"sum_price\": 65908, \"year_date\": \"2024-01-01T00:00:00.000\", \"yearmonth_date\": \"2024-06-01T00:00:00.000\"}], \"transform\": [{\"type\": \"formula\", \"expr\": \"toDate(datum['yearmonth_date'])\", \"as\": \"yearmonth_date\"}, {\"type\": \"formula\", \"expr\": \"toDate(datum['year_date'])\", \"as\": \"year_date\"}, {\"type\": \"formula\", \"expr\": \"toDate(datum['month_date'])\", \"as\": \"month_date\"}]}, {\"name\": \"source_0_x_domain_year_date\", \"values\": [{\"year_date\": \"2018-01-01T00:00:00.000\"}, {\"year_date\": \"2019-01-01T00:00:00.000\"}, {\"year_date\": \"2020-01-01T00:00:00.000\"}, {\"year_date\": \"2021-01-01T00:00:00.000\"}, {\"year_date\": \"2022-01-01T00:00:00.000\"}, {\"year_date\": \"2023-01-01T00:00:00.000\"}, {\"year_date\": \"2024-01-01T00:00:00.000\"}], \"transform\": [{\"type\": \"formula\", \"expr\": \"toDate(datum['year_date'])\", \"as\": \"year_date\"}]}, {\"name\": \"source_0_y_domain_month_date\", \"values\": [{\"month_date\": \"2012-03-01T00:00:00.000\"}, {\"month_date\": \"2012-04-01T00:00:00.000\"}, {\"month_date\": \"2012-05-01T00:00:00.000\"}, {\"month_date\": \"2012-06-01T00:00:00.000\"}, {\"month_date\": \"2012-07-01T00:00:00.000\"}, {\"month_date\": \"2012-08-01T00:00:00.000\"}, {\"month_date\": \"2012-09-01T00:00:00.000\"}, {\"month_date\": \"2012-10-01T00:00:00.000\"}, {\"month_date\": \"2012-11-01T00:00:00.000\"}, {\"month_date\": \"2012-12-01T00:00:00.000\"}, {\"month_date\": \"2012-01-01T00:00:00.000\"}, {\"month_date\": \"2012-02-01T00:00:00.000\"}], \"transform\": [{\"type\": \"formula\", \"expr\": \"toDate(datum['month_date'])\", \"as\": \"month_date\"}]}, {\"name\": \"source_0_color_domain_sum_price\", \"values\": [{\"min\": 15774, \"max\": 115147}]}], \"signals\": [{\"name\": \"unit\", \"value\": {}, \"on\": [{\"events\": \"pointermove\", \"update\": \"isTuple(group()) ? group() : unit\"}]}, {\"name\": \"param_1\", \"update\": \"vlSelectionResolve(\\\"param_1_store\\\", \\\"union\\\")\"}, {\"name\": \"param_1_year_date\", \"on\": [{\"events\": [{\"source\": \"view\", \"type\": \"dblclick\"}], \"update\": \"null\"}, {\"events\": {\"signal\": \"param_1_translate_delta\"}, \"update\": \"panLinear(param_1_translate_anchor.extent_x, -param_1_translate_delta.x / width)\"}, {\"events\": {\"signal\": \"param_1_zoom_delta\"}, \"update\": \"zoomLinear(domain(\\\"x\\\"), param_1_zoom_anchor.x, param_1_zoom_delta)\"}]}, {\"name\": \"param_1_month_date\", \"on\": [{\"events\": [{\"source\": \"view\", \"type\": \"dblclick\"}], \"update\": \"null\"}, {\"events\": {\"signal\": \"param_1_translate_delta\"}, \"update\": \"panLinear(param_1_translate_anchor.extent_y, param_1_translate_delta.y / height)\"}, {\"events\": {\"signal\": \"param_1_zoom_delta\"}, \"update\": \"zoomLinear(domain(\\\"y\\\"), param_1_zoom_anchor.y, param_1_zoom_delta)\"}]}, {\"name\": \"param_1_tuple\", \"on\": [{\"events\": [{\"signal\": \"param_1_year_date || param_1_month_date\"}], \"update\": \"param_1_year_date && param_1_month_date ? {unit: \\\"\\\", fields: param_1_tuple_fields, values: [param_1_year_date,param_1_month_date]} : null\"}]}, {\"name\": \"param_1_tuple_fields\", \"value\": [{\"field\": \"year_date\", \"channel\": \"x\", \"type\": \"E\"}, {\"field\": \"month_date\", \"channel\": \"y\", \"type\": \"E\"}]}, {\"name\": \"param_1_translate_anchor\", \"value\": {}, \"on\": [{\"events\": [{\"source\": \"scope\", \"type\": \"pointerdown\"}], \"update\": \"{x: x(unit), y: y(unit), extent_x: domain(\\\"x\\\"), extent_y: domain(\\\"y\\\")}\"}]}, {\"name\": \"param_1_translate_delta\", \"value\": {}, \"on\": [{\"events\": [{\"source\": \"window\", \"between\": [{\"source\": \"scope\", \"type\": \"pointerdown\"}, {\"source\": \"window\", \"type\": \"pointerup\"}], \"type\": \"pointermove\", \"consume\": true}], \"update\": \"{x: param_1_translate_anchor.x - x(unit), y: param_1_translate_anchor.y - y(unit)}\"}]}, {\"name\": \"param_1_zoom_anchor\", \"on\": [{\"events\": [{\"source\": \"scope\", \"type\": \"wheel\", \"consume\": true}], \"update\": \"{x: invert(\\\"x\\\", x(unit)), y: invert(\\\"y\\\", y(unit))}\"}]}, {\"name\": \"param_1_zoom_delta\", \"on\": [{\"events\": [{\"source\": \"scope\", \"consume\": true, \"type\": \"wheel\"}], \"update\": \"pow(1.001, event.deltaY * pow(16, event.deltaMode))\", \"force\": true}]}, {\"name\": \"param_1_modify\", \"on\": [{\"events\": {\"signal\": \"param_1_tuple\"}, \"update\": \"modify(\\\"param_1_store\\\", param_1_tuple, true)\"}]}], \"marks\": [{\"type\": \"rect\", \"name\": \"marks\", \"from\": {\"data\": \"source_0\"}, \"encode\": {\"update\": {\"height\": {\"signal\": \"max(0.25, bandwidth('y'))\"}, \"tooltip\": {\"signal\": \"{\\\"date (year-month)\\\": timeFormat(datum[\\\"yearmonth_date\\\"], timeUnitSpecifier([\\\"year\\\",\\\"month\\\"], {\\\"year-month\\\":\\\"%b %Y \\\",\\\"year-month-date\\\":\\\"%b %d, %Y \\\"})), \\\"Sum of price\\\": format(datum[\\\"sum_price\\\"], \\\"\\\")}\"}, \"x\": {\"field\": \"year_date\", \"scale\": \"x\"}, \"width\": {\"signal\": \"max(0.25, bandwidth('x'))\"}, \"fill\": {\"field\": \"sum_price\", \"scale\": \"color\"}, \"y\": {\"field\": \"month_date\", \"scale\": \"y\"}}}, \"style\": [\"rect\"], \"interactive\": true}], \"scales\": [{\"name\": \"x\", \"type\": \"band\", \"domain\": {\"data\": \"source_0_x_domain_year_date\", \"field\": \"year_date\", \"sort\": true}, \"range\": [0, {\"signal\": \"width\"}], \"paddingInner\": 0, \"paddingOuter\": 0}, {\"name\": \"y\", \"type\": \"band\", \"domain\": {\"data\": \"source_0_y_domain_month_date\", \"field\": \"month_date\", \"sort\": true}, \"range\": [0, {\"signal\": \"height\"}], \"paddingInner\": 0, \"paddingOuter\": 0}, {\"name\": \"color\", \"type\": \"linear\", \"domain\": [{\"signal\": \"(data(\\\"source_0_color_domain_sum_price\\\")[0] || {}).min\"}, {\"signal\": \"(data(\\\"source_0_color_domain_sum_price\\\")[0] || {}).max\"}], \"range\": \"heatmap\", \"zero\": false, \"interpolate\": \"hcl\"}], \"axes\": [{\"scale\": \"x\", \"formatType\": \"time\", \"grid\": false, \"title\": \"date (year)\", \"labelOverlap\": true, \"format\": {\"signal\": \"timeUnitSpecifier([\\\"year\\\"], {\\\"year-month\\\":\\\"%b %Y \\\",\\\"year-month-date\\\":\\\"%b %d, %Y \\\"})\"}, \"tickMinStep\": {\"signal\": \"datetime(2002, 0, 1, 0, 0, 0, 0) - datetime(2001, 0, 1, 0, 0, 0, 0)\"}, \"zindex\": 1, \"orient\": \"bottom\"}, {\"scale\": \"y\", \"formatType\": \"time\", \"orient\": \"left\", \"format\": {\"signal\": \"timeUnitSpecifier([\\\"month\\\"], {\\\"year-month\\\":\\\"%b %Y \\\",\\\"year-month-date\\\":\\\"%b %d, %Y \\\"})\"}, \"labelOverlap\": true, \"tickMinStep\": {\"signal\": \"datetime(2001, 1, 1, 0, 0, 0, 0) - datetime(2001, 0, 1, 0, 0, 0, 0)\"}, \"zindex\": 1, \"title\": \"date (month)\", \"grid\": false}], \"width\": 500, \"height\": 300, \"background\": \"white\", \"padding\": 5, \"style\": \"cell\", \"legends\": [{\"fill\": \"color\", \"gradientLength\": {\"signal\": \"clamp(height, 64, 200)\"}, \"title\": \"Sum of price\"}]}, {\"mode\": \"vega\"});\n",
       "</script>"
      ],
      "text/plain": [
       "alt.Chart(...)"
      ]
     },
     "execution_count": 3,
     "metadata": {},
     "output_type": "execute_result"
    }
   ],
   "source": [
    "exp.heatmap().properties(height=300,width=500)"
   ]
  },
  {
   "cell_type": "code",
   "execution_count": 4,
   "metadata": {},
   "outputs": [
    {
     "name": "stderr",
     "output_type": "stream",
     "text": [
      "08:50:17 - cmdstanpy - INFO - Chain [1] start processing\n",
      "08:50:17 - cmdstanpy - INFO - Chain [1] done processing\n"
     ]
    },
    {
     "data": {
      "text/html": [
       "\n",
       "<style>\n",
       "  #altair-viz-e5a26be52fee4501b83462ea0c77f3c0.vega-embed {\n",
       "    width: 100%;\n",
       "    display: flex;\n",
       "  }\n",
       "\n",
       "  #altair-viz-e5a26be52fee4501b83462ea0c77f3c0.vega-embed details,\n",
       "  #altair-viz-e5a26be52fee4501b83462ea0c77f3c0.vega-embed details summary {\n",
       "    position: relative;\n",
       "  }\n",
       "</style>\n",
       "<div id=\"altair-viz-e5a26be52fee4501b83462ea0c77f3c0\"></div>\n",
       "<script type=\"text/javascript\">\n",
       "  var VEGA_DEBUG = (typeof VEGA_DEBUG == \"undefined\") ? {} : VEGA_DEBUG;\n",
       "  (function(spec, embedOpt){\n",
       "    let outputDiv = document.currentScript.previousElementSibling;\n",
       "    if (outputDiv.id !== \"altair-viz-e5a26be52fee4501b83462ea0c77f3c0\") {\n",
       "      outputDiv = document.getElementById(\"altair-viz-e5a26be52fee4501b83462ea0c77f3c0\");\n",
       "    }\n",
       "    const paths = {\n",
       "      \"vega\": \"https://cdn.jsdelivr.net/npm/vega@5?noext\",\n",
       "      \"vega-lib\": \"https://cdn.jsdelivr.net/npm/vega-lib?noext\",\n",
       "      \"vega-lite\": \"https://cdn.jsdelivr.net/npm/vega-lite@5.17.0?noext\",\n",
       "      \"vega-embed\": \"https://cdn.jsdelivr.net/npm/vega-embed@6?noext\",\n",
       "    };\n",
       "\n",
       "    function maybeLoadScript(lib, version) {\n",
       "      var key = `${lib.replace(\"-\", \"\")}_version`;\n",
       "      return (VEGA_DEBUG[key] == version) ?\n",
       "        Promise.resolve(paths[lib]) :\n",
       "        new Promise(function(resolve, reject) {\n",
       "          var s = document.createElement('script');\n",
       "          document.getElementsByTagName(\"head\")[0].appendChild(s);\n",
       "          s.async = true;\n",
       "          s.onload = () => {\n",
       "            VEGA_DEBUG[key] = version;\n",
       "            return resolve(paths[lib]);\n",
       "          };\n",
       "          s.onerror = () => reject(`Error loading script: ${paths[lib]}`);\n",
       "          s.src = paths[lib];\n",
       "        });\n",
       "    }\n",
       "\n",
       "    function showError(err) {\n",
       "      outputDiv.innerHTML = `<div class=\"error\" style=\"color:red;\">${err}</div>`;\n",
       "      throw err;\n",
       "    }\n",
       "\n",
       "    function displayChart(vegaEmbed) {\n",
       "      vegaEmbed(outputDiv, spec, embedOpt)\n",
       "        .catch(err => showError(`Javascript Error: ${err.message}<br>This usually means there's a typo in your chart specification. See the javascript console for the full traceback.`));\n",
       "    }\n",
       "\n",
       "    if(typeof define === \"function\" && define.amd) {\n",
       "      requirejs.config({paths});\n",
       "      require([\"vega-embed\"], displayChart, err => showError(`Error loading script: ${err.message}`));\n",
       "    } else {\n",
       "      maybeLoadScript(\"vega\", \"5\")\n",
       "        .then(() => maybeLoadScript(\"vega-lite\", \"5.17.0\"))\n",
       "        .then(() => maybeLoadScript(\"vega-embed\", \"6\"))\n",
       "        .catch(showError)\n",
       "        .then(() => displayChart(vegaEmbed));\n",
       "    }\n",
       "  })({\"$schema\": \"https://vega.github.io/schema/vega/v5.json\", \"data\": [{\"name\": \"param_2_store\"}, {\"name\": \"source_0\", \"values\": [{\"ds\": \"2018-03-31T00:00:00.000\", \"trend\": 25839.0, \"yhat\": 13635.0}, {\"ds\": \"2018-04-30T00:00:00.000\", \"trend\": 26440.0, \"yhat\": 25613.0}, {\"ds\": \"2018-05-31T00:00:00.000\", \"trend\": 27062.0, \"yhat\": 29102.0}, {\"ds\": \"2018-06-30T00:00:00.000\", \"trend\": 27663.0, \"yhat\": 17768.0}, {\"ds\": \"2018-07-31T00:00:00.000\", \"trend\": 28285.0, \"yhat\": 22158.0}, {\"ds\": \"2018-08-31T00:00:00.000\", \"trend\": 28906.0, \"yhat\": 38547.0}, {\"ds\": \"2018-09-30T00:00:00.000\", \"trend\": 29507.0, \"yhat\": 36546.0}, {\"ds\": \"2018-10-31T00:00:00.000\", \"trend\": 30129.0, \"yhat\": 21325.0}, {\"ds\": \"2018-11-30T00:00:00.000\", \"trend\": 30730.0, \"yhat\": 20727.0}, {\"ds\": \"2018-12-31T00:00:00.000\", \"trend\": 31352.0, \"yhat\": 30770.0}, {\"ds\": \"2019-01-31T00:00:00.000\", \"trend\": 31973.0, \"yhat\": 32895.0}, {\"ds\": \"2019-02-28T00:00:00.000\", \"trend\": 32534.0, \"yhat\": 23960.0}, {\"ds\": \"2019-03-31T00:00:00.000\", \"trend\": 33156.0, \"yhat\": 20180.0}, {\"ds\": \"2019-04-30T00:00:00.000\", \"trend\": 33757.0, \"yhat\": 28547.0}, {\"ds\": \"2019-05-31T00:00:00.000\", \"trend\": 34379.0, \"yhat\": 45706.0}, {\"ds\": \"2019-06-30T00:00:00.000\", \"trend\": 34980.0, \"yhat\": 20768.0}, {\"ds\": \"2019-07-31T00:00:00.000\", \"trend\": 35601.0, \"yhat\": 23917.0}, {\"ds\": \"2019-08-31T00:00:00.000\", \"trend\": 36223.0, \"yhat\": 49252.0}, {\"ds\": \"2019-09-30T00:00:00.000\", \"trend\": 36824.0, \"yhat\": 52595.0}, {\"ds\": \"2019-10-31T00:00:00.000\", \"trend\": 37446.0, \"yhat\": 20566.0}, {\"ds\": \"2019-11-30T00:00:00.000\", \"trend\": 38047.0, \"yhat\": 22866.0}, {\"ds\": \"2019-12-31T00:00:00.000\", \"trend\": 38668.0, \"yhat\": 44891.0}, {\"ds\": \"2020-01-31T00:00:00.000\", \"trend\": 39290.0, \"yhat\": 41634.0}, {\"ds\": \"2020-02-29T00:00:00.000\", \"trend\": 39871.0, \"yhat\": 35435.0}, {\"ds\": \"2020-03-31T00:00:00.000\", \"trend\": 40493.0, \"yhat\": 29768.0}, {\"ds\": \"2020-04-30T00:00:00.000\", \"trend\": 41094.0, \"yhat\": 49395.0}, {\"ds\": \"2020-05-31T00:00:00.000\", \"trend\": 41715.0, \"yhat\": 25183.0}, {\"ds\": \"2020-06-30T00:00:00.000\", \"trend\": 42317.0, \"yhat\": 40597.0}, {\"ds\": \"2020-07-31T00:00:00.000\", \"trend\": 42938.0, \"yhat\": 48235.0}, {\"ds\": \"2020-08-31T00:00:00.000\", \"trend\": 43560.0, \"yhat\": 46935.0}, {\"ds\": \"2020-09-30T00:00:00.000\", \"trend\": 44161.0, \"yhat\": 33256.0}, {\"ds\": \"2020-10-31T00:00:00.000\", \"trend\": 44782.0, \"yhat\": 51576.0}, {\"ds\": \"2020-11-30T00:00:00.000\", \"trend\": 45384.0, \"yhat\": 46274.0}, {\"ds\": \"2020-12-31T00:00:00.000\", \"trend\": 46005.0, \"yhat\": 32175.0}, {\"ds\": \"2021-01-31T00:00:00.000\", \"trend\": 46627.0, \"yhat\": 44474.0}, {\"ds\": \"2021-02-28T00:00:00.000\", \"trend\": 47188.0, \"yhat\": 41426.0}, {\"ds\": \"2021-03-31T00:00:00.000\", \"trend\": 47809.0, \"yhat\": 36357.0}, {\"ds\": \"2021-04-30T00:00:00.000\", \"trend\": 48411.0, \"yhat\": 52088.0}, {\"ds\": \"2021-05-31T00:00:00.000\", \"trend\": 49032.0, \"yhat\": 41782.0}, {\"ds\": \"2021-06-30T00:00:00.000\", \"trend\": 49633.0, \"yhat\": 43904.0}, {\"ds\": \"2021-07-31T00:00:00.000\", \"trend\": 50255.0, \"yhat\": 49791.0}, {\"ds\": \"2021-08-31T00:00:00.000\", \"trend\": 50876.0, \"yhat\": 57297.0}, {\"ds\": \"2021-09-30T00:00:00.000\", \"trend\": 51478.0, \"yhat\": 49622.0}, {\"ds\": \"2021-10-31T00:00:00.000\", \"trend\": 52100.0, \"yhat\": 51189.0}, {\"ds\": \"2021-11-30T00:00:00.000\", \"trend\": 52701.0, \"yhat\": 48057.0}, {\"ds\": \"2021-12-31T00:00:00.000\", \"trend\": 53323.0, \"yhat\": 46055.0}, {\"ds\": \"2022-01-31T00:00:00.000\", \"trend\": 53945.0, \"yhat\": 53367.0}, {\"ds\": \"2022-02-28T00:00:00.000\", \"trend\": 54507.0, \"yhat\": 47365.0}, {\"ds\": \"2022-03-31T00:00:00.000\", \"trend\": 55129.0, \"yhat\": 42925.0}, {\"ds\": \"2022-04-30T00:00:00.000\", \"trend\": 55730.0, \"yhat\": 54903.0}, {\"ds\": \"2022-05-31T00:00:00.000\", \"trend\": 56352.0, \"yhat\": 58392.0}, {\"ds\": \"2022-06-30T00:00:00.000\", \"trend\": 56954.0, \"yhat\": 47059.0}, {\"ds\": \"2022-07-31T00:00:00.000\", \"trend\": 57576.0, \"yhat\": 51449.0}, {\"ds\": \"2022-08-31T00:00:00.000\", \"trend\": 58198.0, \"yhat\": 67838.0}, {\"ds\": \"2022-09-30T00:00:00.000\", \"trend\": 58800.0, \"yhat\": 65839.0}, {\"ds\": \"2022-10-31T00:00:00.000\", \"trend\": 59422.0, \"yhat\": 50618.0}, {\"ds\": \"2022-11-30T00:00:00.000\", \"trend\": 60024.0, \"yhat\": 50020.0}, {\"ds\": \"2022-12-31T00:00:00.000\", \"trend\": 60646.0, \"yhat\": 60064.0}, {\"ds\": \"2023-01-31T00:00:00.000\", \"trend\": 61268.0, \"yhat\": 62189.0}, {\"ds\": \"2023-02-28T00:00:00.000\", \"trend\": 61829.0, \"yhat\": 53255.0}, {\"ds\": \"2023-03-31T00:00:00.000\", \"trend\": 62451.0, \"yhat\": 49476.0}, {\"ds\": \"2023-04-30T00:00:00.000\", \"trend\": 63053.0, \"yhat\": 57843.0}, {\"ds\": \"2023-05-31T00:00:00.000\", \"trend\": 63675.0, \"yhat\": 75003.0}, {\"ds\": \"2023-06-30T00:00:00.000\", \"trend\": 64277.0, \"yhat\": 50065.0}, {\"ds\": \"2023-07-31T00:00:00.000\", \"trend\": 64899.0, \"yhat\": 53215.0}, {\"ds\": \"2023-08-31T00:00:00.000\", \"trend\": 65521.0, \"yhat\": 78550.0}, {\"ds\": \"2023-09-30T00:00:00.000\", \"trend\": 66123.0, \"yhat\": 81894.0}, {\"ds\": \"2023-10-31T00:00:00.000\", \"trend\": 66745.0, \"yhat\": 49865.0}, {\"ds\": \"2023-11-30T00:00:00.000\", \"trend\": 67347.0, \"yhat\": 52166.0}, {\"ds\": \"2023-12-31T00:00:00.000\", \"trend\": 67969.0, \"yhat\": 74192.0}, {\"ds\": \"2024-01-31T00:00:00.000\", \"trend\": 68591.0, \"yhat\": 70936.0}, {\"ds\": \"2024-02-29T00:00:00.000\", \"trend\": 69173.0, \"yhat\": 64737.0}, {\"ds\": \"2024-03-31T00:00:00.000\", \"trend\": 69795.0, \"yhat\": 59071.0}, {\"ds\": \"2024-04-30T00:00:00.000\", \"trend\": 70397.0, \"yhat\": 78698.0}, {\"ds\": \"2024-05-31T00:00:00.000\", \"trend\": 71019.0, \"yhat\": 54486.0}, {\"ds\": \"2024-06-30T00:00:00.000\", \"trend\": 71621.0, \"yhat\": 69901.0}, {\"ds\": \"2024-07-31T00:00:00.000\", \"trend\": 72243.0, \"yhat\": 77540.0}, {\"ds\": \"2024-08-31T00:00:00.000\", \"trend\": 72865.0, \"yhat\": 76240.0}, {\"ds\": \"2024-09-30T00:00:00.000\", \"trend\": 73467.0, \"yhat\": 62562.0}, {\"ds\": \"2024-10-31T00:00:00.000\", \"trend\": 74089.0, \"yhat\": 80882.0}, {\"ds\": \"2024-11-30T00:00:00.000\", \"trend\": 74691.0, \"yhat\": 75581.0}], \"transform\": [{\"type\": \"formula\", \"expr\": \"toDate(datum['ds'])\", \"as\": \"ds\"}]}, {\"name\": \"data_0\", \"values\": [{\"ds\": \"2018-03-31T00:00:00.000\", \"yhat\": 13635.0}, {\"ds\": \"2018-04-30T00:00:00.000\", \"yhat\": 25613.0}, {\"ds\": \"2018-05-31T00:00:00.000\", \"yhat\": 29102.0}, {\"ds\": \"2018-06-30T00:00:00.000\", \"yhat\": 17768.0}, {\"ds\": \"2018-07-31T00:00:00.000\", \"yhat\": 22158.0}, {\"ds\": \"2018-08-31T00:00:00.000\", \"yhat\": 38547.0}, {\"ds\": \"2018-09-30T00:00:00.000\", \"yhat\": 36546.0}, {\"ds\": \"2018-10-31T00:00:00.000\", \"yhat\": 21325.0}, {\"ds\": \"2018-11-30T00:00:00.000\", \"yhat\": 20727.0}, {\"ds\": \"2018-12-31T00:00:00.000\", \"yhat\": 30770.0}, {\"ds\": \"2019-01-31T00:00:00.000\", \"yhat\": 32895.0}, {\"ds\": \"2019-02-28T00:00:00.000\", \"yhat\": 23960.0}, {\"ds\": \"2019-03-31T00:00:00.000\", \"yhat\": 20180.0}, {\"ds\": \"2019-04-30T00:00:00.000\", \"yhat\": 28547.0}, {\"ds\": \"2019-05-31T00:00:00.000\", \"yhat\": 45706.0}, {\"ds\": \"2019-06-30T00:00:00.000\", \"yhat\": 20768.0}, {\"ds\": \"2019-07-31T00:00:00.000\", \"yhat\": 23917.0}, {\"ds\": \"2019-08-31T00:00:00.000\", \"yhat\": 49252.0}, {\"ds\": \"2019-09-30T00:00:00.000\", \"yhat\": 52595.0}, {\"ds\": \"2019-10-31T00:00:00.000\", \"yhat\": 20566.0}, {\"ds\": \"2019-11-30T00:00:00.000\", \"yhat\": 22866.0}, {\"ds\": \"2019-12-31T00:00:00.000\", \"yhat\": 44891.0}, {\"ds\": \"2020-01-31T00:00:00.000\", \"yhat\": 41634.0}, {\"ds\": \"2020-02-29T00:00:00.000\", \"yhat\": 35435.0}, {\"ds\": \"2020-03-31T00:00:00.000\", \"yhat\": 29768.0}, {\"ds\": \"2020-04-30T00:00:00.000\", \"yhat\": 49395.0}, {\"ds\": \"2020-05-31T00:00:00.000\", \"yhat\": 25183.0}, {\"ds\": \"2020-06-30T00:00:00.000\", \"yhat\": 40597.0}, {\"ds\": \"2020-07-31T00:00:00.000\", \"yhat\": 48235.0}, {\"ds\": \"2020-08-31T00:00:00.000\", \"yhat\": 46935.0}, {\"ds\": \"2020-09-30T00:00:00.000\", \"yhat\": 33256.0}, {\"ds\": \"2020-10-31T00:00:00.000\", \"yhat\": 51576.0}, {\"ds\": \"2020-11-30T00:00:00.000\", \"yhat\": 46274.0}, {\"ds\": \"2020-12-31T00:00:00.000\", \"yhat\": 32175.0}, {\"ds\": \"2021-01-31T00:00:00.000\", \"yhat\": 44474.0}, {\"ds\": \"2021-02-28T00:00:00.000\", \"yhat\": 41426.0}, {\"ds\": \"2021-03-31T00:00:00.000\", \"yhat\": 36357.0}, {\"ds\": \"2021-04-30T00:00:00.000\", \"yhat\": 52088.0}, {\"ds\": \"2021-05-31T00:00:00.000\", \"yhat\": 41782.0}, {\"ds\": \"2021-06-30T00:00:00.000\", \"yhat\": 43904.0}, {\"ds\": \"2021-07-31T00:00:00.000\", \"yhat\": 49791.0}, {\"ds\": \"2021-08-31T00:00:00.000\", \"yhat\": 57297.0}, {\"ds\": \"2021-09-30T00:00:00.000\", \"yhat\": 49622.0}, {\"ds\": \"2021-10-31T00:00:00.000\", \"yhat\": 51189.0}, {\"ds\": \"2021-11-30T00:00:00.000\", \"yhat\": 48057.0}, {\"ds\": \"2021-12-31T00:00:00.000\", \"yhat\": 46055.0}, {\"ds\": \"2022-01-31T00:00:00.000\", \"yhat\": 53367.0}, {\"ds\": \"2022-02-28T00:00:00.000\", \"yhat\": 47365.0}, {\"ds\": \"2022-03-31T00:00:00.000\", \"yhat\": 42925.0}, {\"ds\": \"2022-04-30T00:00:00.000\", \"yhat\": 54903.0}, {\"ds\": \"2022-05-31T00:00:00.000\", \"yhat\": 58392.0}, {\"ds\": \"2022-06-30T00:00:00.000\", \"yhat\": 47059.0}, {\"ds\": \"2022-07-31T00:00:00.000\", \"yhat\": 51449.0}, {\"ds\": \"2022-08-31T00:00:00.000\", \"yhat\": 67838.0}, {\"ds\": \"2022-09-30T00:00:00.000\", \"yhat\": 65839.0}, {\"ds\": \"2022-10-31T00:00:00.000\", \"yhat\": 50618.0}, {\"ds\": \"2022-11-30T00:00:00.000\", \"yhat\": 50020.0}, {\"ds\": \"2022-12-31T00:00:00.000\", \"yhat\": 60064.0}, {\"ds\": \"2023-01-31T00:00:00.000\", \"yhat\": 62189.0}, {\"ds\": \"2023-02-28T00:00:00.000\", \"yhat\": 53255.0}, {\"ds\": \"2023-03-31T00:00:00.000\", \"yhat\": 49476.0}, {\"ds\": \"2023-04-30T00:00:00.000\", \"yhat\": 57843.0}, {\"ds\": \"2023-05-31T00:00:00.000\", \"yhat\": 75003.0}, {\"ds\": \"2023-06-30T00:00:00.000\", \"yhat\": 50065.0}, {\"ds\": \"2023-07-31T00:00:00.000\", \"yhat\": 53215.0}, {\"ds\": \"2023-08-31T00:00:00.000\", \"yhat\": 78550.0}, {\"ds\": \"2023-09-30T00:00:00.000\", \"yhat\": 81894.0}, {\"ds\": \"2023-10-31T00:00:00.000\", \"yhat\": 49865.0}, {\"ds\": \"2023-11-30T00:00:00.000\", \"yhat\": 52166.0}, {\"ds\": \"2023-12-31T00:00:00.000\", \"yhat\": 74192.0}, {\"ds\": \"2024-01-31T00:00:00.000\", \"yhat\": 70936.0}, {\"ds\": \"2024-02-29T00:00:00.000\", \"yhat\": 64737.0}, {\"ds\": \"2024-03-31T00:00:00.000\", \"yhat\": 59071.0}, {\"ds\": \"2024-04-30T00:00:00.000\", \"yhat\": 78698.0}, {\"ds\": \"2024-05-31T00:00:00.000\", \"yhat\": 54486.0}, {\"ds\": \"2024-06-30T00:00:00.000\", \"yhat\": 69901.0}, {\"ds\": \"2024-07-31T00:00:00.000\", \"yhat\": 77540.0}, {\"ds\": \"2024-08-31T00:00:00.000\", \"yhat\": 76240.0}, {\"ds\": \"2024-09-30T00:00:00.000\", \"yhat\": 62562.0}, {\"ds\": \"2024-10-31T00:00:00.000\", \"yhat\": 80882.0}, {\"ds\": \"2024-11-30T00:00:00.000\", \"yhat\": 75581.0}], \"transform\": [{\"type\": \"formula\", \"expr\": \"toDate(datum['ds'])\", \"as\": \"ds\"}]}], \"signals\": [{\"name\": \"unit\", \"value\": {}, \"on\": [{\"events\": \"pointermove\", \"update\": \"isTuple(group()) ? group() : unit\"}]}, {\"name\": \"param_2\", \"update\": \"vlSelectionResolve(\\\"param_2_store\\\", \\\"union\\\")\"}, {\"name\": \"param_2_ds\", \"on\": [{\"events\": [{\"source\": \"view\", \"type\": \"dblclick\"}], \"update\": \"null\"}, {\"events\": {\"signal\": \"param_2_translate_delta\"}, \"update\": \"panLinear(param_2_translate_anchor.extent_x, -param_2_translate_delta.x / width)\"}, {\"events\": {\"signal\": \"param_2_zoom_delta\"}, \"update\": \"zoomLinear(domain(\\\"x\\\"), param_2_zoom_anchor.x, param_2_zoom_delta)\"}]}, {\"name\": \"param_2_trend\", \"on\": [{\"events\": [{\"source\": \"view\", \"type\": \"dblclick\"}], \"update\": \"null\"}, {\"events\": {\"signal\": \"param_2_translate_delta\"}, \"update\": \"panLinear(param_2_translate_anchor.extent_y, param_2_translate_delta.y / height)\"}, {\"events\": {\"signal\": \"param_2_zoom_delta\"}, \"update\": \"zoomLinear(domain(\\\"y\\\"), param_2_zoom_anchor.y, param_2_zoom_delta)\"}]}, {\"name\": \"param_2_tuple\", \"on\": [{\"events\": [{\"signal\": \"param_2_ds || param_2_trend\"}], \"update\": \"param_2_ds && param_2_trend ? {unit: \\\"view_1\\\", fields: param_2_tuple_fields, values: [param_2_ds,param_2_trend]} : null\"}]}, {\"name\": \"param_2_tuple_fields\", \"value\": [{\"field\": \"ds\", \"channel\": \"x\", \"type\": \"R\"}, {\"field\": \"trend\", \"channel\": \"y\", \"type\": \"R\"}]}, {\"name\": \"param_2_translate_anchor\", \"value\": {}, \"on\": [{\"events\": [{\"source\": \"scope\", \"type\": \"pointerdown\"}], \"update\": \"{x: x(unit), y: y(unit), extent_x: domain(\\\"x\\\"), extent_y: domain(\\\"y\\\")}\"}]}, {\"name\": \"param_2_translate_delta\", \"value\": {}, \"on\": [{\"events\": [{\"source\": \"window\", \"between\": [{\"source\": \"scope\", \"type\": \"pointerdown\"}, {\"source\": \"window\", \"type\": \"pointerup\"}], \"consume\": true, \"type\": \"pointermove\"}], \"update\": \"{x: param_2_translate_anchor.x - x(unit), y: param_2_translate_anchor.y - y(unit)}\"}]}, {\"name\": \"param_2_zoom_anchor\", \"on\": [{\"events\": [{\"source\": \"scope\", \"consume\": true, \"type\": \"wheel\"}], \"update\": \"{x: invert(\\\"x\\\", x(unit)), y: invert(\\\"y\\\", y(unit))}\"}]}, {\"name\": \"param_2_zoom_delta\", \"on\": [{\"events\": [{\"source\": \"scope\", \"type\": \"wheel\", \"consume\": true}], \"update\": \"pow(1.001, event.deltaY * pow(16, event.deltaMode))\", \"force\": true}]}, {\"name\": \"param_2_modify\", \"on\": [{\"events\": {\"signal\": \"param_2_tuple\"}, \"update\": \"modify(\\\"param_2_store\\\", param_2_tuple, true)\"}]}], \"marks\": [{\"type\": \"line\", \"name\": \"view_1_marks\", \"from\": {\"data\": \"source_0\"}, \"sort\": {\"field\": \"datum[\\\"ds\\\"]\"}, \"encode\": {\"update\": {\"stroke\": {\"value\": \"green\"}, \"x\": {\"field\": \"ds\", \"scale\": \"x\"}, \"y\": {\"field\": \"trend\", \"scale\": \"y\"}, \"defined\": {\"signal\": \"isValid(datum[\\\"ds\\\"]) && isFinite(+datum[\\\"ds\\\"]) && isValid(datum[\\\"trend\\\"]) && isFinite(+datum[\\\"trend\\\"])\"}}}, \"style\": [\"line\"], \"interactive\": true, \"clip\": true}, {\"type\": \"symbol\", \"name\": \"layer_1_marks\", \"from\": {\"data\": \"data_0\"}, \"encode\": {\"update\": {\"y\": {\"field\": \"yhat\", \"scale\": \"y\"}, \"x\": {\"field\": \"ds\", \"scale\": \"x\"}, \"shape\": {\"value\": \"circle\"}, \"opacity\": {\"value\": 0.7}, \"fill\": {\"value\": \"#4c78a8\"}}}, \"clip\": true, \"style\": [\"circle\"], \"interactive\": false}], \"scales\": [{\"name\": \"x\", \"type\": \"time\", \"domain\": {\"fields\": [{\"data\": \"source_0\", \"field\": \"ds\"}, {\"data\": \"data_0\", \"field\": \"ds\"}]}, \"range\": [0, {\"signal\": \"width\"}], \"domainRaw\": {\"signal\": \"param_2[\\\"ds\\\"]\"}}, {\"name\": \"y\", \"type\": \"linear\", \"domain\": {\"fields\": [{\"data\": \"source_0\", \"field\": \"trend\"}, {\"data\": \"data_0\", \"field\": \"yhat\"}]}, \"range\": [{\"signal\": \"height\"}, 0], \"zero\": true, \"domainRaw\": {\"signal\": \"param_2[\\\"trend\\\"]\"}, \"nice\": true}], \"axes\": [{\"scale\": \"x\", \"gridScale\": \"y\", \"grid\": true, \"maxExtent\": 0, \"ticks\": false, \"aria\": false, \"orient\": \"bottom\", \"zindex\": 0, \"minExtent\": 0, \"domain\": false, \"labels\": false, \"tickCount\": {\"signal\": \"ceil(width/40)\"}}, {\"scale\": \"y\", \"aria\": false, \"grid\": true, \"minExtent\": 0, \"ticks\": false, \"domain\": false, \"labels\": false, \"zindex\": 0, \"tickCount\": {\"signal\": \"ceil(height/40)\"}, \"gridScale\": \"x\", \"orient\": \"left\", \"maxExtent\": 0}, {\"scale\": \"x\", \"title\": \"ds\", \"labelOverlap\": true, \"format\": \"%b-%Y\", \"zindex\": 0, \"orient\": \"bottom\", \"grid\": false, \"labelFlush\": true, \"tickCount\": {\"signal\": \"ceil(width/40)\"}}, {\"scale\": \"y\", \"labelOverlap\": true, \"grid\": false, \"tickCount\": {\"signal\": \"ceil(height/40)\"}, \"title\": \"trend, yhat\", \"zindex\": 0, \"orient\": \"left\"}], \"height\": 300, \"style\": \"cell\", \"background\": \"white\", \"padding\": 5, \"width\": 800}, {\"mode\": \"vega\"});\n",
       "</script>"
      ],
      "text/plain": [
       "alt.LayerChart(...)"
      ]
     },
     "execution_count": 4,
     "metadata": {},
     "output_type": "execute_result"
    }
   ],
   "source": [
    "exp.monthly_projection().properties(width=800)"
   ]
  },
  {
   "cell_type": "markdown",
   "metadata": {},
   "source": [
    "## Monthly distribution"
   ]
  },
  {
   "cell_type": "code",
   "execution_count": 5,
   "metadata": {},
   "outputs": [
    {
     "data": {
      "text/html": [
       "\n",
       "<style>\n",
       "  #altair-viz-480af5493fa24bed9805d338b2cd63a8.vega-embed {\n",
       "    width: 100%;\n",
       "    display: flex;\n",
       "  }\n",
       "\n",
       "  #altair-viz-480af5493fa24bed9805d338b2cd63a8.vega-embed details,\n",
       "  #altair-viz-480af5493fa24bed9805d338b2cd63a8.vega-embed details summary {\n",
       "    position: relative;\n",
       "  }\n",
       "</style>\n",
       "<div id=\"altair-viz-480af5493fa24bed9805d338b2cd63a8\"></div>\n",
       "<script type=\"text/javascript\">\n",
       "  var VEGA_DEBUG = (typeof VEGA_DEBUG == \"undefined\") ? {} : VEGA_DEBUG;\n",
       "  (function(spec, embedOpt){\n",
       "    let outputDiv = document.currentScript.previousElementSibling;\n",
       "    if (outputDiv.id !== \"altair-viz-480af5493fa24bed9805d338b2cd63a8\") {\n",
       "      outputDiv = document.getElementById(\"altair-viz-480af5493fa24bed9805d338b2cd63a8\");\n",
       "    }\n",
       "    const paths = {\n",
       "      \"vega\": \"https://cdn.jsdelivr.net/npm/vega@5?noext\",\n",
       "      \"vega-lib\": \"https://cdn.jsdelivr.net/npm/vega-lib?noext\",\n",
       "      \"vega-lite\": \"https://cdn.jsdelivr.net/npm/vega-lite@5.17.0?noext\",\n",
       "      \"vega-embed\": \"https://cdn.jsdelivr.net/npm/vega-embed@6?noext\",\n",
       "    };\n",
       "\n",
       "    function maybeLoadScript(lib, version) {\n",
       "      var key = `${lib.replace(\"-\", \"\")}_version`;\n",
       "      return (VEGA_DEBUG[key] == version) ?\n",
       "        Promise.resolve(paths[lib]) :\n",
       "        new Promise(function(resolve, reject) {\n",
       "          var s = document.createElement('script');\n",
       "          document.getElementsByTagName(\"head\")[0].appendChild(s);\n",
       "          s.async = true;\n",
       "          s.onload = () => {\n",
       "            VEGA_DEBUG[key] = version;\n",
       "            return resolve(paths[lib]);\n",
       "          };\n",
       "          s.onerror = () => reject(`Error loading script: ${paths[lib]}`);\n",
       "          s.src = paths[lib];\n",
       "        });\n",
       "    }\n",
       "\n",
       "    function showError(err) {\n",
       "      outputDiv.innerHTML = `<div class=\"error\" style=\"color:red;\">${err}</div>`;\n",
       "      throw err;\n",
       "    }\n",
       "\n",
       "    function displayChart(vegaEmbed) {\n",
       "      vegaEmbed(outputDiv, spec, embedOpt)\n",
       "        .catch(err => showError(`Javascript Error: ${err.message}<br>This usually means there's a typo in your chart specification. See the javascript console for the full traceback.`));\n",
       "    }\n",
       "\n",
       "    if(typeof define === \"function\" && define.amd) {\n",
       "      requirejs.config({paths});\n",
       "      require([\"vega-embed\"], displayChart, err => showError(`Error loading script: ${err.message}`));\n",
       "    } else {\n",
       "      maybeLoadScript(\"vega\", \"5\")\n",
       "        .then(() => maybeLoadScript(\"vega-lite\", \"5.17.0\"))\n",
       "        .then(() => maybeLoadScript(\"vega-embed\", \"6\"))\n",
       "        .catch(showError)\n",
       "        .then(() => displayChart(vegaEmbed));\n",
       "    }\n",
       "  })({\"$schema\": \"https://vega.github.io/schema/vega/v5.json\", \"data\": [{\"name\": \"param_3_store\"}, {\"name\": \"source_0\", \"values\": [{\"__count\": 4, \"bin_maxbins_10_price\": 10000.0, \"bin_maxbins_10_price_end\": 20000.0}, {\"__count\": 14, \"bin_maxbins_10_price\": 30000.0, \"bin_maxbins_10_price_end\": 40000.0}, {\"__count\": 18, \"bin_maxbins_10_price\": 20000.0, \"bin_maxbins_10_price_end\": 30000.0}, {\"__count\": 13, \"bin_maxbins_10_price\": 50000.0, \"bin_maxbins_10_price_end\": 60000.0}, {\"__count\": 11, \"bin_maxbins_10_price\": 40000.0, \"bin_maxbins_10_price_end\": 50000.0}, {\"__count\": 8, \"bin_maxbins_10_price\": 60000.0, \"bin_maxbins_10_price_end\": 70000.0}, {\"__count\": 1, \"bin_maxbins_10_price\": 80000.0, \"bin_maxbins_10_price_end\": 90000.0}, {\"__count\": 2, \"bin_maxbins_10_price\": 70000.0, \"bin_maxbins_10_price_end\": 80000.0}, {\"__count\": 1, \"bin_maxbins_10_price\": 110000.0, \"bin_maxbins_10_price_end\": 120000.0}, {\"__count\": 3, \"bin_maxbins_10_price\": 90000.0, \"bin_maxbins_10_price_end\": 100000.0}, {\"__count\": 1, \"bin_maxbins_10_price\": 100000.0, \"bin_maxbins_10_price_end\": 110000.0}]}, {\"name\": \"source_0_y_domain___count\", \"values\": [{\"min\": 1, \"max\": 18}]}], \"signals\": [{\"name\": \"bin_maxbins_10_price_bins\", \"value\": {\"fields\": [\"price\"], \"fname\": \"bin_price\", \"start\": 10000.0, \"step\": 10000.0, \"stop\": 120000.0}}, {\"name\": \"unit\", \"value\": {}, \"on\": [{\"events\": \"pointermove\", \"update\": \"isTuple(group()) ? group() : unit\"}]}, {\"name\": \"param_3\", \"update\": \"vlSelectionResolve(\\\"param_3_store\\\", \\\"union\\\")\"}, {\"name\": \"param_3_price\", \"on\": [{\"events\": [{\"source\": \"view\", \"type\": \"dblclick\"}], \"update\": \"null\"}, {\"events\": {\"signal\": \"param_3_translate_delta\"}, \"update\": \"panLinear(param_3_translate_anchor.extent_x, -param_3_translate_delta.x / width)\"}, {\"events\": {\"signal\": \"param_3_zoom_delta\"}, \"update\": \"zoomLinear(domain(\\\"x\\\"), param_3_zoom_anchor.x, param_3_zoom_delta)\"}]}, {\"name\": \"param_3_tuple\", \"on\": [{\"events\": [{\"signal\": \"param_3_price\"}], \"update\": \"param_3_price ? {unit: \\\"\\\", fields: param_3_tuple_fields, values: [param_3_price]} : null\"}]}, {\"name\": \"param_3_tuple_fields\", \"value\": [{\"field\": \"price\", \"channel\": \"x\", \"type\": \"R\"}]}, {\"name\": \"param_3_translate_anchor\", \"value\": {}, \"on\": [{\"events\": [{\"source\": \"scope\", \"type\": \"pointerdown\"}], \"update\": \"{x: x(unit), y: y(unit), extent_x: domain(\\\"x\\\")}\"}]}, {\"name\": \"param_3_translate_delta\", \"value\": {}, \"on\": [{\"events\": [{\"source\": \"window\", \"between\": [{\"source\": \"scope\", \"type\": \"pointerdown\"}, {\"source\": \"window\", \"type\": \"pointerup\"}], \"type\": \"pointermove\", \"consume\": true}], \"update\": \"{x: param_3_translate_anchor.x - x(unit), y: param_3_translate_anchor.y - y(unit)}\"}]}, {\"name\": \"param_3_zoom_anchor\", \"on\": [{\"events\": [{\"source\": \"scope\", \"consume\": true, \"type\": \"wheel\"}], \"update\": \"{x: invert(\\\"x\\\", x(unit)), y: invert(\\\"y\\\", y(unit))}\"}]}, {\"name\": \"param_3_zoom_delta\", \"on\": [{\"events\": [{\"source\": \"scope\", \"consume\": true, \"type\": \"wheel\"}], \"update\": \"pow(1.001, event.deltaY * pow(16, event.deltaMode))\", \"force\": true}]}, {\"name\": \"param_3_modify\", \"on\": [{\"events\": {\"signal\": \"param_3_tuple\"}, \"update\": \"modify(\\\"param_3_store\\\", param_3_tuple, true)\"}]}], \"marks\": [{\"type\": \"rect\", \"name\": \"marks\", \"from\": {\"data\": \"source_0\"}, \"encode\": {\"update\": {\"fill\": {\"value\": \"green\"}, \"x2\": {\"field\": \"bin_maxbins_10_price\", \"scale\": \"x\", \"offset\": {\"signal\": \"0.5 + (abs(scale(\\\"x\\\", datum[\\\"bin_maxbins_10_price_end\\\"]) - scale(\\\"x\\\", datum[\\\"bin_maxbins_10_price\\\"])) < 0.25 ? -0.5 * (0.25 - (abs(scale(\\\"x\\\", datum[\\\"bin_maxbins_10_price_end\\\"]) - scale(\\\"x\\\", datum[\\\"bin_maxbins_10_price\\\"])))) : 0.5)\"}}, \"x\": {\"field\": \"bin_maxbins_10_price_end\", \"scale\": \"x\", \"offset\": {\"signal\": \"0.5 + (abs(scale(\\\"x\\\", datum[\\\"bin_maxbins_10_price_end\\\"]) - scale(\\\"x\\\", datum[\\\"bin_maxbins_10_price\\\"])) < 0.25 ? 0.5 * (0.25 - (abs(scale(\\\"x\\\", datum[\\\"bin_maxbins_10_price_end\\\"]) - scale(\\\"x\\\", datum[\\\"bin_maxbins_10_price\\\"])))) : -0.5)\"}}, \"y\": {\"field\": \"__count\", \"scale\": \"y\"}, \"y2\": {\"value\": 0, \"scale\": \"y\"}}}, \"style\": [\"bar\"], \"interactive\": true, \"clip\": true}], \"scales\": [{\"name\": \"x\", \"type\": \"linear\", \"domain\": {\"signal\": \"[bin_maxbins_10_price_bins.start, bin_maxbins_10_price_bins.stop]\"}, \"range\": [0, {\"signal\": \"width\"}], \"bins\": {\"signal\": \"bin_maxbins_10_price_bins\"}, \"domainRaw\": {\"signal\": \"param_3[\\\"price\\\"]\"}, \"zero\": false}, {\"name\": \"y\", \"type\": \"linear\", \"domain\": [{\"signal\": \"(data(\\\"source_0_y_domain___count\\\")[0] || {}).min\"}, {\"signal\": \"(data(\\\"source_0_y_domain___count\\\")[0] || {}).max\"}], \"range\": [{\"signal\": \"height\"}, 0], \"nice\": true, \"zero\": true}], \"axes\": [{\"scale\": \"y\", \"tickCount\": {\"signal\": \"ceil(height/40)\"}, \"aria\": false, \"domain\": false, \"orient\": \"left\", \"maxExtent\": 0, \"minExtent\": 0, \"gridScale\": \"x\", \"labels\": false, \"zindex\": 0, \"ticks\": false, \"grid\": true}, {\"scale\": \"x\", \"labelOverlap\": true, \"grid\": false, \"orient\": \"bottom\", \"title\": \"price (binned)\", \"labelFlush\": true, \"tickCount\": {\"signal\": \"ceil(width/10)\"}, \"zindex\": 0}, {\"scale\": \"y\", \"orient\": \"left\", \"zindex\": 0, \"labelOverlap\": true, \"tickCount\": {\"signal\": \"ceil(height/40)\"}, \"grid\": false, \"title\": \"Count of Records\"}], \"background\": \"white\", \"style\": \"cell\", \"padding\": 5, \"height\": 300, \"width\": 600}, {\"mode\": \"vega\"});\n",
       "</script>"
      ],
      "text/plain": [
       "alt.Chart(...)"
      ]
     },
     "execution_count": 5,
     "metadata": {},
     "output_type": "execute_result"
    }
   ],
   "source": [
    "exp.distribution()"
   ]
  },
  {
   "cell_type": "code",
   "execution_count": 8,
   "metadata": {},
   "outputs": [
    {
     "data": {
      "text/markdown": [
       "Mean: Rs.45651"
      ],
      "text/plain": [
       "<IPython.core.display.Markdown object>"
      ]
     },
     "execution_count": 8,
     "metadata": {},
     "output_type": "execute_result"
    }
   ],
   "source": [
    "md(f\"Mean: Rs.{exp.monthly_stats['mean']}\")"
   ]
  },
  {
   "cell_type": "code",
   "execution_count": 9,
   "metadata": {},
   "outputs": [
    {
     "data": {
      "text/markdown": [
       "Weighted Mean: Rs.15381.560542535932"
      ],
      "text/plain": [
       "<IPython.core.display.Markdown object>"
      ]
     },
     "execution_count": 9,
     "metadata": {},
     "output_type": "execute_result"
    }
   ],
   "source": [
    "md(f\"Weighted Mean: Rs.{exp.monthly_stats['weighted_mean']}\")"
   ]
  },
  {
   "cell_type": "code",
   "execution_count": 10,
   "metadata": {},
   "outputs": [
    {
     "data": {
      "text/markdown": [
       "Geometric Mean: Rs.41075"
      ],
      "text/plain": [
       "<IPython.core.display.Markdown object>"
      ]
     },
     "execution_count": 10,
     "metadata": {},
     "output_type": "execute_result"
    }
   ],
   "source": [
    "md(f\"Geometric Mean: Rs.{exp.monthly_stats['geo_mean']}\")"
   ]
  },
  {
   "cell_type": "code",
   "execution_count": 11,
   "metadata": {},
   "outputs": [
    {
     "data": {
      "text/markdown": [
       "Median of **Rs.40772 $±$ Rs.21885**"
      ],
      "text/plain": [
       "<IPython.core.display.Markdown object>"
      ]
     },
     "execution_count": 11,
     "metadata": {},
     "output_type": "execute_result"
    }
   ],
   "source": [
    "md(f\"Median of **Rs.{exp.monthly_stats['median']} $±$ Rs.{exp.monthly_stats['sd']}**\")"
   ]
  }
 ],
 "metadata": {
  "kernelspec": {
   "display_name": "Python 3 (ipykernel)",
   "language": "python",
   "name": "python3"
  },
  "language_info": {
   "codemirror_mode": {
    "name": "ipython",
    "version": 3
   },
   "file_extension": ".py",
   "mimetype": "text/x-python",
   "name": "python",
   "nbconvert_exporter": "python",
   "pygments_lexer": "ipython3",
   "version": "3.11.3"
  }
 },
 "nbformat": 4,
 "nbformat_minor": 4
}
